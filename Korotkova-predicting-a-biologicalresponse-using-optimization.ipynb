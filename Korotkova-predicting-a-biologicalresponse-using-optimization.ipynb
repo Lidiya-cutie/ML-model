{
 "cells": [
  {
   "attachments": {},
   "cell_type": "markdown",
   "id": "5c2b4e3e",
   "metadata": {},
   "source": [
    "# Optimization of hyperparameters to predicting a Biological Response (from Kaggle) "
   ]
  },
  {
   "cell_type": "markdown",
   "id": "d9845e27",
   "metadata": {
    "papermill": {
     "duration": 0.018183,
     "end_time": "2022-12-14T23:04:48.714622",
     "exception": false,
     "start_time": "2022-12-14T23:04:48.696439",
     "status": "completed"
    },
    "tags": []
   },
   "source": [
    "# Import Libraries"
   ]
  },
  {
   "cell_type": "code",
   "execution_count": 3,
   "id": "531ae95e",
   "metadata": {
    "execution": {
     "iopub.execute_input": "2022-12-14T23:04:48.753877Z",
     "iopub.status.busy": "2022-12-14T23:04:48.752780Z",
     "iopub.status.idle": "2022-12-14T23:04:50.500405Z",
     "shell.execute_reply": "2022-12-14T23:04:50.498977Z"
    },
    "papermill": {
     "duration": 1.770866,
     "end_time": "2022-12-14T23:04:50.503896",
     "exception": false,
     "start_time": "2022-12-14T23:04:48.733030",
     "status": "completed"
    },
    "tags": []
   },
   "outputs": [
    {
     "name": "stderr",
     "output_type": "stream",
     "text": [
      "C:\\Users\\Lida\\AppData\\Local\\Temp\\ipykernel_13084\\2480930410.py:15: MatplotlibDeprecationWarning: The seaborn styles shipped by Matplotlib are deprecated since 3.6, as they no longer correspond to the styles shipped by seaborn. However, they will remain available as 'seaborn-v0_8-<style>'. Alternatively, directly use the seaborn API instead.\n",
      "  plt.style.use('seaborn')\n"
     ]
    }
   ],
   "source": [
    "#import libraries\n",
    "import numpy as np #for matrix calculations\n",
    "import pandas as pd #for data analysis and preprocessing\n",
    "import matplotlib.pyplot as plt #for visualization\n",
    "import seaborn as sns #for visualization\n",
    "\n",
    "from sklearn import linear_model #linear models\n",
    "from sklearn import tree #decision trees\n",
    "from sklearn import ensemble #ensembles\n",
    "from sklearn import metrics #metrics\n",
    "from sklearn import preprocessing #preprocessing\n",
    "from sklearn.model_selection import train_test_split #selection split\n",
    "\n",
    "%matplotlib inline\n",
    "plt.style.use('seaborn')"
   ]
  },
  {
   "cell_type": "markdown",
   "id": "58989895",
   "metadata": {
    "papermill": {
     "duration": 0.012553,
     "end_time": "2022-12-14T23:04:50.529455",
     "exception": false,
     "start_time": "2022-12-14T23:04:50.516902",
     "status": "completed"
    },
    "tags": []
   },
   "source": [
    "# Read Data"
   ]
  },
  {
   "cell_type": "code",
   "execution_count": 4,
   "id": "0e6bbb18",
   "metadata": {
    "execution": {
     "iopub.execute_input": "2022-12-14T23:04:50.557960Z",
     "iopub.status.busy": "2022-12-14T23:04:50.557140Z",
     "iopub.status.idle": "2022-12-14T23:04:52.484569Z",
     "shell.execute_reply": "2022-12-14T23:04:52.483171Z"
    },
    "papermill": {
     "duration": 1.945422,
     "end_time": "2022-12-14T23:04:52.487968",
     "exception": false,
     "start_time": "2022-12-14T23:04:50.542546",
     "status": "completed"
    },
    "tags": []
   },
   "outputs": [],
   "source": [
    "train_data=pd.read_csv('data/train_sem.zip')\n"
   ]
  },
  {
   "attachments": {},
   "cell_type": "markdown",
   "id": "c60b5307",
   "metadata": {
    "papermill": {
     "duration": 0.012679,
     "end_time": "2022-12-14T23:04:52.513928",
     "exception": false,
     "start_time": "2022-12-14T23:04:52.501249",
     "status": "completed"
    },
    "tags": []
   },
   "source": [
    "# Show 3 frist row in data"
   ]
  },
  {
   "cell_type": "code",
   "execution_count": 5,
   "id": "997e0c83",
   "metadata": {
    "execution": {
     "iopub.execute_input": "2022-12-14T23:04:52.544415Z",
     "iopub.status.busy": "2022-12-14T23:04:52.543909Z",
     "iopub.status.idle": "2022-12-14T23:04:52.582059Z",
     "shell.execute_reply": "2022-12-14T23:04:52.580933Z"
    },
    "papermill": {
     "duration": 0.05729,
     "end_time": "2022-12-14T23:04:52.585113",
     "exception": false,
     "start_time": "2022-12-14T23:04:52.527823",
     "status": "completed"
    },
    "tags": []
   },
   "outputs": [
    {
     "data": {
      "text/html": [
       "<div>\n",
       "<style scoped>\n",
       "    .dataframe tbody tr th:only-of-type {\n",
       "        vertical-align: middle;\n",
       "    }\n",
       "\n",
       "    .dataframe tbody tr th {\n",
       "        vertical-align: top;\n",
       "    }\n",
       "\n",
       "    .dataframe thead th {\n",
       "        text-align: right;\n",
       "    }\n",
       "</style>\n",
       "<table border=\"1\" class=\"dataframe\">\n",
       "  <thead>\n",
       "    <tr style=\"text-align: right;\">\n",
       "      <th></th>\n",
       "      <th>Activity</th>\n",
       "      <th>D1</th>\n",
       "      <th>D2</th>\n",
       "      <th>D3</th>\n",
       "      <th>D4</th>\n",
       "      <th>D5</th>\n",
       "      <th>D6</th>\n",
       "      <th>D7</th>\n",
       "      <th>D8</th>\n",
       "      <th>D9</th>\n",
       "      <th>...</th>\n",
       "      <th>D1767</th>\n",
       "      <th>D1768</th>\n",
       "      <th>D1769</th>\n",
       "      <th>D1770</th>\n",
       "      <th>D1771</th>\n",
       "      <th>D1772</th>\n",
       "      <th>D1773</th>\n",
       "      <th>D1774</th>\n",
       "      <th>D1775</th>\n",
       "      <th>D1776</th>\n",
       "    </tr>\n",
       "  </thead>\n",
       "  <tbody>\n",
       "    <tr>\n",
       "      <th>0</th>\n",
       "      <td>1</td>\n",
       "      <td>0.000000</td>\n",
       "      <td>0.497009</td>\n",
       "      <td>0.10</td>\n",
       "      <td>0.0</td>\n",
       "      <td>0.132956</td>\n",
       "      <td>0.678031</td>\n",
       "      <td>0.273166</td>\n",
       "      <td>0.585445</td>\n",
       "      <td>0.743663</td>\n",
       "      <td>...</td>\n",
       "      <td>0</td>\n",
       "      <td>0</td>\n",
       "      <td>0</td>\n",
       "      <td>0</td>\n",
       "      <td>0</td>\n",
       "      <td>0</td>\n",
       "      <td>0</td>\n",
       "      <td>0</td>\n",
       "      <td>0</td>\n",
       "      <td>0</td>\n",
       "    </tr>\n",
       "    <tr>\n",
       "      <th>1</th>\n",
       "      <td>1</td>\n",
       "      <td>0.366667</td>\n",
       "      <td>0.606291</td>\n",
       "      <td>0.05</td>\n",
       "      <td>0.0</td>\n",
       "      <td>0.111209</td>\n",
       "      <td>0.803455</td>\n",
       "      <td>0.106105</td>\n",
       "      <td>0.411754</td>\n",
       "      <td>0.836582</td>\n",
       "      <td>...</td>\n",
       "      <td>1</td>\n",
       "      <td>1</td>\n",
       "      <td>1</td>\n",
       "      <td>1</td>\n",
       "      <td>0</td>\n",
       "      <td>1</td>\n",
       "      <td>0</td>\n",
       "      <td>0</td>\n",
       "      <td>1</td>\n",
       "      <td>0</td>\n",
       "    </tr>\n",
       "    <tr>\n",
       "      <th>2</th>\n",
       "      <td>1</td>\n",
       "      <td>0.033300</td>\n",
       "      <td>0.480124</td>\n",
       "      <td>0.00</td>\n",
       "      <td>0.0</td>\n",
       "      <td>0.209791</td>\n",
       "      <td>0.610350</td>\n",
       "      <td>0.356453</td>\n",
       "      <td>0.517720</td>\n",
       "      <td>0.679051</td>\n",
       "      <td>...</td>\n",
       "      <td>0</td>\n",
       "      <td>0</td>\n",
       "      <td>0</td>\n",
       "      <td>0</td>\n",
       "      <td>0</td>\n",
       "      <td>0</td>\n",
       "      <td>0</td>\n",
       "      <td>0</td>\n",
       "      <td>0</td>\n",
       "      <td>0</td>\n",
       "    </tr>\n",
       "  </tbody>\n",
       "</table>\n",
       "<p>3 rows × 1777 columns</p>\n",
       "</div>"
      ],
      "text/plain": [
       "   Activity        D1        D2    D3   D4        D5        D6        D7  \\\n",
       "0         1  0.000000  0.497009  0.10  0.0  0.132956  0.678031  0.273166   \n",
       "1         1  0.366667  0.606291  0.05  0.0  0.111209  0.803455  0.106105   \n",
       "2         1  0.033300  0.480124  0.00  0.0  0.209791  0.610350  0.356453   \n",
       "\n",
       "         D8        D9  ...  D1767  D1768  D1769  D1770  D1771  D1772  D1773  \\\n",
       "0  0.585445  0.743663  ...      0      0      0      0      0      0      0   \n",
       "1  0.411754  0.836582  ...      1      1      1      1      0      1      0   \n",
       "2  0.517720  0.679051  ...      0      0      0      0      0      0      0   \n",
       "\n",
       "   D1774  D1775  D1776  \n",
       "0      0      0      0  \n",
       "1      0      1      0  \n",
       "2      0      0      0  \n",
       "\n",
       "[3 rows x 1777 columns]"
      ]
     },
     "execution_count": 5,
     "metadata": {},
     "output_type": "execute_result"
    }
   ],
   "source": [
    "train_data.head(3)"
   ]
  },
  {
   "cell_type": "markdown",
   "id": "425669a8",
   "metadata": {
    "papermill": {
     "duration": 0.013498,
     "end_time": "2022-12-14T23:04:52.612650",
     "exception": false,
     "start_time": "2022-12-14T23:04:52.599152",
     "status": "completed"
    },
    "tags": []
   },
   "source": [
    "# Show Data describe"
   ]
  },
  {
   "cell_type": "code",
   "execution_count": 6,
   "id": "49f6dedb",
   "metadata": {
    "execution": {
     "iopub.execute_input": "2022-12-14T23:04:52.643595Z",
     "iopub.status.busy": "2022-12-14T23:04:52.642842Z",
     "iopub.status.idle": "2022-12-14T23:04:56.963896Z",
     "shell.execute_reply": "2022-12-14T23:04:56.962619Z"
    },
    "papermill": {
     "duration": 4.33957,
     "end_time": "2022-12-14T23:04:56.966722",
     "exception": false,
     "start_time": "2022-12-14T23:04:52.627152",
     "status": "completed"
    },
    "tags": []
   },
   "outputs": [
    {
     "data": {
      "text/html": [
       "<div>\n",
       "<style scoped>\n",
       "    .dataframe tbody tr th:only-of-type {\n",
       "        vertical-align: middle;\n",
       "    }\n",
       "\n",
       "    .dataframe tbody tr th {\n",
       "        vertical-align: top;\n",
       "    }\n",
       "\n",
       "    .dataframe thead th {\n",
       "        text-align: right;\n",
       "    }\n",
       "</style>\n",
       "<table border=\"1\" class=\"dataframe\">\n",
       "  <thead>\n",
       "    <tr style=\"text-align: right;\">\n",
       "      <th></th>\n",
       "      <th>Activity</th>\n",
       "      <th>D1</th>\n",
       "      <th>D2</th>\n",
       "      <th>D3</th>\n",
       "      <th>D4</th>\n",
       "      <th>D5</th>\n",
       "      <th>D6</th>\n",
       "      <th>D7</th>\n",
       "      <th>D8</th>\n",
       "      <th>D9</th>\n",
       "      <th>...</th>\n",
       "      <th>D1767</th>\n",
       "      <th>D1768</th>\n",
       "      <th>D1769</th>\n",
       "      <th>D1770</th>\n",
       "      <th>D1771</th>\n",
       "      <th>D1772</th>\n",
       "      <th>D1773</th>\n",
       "      <th>D1774</th>\n",
       "      <th>D1775</th>\n",
       "      <th>D1776</th>\n",
       "    </tr>\n",
       "  </thead>\n",
       "  <tbody>\n",
       "    <tr>\n",
       "      <th>count</th>\n",
       "      <td>3751.000000</td>\n",
       "      <td>3751.000000</td>\n",
       "      <td>3751.000000</td>\n",
       "      <td>3751.000000</td>\n",
       "      <td>3751.000000</td>\n",
       "      <td>3751.000000</td>\n",
       "      <td>3751.000000</td>\n",
       "      <td>3751.000000</td>\n",
       "      <td>3751.000000</td>\n",
       "      <td>3751.000000</td>\n",
       "      <td>...</td>\n",
       "      <td>3751.000000</td>\n",
       "      <td>3751.000000</td>\n",
       "      <td>3751.000000</td>\n",
       "      <td>3751.000000</td>\n",
       "      <td>3751.000000</td>\n",
       "      <td>3751.000000</td>\n",
       "      <td>3751.000000</td>\n",
       "      <td>3751.000000</td>\n",
       "      <td>3751.000000</td>\n",
       "      <td>3751.000000</td>\n",
       "    </tr>\n",
       "    <tr>\n",
       "      <th>mean</th>\n",
       "      <td>0.542255</td>\n",
       "      <td>0.076948</td>\n",
       "      <td>0.592436</td>\n",
       "      <td>0.068142</td>\n",
       "      <td>0.038990</td>\n",
       "      <td>0.212112</td>\n",
       "      <td>0.686653</td>\n",
       "      <td>0.274713</td>\n",
       "      <td>0.455133</td>\n",
       "      <td>0.749517</td>\n",
       "      <td>...</td>\n",
       "      <td>0.026926</td>\n",
       "      <td>0.014663</td>\n",
       "      <td>0.013863</td>\n",
       "      <td>0.021861</td>\n",
       "      <td>0.015196</td>\n",
       "      <td>0.016796</td>\n",
       "      <td>0.012263</td>\n",
       "      <td>0.011730</td>\n",
       "      <td>0.020261</td>\n",
       "      <td>0.011197</td>\n",
       "    </tr>\n",
       "    <tr>\n",
       "      <th>std</th>\n",
       "      <td>0.498278</td>\n",
       "      <td>0.079989</td>\n",
       "      <td>0.105860</td>\n",
       "      <td>0.078414</td>\n",
       "      <td>0.115885</td>\n",
       "      <td>0.102592</td>\n",
       "      <td>0.078702</td>\n",
       "      <td>0.090017</td>\n",
       "      <td>0.162731</td>\n",
       "      <td>0.071702</td>\n",
       "      <td>...</td>\n",
       "      <td>0.161889</td>\n",
       "      <td>0.120215</td>\n",
       "      <td>0.116938</td>\n",
       "      <td>0.146249</td>\n",
       "      <td>0.122348</td>\n",
       "      <td>0.128522</td>\n",
       "      <td>0.110074</td>\n",
       "      <td>0.107683</td>\n",
       "      <td>0.140911</td>\n",
       "      <td>0.105236</td>\n",
       "    </tr>\n",
       "    <tr>\n",
       "      <th>min</th>\n",
       "      <td>0.000000</td>\n",
       "      <td>0.000000</td>\n",
       "      <td>0.282128</td>\n",
       "      <td>0.000000</td>\n",
       "      <td>0.000000</td>\n",
       "      <td>0.002630</td>\n",
       "      <td>0.137873</td>\n",
       "      <td>0.006130</td>\n",
       "      <td>0.000000</td>\n",
       "      <td>0.275590</td>\n",
       "      <td>...</td>\n",
       "      <td>0.000000</td>\n",
       "      <td>0.000000</td>\n",
       "      <td>0.000000</td>\n",
       "      <td>0.000000</td>\n",
       "      <td>0.000000</td>\n",
       "      <td>0.000000</td>\n",
       "      <td>0.000000</td>\n",
       "      <td>0.000000</td>\n",
       "      <td>0.000000</td>\n",
       "      <td>0.000000</td>\n",
       "    </tr>\n",
       "    <tr>\n",
       "      <th>25%</th>\n",
       "      <td>0.000000</td>\n",
       "      <td>0.033300</td>\n",
       "      <td>0.517811</td>\n",
       "      <td>0.000000</td>\n",
       "      <td>0.000000</td>\n",
       "      <td>0.138118</td>\n",
       "      <td>0.625627</td>\n",
       "      <td>0.207374</td>\n",
       "      <td>0.378062</td>\n",
       "      <td>0.707339</td>\n",
       "      <td>...</td>\n",
       "      <td>0.000000</td>\n",
       "      <td>0.000000</td>\n",
       "      <td>0.000000</td>\n",
       "      <td>0.000000</td>\n",
       "      <td>0.000000</td>\n",
       "      <td>0.000000</td>\n",
       "      <td>0.000000</td>\n",
       "      <td>0.000000</td>\n",
       "      <td>0.000000</td>\n",
       "      <td>0.000000</td>\n",
       "    </tr>\n",
       "    <tr>\n",
       "      <th>50%</th>\n",
       "      <td>1.000000</td>\n",
       "      <td>0.066700</td>\n",
       "      <td>0.585989</td>\n",
       "      <td>0.050000</td>\n",
       "      <td>0.000000</td>\n",
       "      <td>0.190926</td>\n",
       "      <td>0.674037</td>\n",
       "      <td>0.277845</td>\n",
       "      <td>0.499942</td>\n",
       "      <td>0.738961</td>\n",
       "      <td>...</td>\n",
       "      <td>0.000000</td>\n",
       "      <td>0.000000</td>\n",
       "      <td>0.000000</td>\n",
       "      <td>0.000000</td>\n",
       "      <td>0.000000</td>\n",
       "      <td>0.000000</td>\n",
       "      <td>0.000000</td>\n",
       "      <td>0.000000</td>\n",
       "      <td>0.000000</td>\n",
       "      <td>0.000000</td>\n",
       "    </tr>\n",
       "    <tr>\n",
       "      <th>75%</th>\n",
       "      <td>1.000000</td>\n",
       "      <td>0.100000</td>\n",
       "      <td>0.668395</td>\n",
       "      <td>0.100000</td>\n",
       "      <td>0.000000</td>\n",
       "      <td>0.261726</td>\n",
       "      <td>0.740663</td>\n",
       "      <td>0.335816</td>\n",
       "      <td>0.569962</td>\n",
       "      <td>0.788177</td>\n",
       "      <td>...</td>\n",
       "      <td>0.000000</td>\n",
       "      <td>0.000000</td>\n",
       "      <td>0.000000</td>\n",
       "      <td>0.000000</td>\n",
       "      <td>0.000000</td>\n",
       "      <td>0.000000</td>\n",
       "      <td>0.000000</td>\n",
       "      <td>0.000000</td>\n",
       "      <td>0.000000</td>\n",
       "      <td>0.000000</td>\n",
       "    </tr>\n",
       "    <tr>\n",
       "      <th>max</th>\n",
       "      <td>1.000000</td>\n",
       "      <td>1.000000</td>\n",
       "      <td>0.964381</td>\n",
       "      <td>0.950000</td>\n",
       "      <td>1.000000</td>\n",
       "      <td>1.000000</td>\n",
       "      <td>0.994735</td>\n",
       "      <td>0.790831</td>\n",
       "      <td>0.989870</td>\n",
       "      <td>1.000000</td>\n",
       "      <td>...</td>\n",
       "      <td>1.000000</td>\n",
       "      <td>1.000000</td>\n",
       "      <td>1.000000</td>\n",
       "      <td>1.000000</td>\n",
       "      <td>1.000000</td>\n",
       "      <td>1.000000</td>\n",
       "      <td>1.000000</td>\n",
       "      <td>1.000000</td>\n",
       "      <td>1.000000</td>\n",
       "      <td>1.000000</td>\n",
       "    </tr>\n",
       "  </tbody>\n",
       "</table>\n",
       "<p>8 rows × 1777 columns</p>\n",
       "</div>"
      ],
      "text/plain": [
       "          Activity           D1           D2           D3           D4  \\\n",
       "count  3751.000000  3751.000000  3751.000000  3751.000000  3751.000000   \n",
       "mean      0.542255     0.076948     0.592436     0.068142     0.038990   \n",
       "std       0.498278     0.079989     0.105860     0.078414     0.115885   \n",
       "min       0.000000     0.000000     0.282128     0.000000     0.000000   \n",
       "25%       0.000000     0.033300     0.517811     0.000000     0.000000   \n",
       "50%       1.000000     0.066700     0.585989     0.050000     0.000000   \n",
       "75%       1.000000     0.100000     0.668395     0.100000     0.000000   \n",
       "max       1.000000     1.000000     0.964381     0.950000     1.000000   \n",
       "\n",
       "                D5           D6           D7           D8           D9  ...  \\\n",
       "count  3751.000000  3751.000000  3751.000000  3751.000000  3751.000000  ...   \n",
       "mean      0.212112     0.686653     0.274713     0.455133     0.749517  ...   \n",
       "std       0.102592     0.078702     0.090017     0.162731     0.071702  ...   \n",
       "min       0.002630     0.137873     0.006130     0.000000     0.275590  ...   \n",
       "25%       0.138118     0.625627     0.207374     0.378062     0.707339  ...   \n",
       "50%       0.190926     0.674037     0.277845     0.499942     0.738961  ...   \n",
       "75%       0.261726     0.740663     0.335816     0.569962     0.788177  ...   \n",
       "max       1.000000     0.994735     0.790831     0.989870     1.000000  ...   \n",
       "\n",
       "             D1767        D1768        D1769        D1770        D1771  \\\n",
       "count  3751.000000  3751.000000  3751.000000  3751.000000  3751.000000   \n",
       "mean      0.026926     0.014663     0.013863     0.021861     0.015196   \n",
       "std       0.161889     0.120215     0.116938     0.146249     0.122348   \n",
       "min       0.000000     0.000000     0.000000     0.000000     0.000000   \n",
       "25%       0.000000     0.000000     0.000000     0.000000     0.000000   \n",
       "50%       0.000000     0.000000     0.000000     0.000000     0.000000   \n",
       "75%       0.000000     0.000000     0.000000     0.000000     0.000000   \n",
       "max       1.000000     1.000000     1.000000     1.000000     1.000000   \n",
       "\n",
       "             D1772        D1773        D1774        D1775        D1776  \n",
       "count  3751.000000  3751.000000  3751.000000  3751.000000  3751.000000  \n",
       "mean      0.016796     0.012263     0.011730     0.020261     0.011197  \n",
       "std       0.128522     0.110074     0.107683     0.140911     0.105236  \n",
       "min       0.000000     0.000000     0.000000     0.000000     0.000000  \n",
       "25%       0.000000     0.000000     0.000000     0.000000     0.000000  \n",
       "50%       0.000000     0.000000     0.000000     0.000000     0.000000  \n",
       "75%       0.000000     0.000000     0.000000     0.000000     0.000000  \n",
       "max       1.000000     1.000000     1.000000     1.000000     1.000000  \n",
       "\n",
       "[8 rows x 1777 columns]"
      ]
     },
     "execution_count": 6,
     "metadata": {},
     "output_type": "execute_result"
    }
   ],
   "source": [
    "train_data.describe()"
   ]
  },
  {
   "cell_type": "markdown",
   "id": "e3cafb10",
   "metadata": {
    "papermill": {
     "duration": 0.012955,
     "end_time": "2022-12-14T23:04:56.993413",
     "exception": false,
     "start_time": "2022-12-14T23:04:56.980458",
     "status": "completed"
    },
    "tags": []
   },
   "source": [
    "# Show Data info"
   ]
  },
  {
   "cell_type": "code",
   "execution_count": 7,
   "id": "e200464c",
   "metadata": {
    "execution": {
     "iopub.execute_input": "2022-12-14T23:04:57.025036Z",
     "iopub.status.busy": "2022-12-14T23:04:57.023702Z",
     "iopub.status.idle": "2022-12-14T23:04:57.120617Z",
     "shell.execute_reply": "2022-12-14T23:04:57.118001Z"
    },
    "papermill": {
     "duration": 0.115375,
     "end_time": "2022-12-14T23:04:57.123868",
     "exception": false,
     "start_time": "2022-12-14T23:04:57.008493",
     "status": "completed"
    },
    "tags": []
   },
   "outputs": [
    {
     "name": "stdout",
     "output_type": "stream",
     "text": [
      "<class 'pandas.core.frame.DataFrame'>\n",
      "RangeIndex: 3751 entries, 0 to 3750\n",
      "Columns: 1777 entries, Activity to D1776\n",
      "dtypes: float64(942), int64(835)\n",
      "memory usage: 50.9 MB\n"
     ]
    }
   ],
   "source": [
    "train_data.info()"
   ]
  },
  {
   "cell_type": "markdown",
   "id": "86a5bb5d",
   "metadata": {
    "papermill": {
     "duration": 0.01338,
     "end_time": "2022-12-14T23:04:57.151710",
     "exception": false,
     "start_time": "2022-12-14T23:04:57.138330",
     "status": "completed"
    },
    "tags": []
   },
   "source": [
    "# Show data corr"
   ]
  },
  {
   "cell_type": "code",
   "execution_count": 8,
   "id": "560cc0e9",
   "metadata": {
    "execution": {
     "iopub.execute_input": "2022-12-14T23:04:57.181193Z",
     "iopub.status.busy": "2022-12-14T23:04:57.180736Z",
     "iopub.status.idle": "2022-12-14T23:05:29.577277Z",
     "shell.execute_reply": "2022-12-14T23:05:29.575921Z"
    },
    "papermill": {
     "duration": 32.428908,
     "end_time": "2022-12-14T23:05:29.594254",
     "exception": false,
     "start_time": "2022-12-14T23:04:57.165346",
     "status": "completed"
    },
    "tags": []
   },
   "outputs": [
    {
     "data": {
      "text/html": [
       "<div>\n",
       "<style scoped>\n",
       "    .dataframe tbody tr th:only-of-type {\n",
       "        vertical-align: middle;\n",
       "    }\n",
       "\n",
       "    .dataframe tbody tr th {\n",
       "        vertical-align: top;\n",
       "    }\n",
       "\n",
       "    .dataframe thead th {\n",
       "        text-align: right;\n",
       "    }\n",
       "</style>\n",
       "<table border=\"1\" class=\"dataframe\">\n",
       "  <thead>\n",
       "    <tr style=\"text-align: right;\">\n",
       "      <th></th>\n",
       "      <th>Activity</th>\n",
       "      <th>D1</th>\n",
       "      <th>D2</th>\n",
       "      <th>D3</th>\n",
       "      <th>D4</th>\n",
       "      <th>D5</th>\n",
       "      <th>D6</th>\n",
       "      <th>D7</th>\n",
       "      <th>D8</th>\n",
       "      <th>D9</th>\n",
       "      <th>...</th>\n",
       "      <th>D1767</th>\n",
       "      <th>D1768</th>\n",
       "      <th>D1769</th>\n",
       "      <th>D1770</th>\n",
       "      <th>D1771</th>\n",
       "      <th>D1772</th>\n",
       "      <th>D1773</th>\n",
       "      <th>D1774</th>\n",
       "      <th>D1775</th>\n",
       "      <th>D1776</th>\n",
       "    </tr>\n",
       "  </thead>\n",
       "  <tbody>\n",
       "    <tr>\n",
       "      <th>Activity</th>\n",
       "      <td>1.000000</td>\n",
       "      <td>-0.086402</td>\n",
       "      <td>0.109226</td>\n",
       "      <td>0.167209</td>\n",
       "      <td>-0.044126</td>\n",
       "      <td>-0.148447</td>\n",
       "      <td>-0.106213</td>\n",
       "      <td>0.137016</td>\n",
       "      <td>0.172226</td>\n",
       "      <td>-0.077743</td>\n",
       "      <td>...</td>\n",
       "      <td>0.010685</td>\n",
       "      <td>0.076465</td>\n",
       "      <td>0.031133</td>\n",
       "      <td>0.016595</td>\n",
       "      <td>0.039768</td>\n",
       "      <td>0.011817</td>\n",
       "      <td>0.029445</td>\n",
       "      <td>0.005669</td>\n",
       "      <td>0.048571</td>\n",
       "      <td>0.021488</td>\n",
       "    </tr>\n",
       "    <tr>\n",
       "      <th>D1</th>\n",
       "      <td>-0.086402</td>\n",
       "      <td>1.000000</td>\n",
       "      <td>0.262487</td>\n",
       "      <td>0.328325</td>\n",
       "      <td>0.260002</td>\n",
       "      <td>-0.074244</td>\n",
       "      <td>0.366193</td>\n",
       "      <td>-0.430245</td>\n",
       "      <td>-0.112804</td>\n",
       "      <td>0.189056</td>\n",
       "      <td>...</td>\n",
       "      <td>0.260743</td>\n",
       "      <td>0.221889</td>\n",
       "      <td>0.224236</td>\n",
       "      <td>0.229257</td>\n",
       "      <td>0.225635</td>\n",
       "      <td>0.234814</td>\n",
       "      <td>0.096729</td>\n",
       "      <td>0.164529</td>\n",
       "      <td>0.237026</td>\n",
       "      <td>0.186957</td>\n",
       "    </tr>\n",
       "    <tr>\n",
       "      <th>D2</th>\n",
       "      <td>0.109226</td>\n",
       "      <td>0.262487</td>\n",
       "      <td>1.000000</td>\n",
       "      <td>0.439590</td>\n",
       "      <td>0.352263</td>\n",
       "      <td>0.227328</td>\n",
       "      <td>-0.136386</td>\n",
       "      <td>-0.032891</td>\n",
       "      <td>0.141841</td>\n",
       "      <td>-0.354988</td>\n",
       "      <td>...</td>\n",
       "      <td>0.012333</td>\n",
       "      <td>0.075043</td>\n",
       "      <td>0.015788</td>\n",
       "      <td>0.040128</td>\n",
       "      <td>0.045587</td>\n",
       "      <td>0.017283</td>\n",
       "      <td>0.023722</td>\n",
       "      <td>0.043174</td>\n",
       "      <td>0.027019</td>\n",
       "      <td>0.073585</td>\n",
       "    </tr>\n",
       "    <tr>\n",
       "      <th>D3</th>\n",
       "      <td>0.167209</td>\n",
       "      <td>0.328325</td>\n",
       "      <td>0.439590</td>\n",
       "      <td>1.000000</td>\n",
       "      <td>0.188451</td>\n",
       "      <td>-0.123794</td>\n",
       "      <td>-0.040728</td>\n",
       "      <td>-0.204815</td>\n",
       "      <td>0.079161</td>\n",
       "      <td>-0.141597</td>\n",
       "      <td>...</td>\n",
       "      <td>0.049737</td>\n",
       "      <td>0.135849</td>\n",
       "      <td>0.037999</td>\n",
       "      <td>0.096788</td>\n",
       "      <td>0.122743</td>\n",
       "      <td>0.021355</td>\n",
       "      <td>0.053000</td>\n",
       "      <td>0.142170</td>\n",
       "      <td>0.008959</td>\n",
       "      <td>0.198354</td>\n",
       "    </tr>\n",
       "    <tr>\n",
       "      <th>D4</th>\n",
       "      <td>-0.044126</td>\n",
       "      <td>0.260002</td>\n",
       "      <td>0.352263</td>\n",
       "      <td>0.188451</td>\n",
       "      <td>1.000000</td>\n",
       "      <td>-0.012298</td>\n",
       "      <td>-0.001187</td>\n",
       "      <td>-0.063331</td>\n",
       "      <td>0.064062</td>\n",
       "      <td>-0.035721</td>\n",
       "      <td>...</td>\n",
       "      <td>-0.006225</td>\n",
       "      <td>0.073802</td>\n",
       "      <td>-0.000540</td>\n",
       "      <td>0.040167</td>\n",
       "      <td>0.042837</td>\n",
       "      <td>-0.008171</td>\n",
       "      <td>0.014769</td>\n",
       "      <td>0.027448</td>\n",
       "      <td>0.008766</td>\n",
       "      <td>0.068058</td>\n",
       "    </tr>\n",
       "    <tr>\n",
       "      <th>...</th>\n",
       "      <td>...</td>\n",
       "      <td>...</td>\n",
       "      <td>...</td>\n",
       "      <td>...</td>\n",
       "      <td>...</td>\n",
       "      <td>...</td>\n",
       "      <td>...</td>\n",
       "      <td>...</td>\n",
       "      <td>...</td>\n",
       "      <td>...</td>\n",
       "      <td>...</td>\n",
       "      <td>...</td>\n",
       "      <td>...</td>\n",
       "      <td>...</td>\n",
       "      <td>...</td>\n",
       "      <td>...</td>\n",
       "      <td>...</td>\n",
       "      <td>...</td>\n",
       "      <td>...</td>\n",
       "      <td>...</td>\n",
       "      <td>...</td>\n",
       "    </tr>\n",
       "    <tr>\n",
       "      <th>D1772</th>\n",
       "      <td>0.011817</td>\n",
       "      <td>0.234814</td>\n",
       "      <td>0.017283</td>\n",
       "      <td>0.021355</td>\n",
       "      <td>-0.008171</td>\n",
       "      <td>-0.118609</td>\n",
       "      <td>0.165540</td>\n",
       "      <td>-0.140998</td>\n",
       "      <td>-0.010961</td>\n",
       "      <td>0.143035</td>\n",
       "      <td>...</td>\n",
       "      <td>0.580641</td>\n",
       "      <td>0.329251</td>\n",
       "      <td>0.552293</td>\n",
       "      <td>0.562141</td>\n",
       "      <td>0.289023</td>\n",
       "      <td>1.000000</td>\n",
       "      <td>0.249335</td>\n",
       "      <td>0.101371</td>\n",
       "      <td>0.422945</td>\n",
       "      <td>0.262122</td>\n",
       "    </tr>\n",
       "    <tr>\n",
       "      <th>D1773</th>\n",
       "      <td>0.029445</td>\n",
       "      <td>0.096729</td>\n",
       "      <td>0.023722</td>\n",
       "      <td>0.053000</td>\n",
       "      <td>0.014769</td>\n",
       "      <td>-0.097684</td>\n",
       "      <td>0.114388</td>\n",
       "      <td>-0.092395</td>\n",
       "      <td>0.021939</td>\n",
       "      <td>0.092533</td>\n",
       "      <td>...</td>\n",
       "      <td>0.430405</td>\n",
       "      <td>0.228236</td>\n",
       "      <td>0.214677</td>\n",
       "      <td>0.248383</td>\n",
       "      <td>0.243572</td>\n",
       "      <td>0.249335</td>\n",
       "      <td>1.000000</td>\n",
       "      <td>0.325325</td>\n",
       "      <td>0.293441</td>\n",
       "      <td>0.333455</td>\n",
       "    </tr>\n",
       "    <tr>\n",
       "      <th>D1774</th>\n",
       "      <td>0.005669</td>\n",
       "      <td>0.164529</td>\n",
       "      <td>0.043174</td>\n",
       "      <td>0.142170</td>\n",
       "      <td>0.027448</td>\n",
       "      <td>-0.105049</td>\n",
       "      <td>0.124192</td>\n",
       "      <td>-0.089671</td>\n",
       "      <td>0.024235</td>\n",
       "      <td>0.087579</td>\n",
       "      <td>...</td>\n",
       "      <td>0.394892</td>\n",
       "      <td>0.295706</td>\n",
       "      <td>0.156499</td>\n",
       "      <td>0.305436</td>\n",
       "      <td>0.148392</td>\n",
       "      <td>0.101371</td>\n",
       "      <td>0.325325</td>\n",
       "      <td>1.000000</td>\n",
       "      <td>0.300667</td>\n",
       "      <td>0.411980</td>\n",
       "    </tr>\n",
       "    <tr>\n",
       "      <th>D1775</th>\n",
       "      <td>0.048571</td>\n",
       "      <td>0.237026</td>\n",
       "      <td>0.027019</td>\n",
       "      <td>0.008959</td>\n",
       "      <td>0.008766</td>\n",
       "      <td>-0.137316</td>\n",
       "      <td>0.144459</td>\n",
       "      <td>-0.096429</td>\n",
       "      <td>0.019008</td>\n",
       "      <td>0.121252</td>\n",
       "      <td>...</td>\n",
       "      <td>0.548875</td>\n",
       "      <td>0.376011</td>\n",
       "      <td>0.403716</td>\n",
       "      <td>0.483157</td>\n",
       "      <td>0.368829</td>\n",
       "      <td>0.422945</td>\n",
       "      <td>0.293441</td>\n",
       "      <td>0.300667</td>\n",
       "      <td>1.000000</td>\n",
       "      <td>0.182508</td>\n",
       "    </tr>\n",
       "    <tr>\n",
       "      <th>D1776</th>\n",
       "      <td>0.021488</td>\n",
       "      <td>0.186957</td>\n",
       "      <td>0.073585</td>\n",
       "      <td>0.198354</td>\n",
       "      <td>0.068058</td>\n",
       "      <td>-0.102322</td>\n",
       "      <td>0.103924</td>\n",
       "      <td>-0.112762</td>\n",
       "      <td>0.013919</td>\n",
       "      <td>0.057519</td>\n",
       "      <td>...</td>\n",
       "      <td>0.295351</td>\n",
       "      <td>0.282123</td>\n",
       "      <td>0.182409</td>\n",
       "      <td>0.313297</td>\n",
       "      <td>0.256029</td>\n",
       "      <td>0.262122</td>\n",
       "      <td>0.333455</td>\n",
       "      <td>0.411980</td>\n",
       "      <td>0.182508</td>\n",
       "      <td>1.000000</td>\n",
       "    </tr>\n",
       "  </tbody>\n",
       "</table>\n",
       "<p>1777 rows × 1777 columns</p>\n",
       "</div>"
      ],
      "text/plain": [
       "          Activity        D1        D2        D3        D4        D5  \\\n",
       "Activity  1.000000 -0.086402  0.109226  0.167209 -0.044126 -0.148447   \n",
       "D1       -0.086402  1.000000  0.262487  0.328325  0.260002 -0.074244   \n",
       "D2        0.109226  0.262487  1.000000  0.439590  0.352263  0.227328   \n",
       "D3        0.167209  0.328325  0.439590  1.000000  0.188451 -0.123794   \n",
       "D4       -0.044126  0.260002  0.352263  0.188451  1.000000 -0.012298   \n",
       "...            ...       ...       ...       ...       ...       ...   \n",
       "D1772     0.011817  0.234814  0.017283  0.021355 -0.008171 -0.118609   \n",
       "D1773     0.029445  0.096729  0.023722  0.053000  0.014769 -0.097684   \n",
       "D1774     0.005669  0.164529  0.043174  0.142170  0.027448 -0.105049   \n",
       "D1775     0.048571  0.237026  0.027019  0.008959  0.008766 -0.137316   \n",
       "D1776     0.021488  0.186957  0.073585  0.198354  0.068058 -0.102322   \n",
       "\n",
       "                D6        D7        D8        D9  ...     D1767     D1768  \\\n",
       "Activity -0.106213  0.137016  0.172226 -0.077743  ...  0.010685  0.076465   \n",
       "D1        0.366193 -0.430245 -0.112804  0.189056  ...  0.260743  0.221889   \n",
       "D2       -0.136386 -0.032891  0.141841 -0.354988  ...  0.012333  0.075043   \n",
       "D3       -0.040728 -0.204815  0.079161 -0.141597  ...  0.049737  0.135849   \n",
       "D4       -0.001187 -0.063331  0.064062 -0.035721  ... -0.006225  0.073802   \n",
       "...            ...       ...       ...       ...  ...       ...       ...   \n",
       "D1772     0.165540 -0.140998 -0.010961  0.143035  ...  0.580641  0.329251   \n",
       "D1773     0.114388 -0.092395  0.021939  0.092533  ...  0.430405  0.228236   \n",
       "D1774     0.124192 -0.089671  0.024235  0.087579  ...  0.394892  0.295706   \n",
       "D1775     0.144459 -0.096429  0.019008  0.121252  ...  0.548875  0.376011   \n",
       "D1776     0.103924 -0.112762  0.013919  0.057519  ...  0.295351  0.282123   \n",
       "\n",
       "             D1769     D1770     D1771     D1772     D1773     D1774  \\\n",
       "Activity  0.031133  0.016595  0.039768  0.011817  0.029445  0.005669   \n",
       "D1        0.224236  0.229257  0.225635  0.234814  0.096729  0.164529   \n",
       "D2        0.015788  0.040128  0.045587  0.017283  0.023722  0.043174   \n",
       "D3        0.037999  0.096788  0.122743  0.021355  0.053000  0.142170   \n",
       "D4       -0.000540  0.040167  0.042837 -0.008171  0.014769  0.027448   \n",
       "...            ...       ...       ...       ...       ...       ...   \n",
       "D1772     0.552293  0.562141  0.289023  1.000000  0.249335  0.101371   \n",
       "D1773     0.214677  0.248383  0.243572  0.249335  1.000000  0.325325   \n",
       "D1774     0.156499  0.305436  0.148392  0.101371  0.325325  1.000000   \n",
       "D1775     0.403716  0.483157  0.368829  0.422945  0.293441  0.300667   \n",
       "D1776     0.182409  0.313297  0.256029  0.262122  0.333455  0.411980   \n",
       "\n",
       "             D1775     D1776  \n",
       "Activity  0.048571  0.021488  \n",
       "D1        0.237026  0.186957  \n",
       "D2        0.027019  0.073585  \n",
       "D3        0.008959  0.198354  \n",
       "D4        0.008766  0.068058  \n",
       "...            ...       ...  \n",
       "D1772     0.422945  0.262122  \n",
       "D1773     0.293441  0.333455  \n",
       "D1774     0.300667  0.411980  \n",
       "D1775     1.000000  0.182508  \n",
       "D1776     0.182508  1.000000  \n",
       "\n",
       "[1777 rows x 1777 columns]"
      ]
     },
     "execution_count": 8,
     "metadata": {},
     "output_type": "execute_result"
    }
   ],
   "source": [
    "train_data.corr()"
   ]
  },
  {
   "cell_type": "markdown",
   "id": "6d8f1d5c",
   "metadata": {
    "papermill": {
     "duration": 0.014018,
     "end_time": "2022-12-14T23:05:29.622506",
     "exception": false,
     "start_time": "2022-12-14T23:05:29.608488",
     "status": "completed"
    },
    "tags": []
   },
   "source": [
    "# Show Data contain null data"
   ]
  },
  {
   "cell_type": "code",
   "execution_count": 9,
   "id": "6fbe591a",
   "metadata": {
    "execution": {
     "iopub.execute_input": "2022-12-14T23:05:29.653134Z",
     "iopub.status.busy": "2022-12-14T23:05:29.652632Z",
     "iopub.status.idle": "2022-12-14T23:05:29.709368Z",
     "shell.execute_reply": "2022-12-14T23:05:29.708189Z"
    },
    "papermill": {
     "duration": 0.074906,
     "end_time": "2022-12-14T23:05:29.711831",
     "exception": false,
     "start_time": "2022-12-14T23:05:29.636925",
     "status": "completed"
    },
    "tags": []
   },
   "outputs": [
    {
     "data": {
      "text/html": [
       "<div>\n",
       "<style scoped>\n",
       "    .dataframe tbody tr th:only-of-type {\n",
       "        vertical-align: middle;\n",
       "    }\n",
       "\n",
       "    .dataframe tbody tr th {\n",
       "        vertical-align: top;\n",
       "    }\n",
       "\n",
       "    .dataframe thead th {\n",
       "        text-align: right;\n",
       "    }\n",
       "</style>\n",
       "<table border=\"1\" class=\"dataframe\">\n",
       "  <thead>\n",
       "    <tr style=\"text-align: right;\">\n",
       "      <th></th>\n",
       "      <th>Number of null</th>\n",
       "      <th>percentage</th>\n",
       "    </tr>\n",
       "  </thead>\n",
       "  <tbody>\n",
       "    <tr>\n",
       "      <th>Activity</th>\n",
       "      <td>0</td>\n",
       "      <td>0.0</td>\n",
       "    </tr>\n",
       "    <tr>\n",
       "      <th>D1</th>\n",
       "      <td>0</td>\n",
       "      <td>0.0</td>\n",
       "    </tr>\n",
       "    <tr>\n",
       "      <th>D2</th>\n",
       "      <td>0</td>\n",
       "      <td>0.0</td>\n",
       "    </tr>\n",
       "    <tr>\n",
       "      <th>D3</th>\n",
       "      <td>0</td>\n",
       "      <td>0.0</td>\n",
       "    </tr>\n",
       "    <tr>\n",
       "      <th>D4</th>\n",
       "      <td>0</td>\n",
       "      <td>0.0</td>\n",
       "    </tr>\n",
       "    <tr>\n",
       "      <th>...</th>\n",
       "      <td>...</td>\n",
       "      <td>...</td>\n",
       "    </tr>\n",
       "    <tr>\n",
       "      <th>D1772</th>\n",
       "      <td>0</td>\n",
       "      <td>0.0</td>\n",
       "    </tr>\n",
       "    <tr>\n",
       "      <th>D1773</th>\n",
       "      <td>0</td>\n",
       "      <td>0.0</td>\n",
       "    </tr>\n",
       "    <tr>\n",
       "      <th>D1774</th>\n",
       "      <td>0</td>\n",
       "      <td>0.0</td>\n",
       "    </tr>\n",
       "    <tr>\n",
       "      <th>D1775</th>\n",
       "      <td>0</td>\n",
       "      <td>0.0</td>\n",
       "    </tr>\n",
       "    <tr>\n",
       "      <th>D1776</th>\n",
       "      <td>0</td>\n",
       "      <td>0.0</td>\n",
       "    </tr>\n",
       "  </tbody>\n",
       "</table>\n",
       "<p>1777 rows × 2 columns</p>\n",
       "</div>"
      ],
      "text/plain": [
       "          Number of null  percentage\n",
       "Activity               0         0.0\n",
       "D1                     0         0.0\n",
       "D2                     0         0.0\n",
       "D3                     0         0.0\n",
       "D4                     0         0.0\n",
       "...                  ...         ...\n",
       "D1772                  0         0.0\n",
       "D1773                  0         0.0\n",
       "D1774                  0         0.0\n",
       "D1775                  0         0.0\n",
       "D1776                  0         0.0\n",
       "\n",
       "[1777 rows x 2 columns]"
      ]
     },
     "execution_count": 9,
     "metadata": {},
     "output_type": "execute_result"
    }
   ],
   "source": [
    "data_null=pd.DataFrame(train_data.isnull().sum(),columns=['Number of null'])\n",
    "data_null['percentage']=(train_data.isnull().sum())/len(train_data)*100\n",
    "data_null"
   ]
  },
  {
   "cell_type": "markdown",
   "id": "ed12a5e6",
   "metadata": {
    "papermill": {
     "duration": 0.014023,
     "end_time": "2022-12-14T23:05:29.740087",
     "exception": false,
     "start_time": "2022-12-14T23:05:29.726064",
     "status": "completed"
    },
    "tags": []
   },
   "source": [
    "\n",
    "# Show data contain duplicate data"
   ]
  },
  {
   "cell_type": "code",
   "execution_count": 10,
   "id": "1a84f2f4",
   "metadata": {
    "execution": {
     "iopub.execute_input": "2022-12-14T23:05:29.771122Z",
     "iopub.status.busy": "2022-12-14T23:05:29.770350Z",
     "iopub.status.idle": "2022-12-14T23:05:30.022984Z",
     "shell.execute_reply": "2022-12-14T23:05:30.021680Z"
    },
    "papermill": {
     "duration": 0.271448,
     "end_time": "2022-12-14T23:05:30.025740",
     "exception": false,
     "start_time": "2022-12-14T23:05:29.754292",
     "status": "completed"
    },
    "tags": []
   },
   "outputs": [
    {
     "data": {
      "text/plain": [
       "0"
      ]
     },
     "execution_count": 10,
     "metadata": {},
     "output_type": "execute_result"
    }
   ],
   "source": [
    "train_data.duplicated().sum()"
   ]
  },
  {
   "cell_type": "markdown",
   "id": "20b06cdf",
   "metadata": {
    "papermill": {
     "duration": 0.014741,
     "end_time": "2022-12-14T23:05:30.055389",
     "exception": false,
     "start_time": "2022-12-14T23:05:30.040648",
     "status": "completed"
    },
    "tags": []
   },
   "source": [
    "# Show distrubtion of Activity"
   ]
  },
  {
   "cell_type": "code",
   "execution_count": 11,
   "id": "ac6f3f8f",
   "metadata": {
    "execution": {
     "iopub.execute_input": "2022-12-14T23:05:30.088739Z",
     "iopub.status.busy": "2022-12-14T23:05:30.087970Z",
     "iopub.status.idle": "2022-12-14T23:05:30.278396Z",
     "shell.execute_reply": "2022-12-14T23:05:30.276961Z"
    },
    "papermill": {
     "duration": 0.210218,
     "end_time": "2022-12-14T23:05:30.281726",
     "exception": false,
     "start_time": "2022-12-14T23:05:30.071508",
     "status": "completed"
    },
    "tags": []
   },
   "outputs": [
    {
     "data": {
      "text/plain": [
       "<Axes: xlabel='Activity', ylabel='count'>"
      ]
     },
     "execution_count": 11,
     "metadata": {},
     "output_type": "execute_result"
    },
    {
     "data": {
      "image/png": "[encoded data removed]",
      "text/plain": [
       "<Figure size 800x550 with 1 Axes>"
      ]
     },
     "metadata": {},
     "output_type": "display_data"
    }
   ],
   "source": [
    "sns.countplot(x='Activity', data=train_data)"
   ]
  },
  {
   "attachments": {},
   "cell_type": "markdown",
   "id": "951aebb8",
   "metadata": {
    "papermill": {
     "duration": 0.015013,
     "end_time": "2022-12-14T23:05:30.312655",
     "exception": false,
     "start_time": "2022-12-14T23:05:30.297642",
     "status": "completed"
    },
    "tags": []
   },
   "source": [
    "# Create observation matrix $X$ and response vector $y$"
   ]
  },
  {
   "cell_type": "code",
   "execution_count": 12,
   "id": "256d7c5a",
   "metadata": {
    "execution": {
     "iopub.execute_input": "2022-12-14T23:05:30.347190Z",
     "iopub.status.busy": "2022-12-14T23:05:30.346635Z",
     "iopub.status.idle": "2022-12-14T23:05:30.379629Z",
     "shell.execute_reply": "2022-12-14T23:05:30.378256Z"
    },
    "papermill": {
     "duration": 0.054406,
     "end_time": "2022-12-14T23:05:30.382740",
     "exception": false,
     "start_time": "2022-12-14T23:05:30.328334",
     "status": "completed"
    },
    "tags": []
   },
   "outputs": [],
   "source": [
    "X = train_data.drop(['Activity'], axis=1)\n",
    "y = train_data['Activity']"
   ]
  },
  {
   "attachments": {},
   "cell_type": "markdown",
   "id": "f53ba503",
   "metadata": {
    "papermill": {
     "duration": 0.014725,
     "end_time": "2022-12-14T23:05:30.412535",
     "exception": false,
     "start_time": "2022-12-14T23:05:30.397810",
     "status": "completed"
    },
    "tags": []
   },
   "source": [
    "# Show $X$"
   ]
  },
  {
   "cell_type": "code",
   "execution_count": 13,
   "id": "6d7ec54d",
   "metadata": {
    "execution": {
     "iopub.execute_input": "2022-12-14T23:05:30.445905Z",
     "iopub.status.busy": "2022-12-14T23:05:30.445038Z",
     "iopub.status.idle": "2022-12-14T23:05:30.475966Z",
     "shell.execute_reply": "2022-12-14T23:05:30.474514Z"
    },
    "papermill": {
     "duration": 0.051696,
     "end_time": "2022-12-14T23:05:30.479488",
     "exception": false,
     "start_time": "2022-12-14T23:05:30.427792",
     "status": "completed"
    },
    "tags": []
   },
   "outputs": [
    {
     "data": {
      "text/plain": [
       "<bound method NDFrame.head of             D1        D2    D3   D4        D5        D6        D7        D8  \\\n",
       "0     0.000000  0.497009  0.10  0.0  0.132956  0.678031  0.273166  0.585445   \n",
       "1     0.366667  0.606291  0.05  0.0  0.111209  0.803455  0.106105  0.411754   \n",
       "2     0.033300  0.480124  0.00  0.0  0.209791  0.610350  0.356453  0.517720   \n",
       "3     0.000000  0.538825  0.00  0.5  0.196344  0.724230  0.235606  0.288764   \n",
       "4     0.100000  0.517794  0.00  0.0  0.494734  0.781422  0.154361  0.303809   \n",
       "...        ...       ...   ...  ...       ...       ...       ...       ...   \n",
       "3746  0.033300  0.506409  0.10  0.0  0.209887  0.633426  0.297659  0.376124   \n",
       "3747  0.133333  0.651023  0.15  0.0  0.151154  0.766505  0.170876  0.404546   \n",
       "3748  0.200000  0.520564  0.00  0.0  0.179949  0.768785  0.177341  0.471179   \n",
       "3749  0.100000  0.765646  0.00  0.0  0.536954  0.634936  0.342713  0.447162   \n",
       "3750  0.133333  0.533952  0.00  0.0  0.347966  0.757971  0.230667  0.272652   \n",
       "\n",
       "            D9       D10  ...  D1767  D1768  D1769  D1770  D1771  D1772  \\\n",
       "0     0.743663  0.243144  ...      0      0      0      0      0      0   \n",
       "1     0.836582  0.106480  ...      1      1      1      1      0      1   \n",
       "2     0.679051  0.352308  ...      0      0      0      0      0      0   \n",
       "3     0.805110  0.208989  ...      0      0      0      0      0      0   \n",
       "4     0.812646  0.125177  ...      0      0      0      0      0      0   \n",
       "...        ...       ...  ...    ...    ...    ...    ...    ...    ...   \n",
       "3746  0.727093  0.308163  ...      0      0      0      0      0      0   \n",
       "3747  0.787935  0.192527  ...      0      0      1      0      1      0   \n",
       "3748  0.872241  0.122132  ...      0      0      0      0      0      0   \n",
       "3749  0.672689  0.372936  ...      0      0      0      0      0      0   \n",
       "3750  0.854116  0.140316  ...      0      0      0      0      0      0   \n",
       "\n",
       "      D1773  D1774  D1775  D1776  \n",
       "0         0      0      0      0  \n",
       "1         0      0      1      0  \n",
       "2         0      0      0      0  \n",
       "3         0      0      0      0  \n",
       "4         0      0      0      0  \n",
       "...     ...    ...    ...    ...  \n",
       "3746      0      0      0      0  \n",
       "3747      1      0      0      0  \n",
       "3748      0      0      0      0  \n",
       "3749      0      0      0      0  \n",
       "3750      0      0      0      0  \n",
       "\n",
       "[3751 rows x 1776 columns]>"
      ]
     },
     "execution_count": 13,
     "metadata": {},
     "output_type": "execute_result"
    }
   ],
   "source": [
    "X.head"
   ]
  },
  {
   "attachments": {},
   "cell_type": "markdown",
   "id": "641b94c7",
   "metadata": {
    "papermill": {
     "duration": 0.015565,
     "end_time": "2022-12-14T23:05:30.510770",
     "exception": false,
     "start_time": "2022-12-14T23:05:30.495205",
     "status": "completed"
    },
    "tags": []
   },
   "source": [
    "# Show $y$"
   ]
  },
  {
   "cell_type": "code",
   "execution_count": 14,
   "id": "ff7ce20b",
   "metadata": {
    "execution": {
     "iopub.execute_input": "2022-12-14T23:05:30.544534Z",
     "iopub.status.busy": "2022-12-14T23:05:30.543979Z",
     "iopub.status.idle": "2022-12-14T23:05:30.553170Z",
     "shell.execute_reply": "2022-12-14T23:05:30.552267Z"
    },
    "papermill": {
     "duration": 0.028964,
     "end_time": "2022-12-14T23:05:30.555435",
     "exception": false,
     "start_time": "2022-12-14T23:05:30.526471",
     "status": "completed"
    },
    "tags": []
   },
   "outputs": [
    {
     "data": {
      "text/plain": [
       "0       1\n",
       "1       1\n",
       "2       1\n",
       "3       1\n",
       "4       0\n",
       "       ..\n",
       "3746    1\n",
       "3747    1\n",
       "3748    0\n",
       "3749    1\n",
       "3750    0\n",
       "Name: Activity, Length: 3751, dtype: int64"
      ]
     },
     "execution_count": 14,
     "metadata": {},
     "output_type": "execute_result"
    }
   ],
   "source": [
    "y"
   ]
  },
  {
   "cell_type": "markdown",
   "id": "a0788303",
   "metadata": {
    "papermill": {
     "duration": 0.015118,
     "end_time": "2022-12-14T23:05:30.586241",
     "exception": false,
     "start_time": "2022-12-14T23:05:30.571123",
     "status": "completed"
    },
    "tags": []
   },
   "source": [
    "# Split Data"
   ]
  },
  {
   "cell_type": "code",
   "execution_count": 15,
   "id": "6a1be061",
   "metadata": {
    "execution": {
     "iopub.execute_input": "2022-12-14T23:05:30.620340Z",
     "iopub.status.busy": "2022-12-14T23:05:30.619836Z",
     "iopub.status.idle": "2022-12-14T23:05:30.685568Z",
     "shell.execute_reply": "2022-12-14T23:05:30.684033Z"
    },
    "papermill": {
     "duration": 0.08653,
     "end_time": "2022-12-14T23:05:30.689097",
     "exception": false,
     "start_time": "2022-12-14T23:05:30.602567",
     "status": "completed"
    },
    "tags": []
   },
   "outputs": [
    {
     "name": "stdout",
     "output_type": "stream",
     "text": [
      "(2813, 1776)\n",
      "(2813,)\n",
      "(938, 1776)\n",
      "(938,)\n"
     ]
    }
   ],
   "source": [
    "X_train,X_test,y_train,y_test=train_test_split(X, y, test_size=.25, shuffle=True, random_state=42)\n",
    "print(X_train.shape)\n",
    "print(y_train.shape)\n",
    "print(X_test.shape)\n",
    "print(y_test.shape)"
   ]
  },
  {
   "attachments": {},
   "cell_type": "markdown",
   "id": "d64cfede",
   "metadata": {
    "papermill": {
     "duration": 0.01525,
     "end_time": "2022-12-14T23:05:30.720712",
     "exception": false,
     "start_time": "2022-12-14T23:05:30.705462",
     "status": "completed"
    },
    "tags": []
   },
   "source": [
    "# Model hyperparameter optimization"
   ]
  },
  {
   "attachments": {},
   "cell_type": "markdown",
   "id": "9208b4ef",
   "metadata": {
    "papermill": {
     "duration": 0.015639,
     "end_time": "2022-12-14T23:05:32.715156",
     "exception": false,
     "start_time": "2022-12-14T23:05:32.699517",
     "status": "completed"
    },
    "tags": []
   },
   "source": [
    "## Applying Logistic regression"
   ]
  },
  {
   "cell_type": "code",
   "execution_count": 16,
   "id": "9ac522dc",
   "metadata": {},
   "outputs": [
    {
     "name": "stdout",
     "output_type": "stream",
     "text": [
      "accuracy on the test set: 0.76\n",
      "f1_score on the test set: 0.79\n"
     ]
    },
    {
     "name": "stderr",
     "output_type": "stream",
     "text": [
      "C:\\Users\\Lida\\AppData\\Roaming\\Python\\Python39\\site-packages\\sklearn\\linear_model\\_logistic.py:458: ConvergenceWarning: lbfgs failed to converge (status=1):\n",
      "STOP: TOTAL NO. of ITERATIONS REACHED LIMIT.\n",
      "\n",
      "Increase the number of iterations (max_iter) or scale the data as shown in:\n",
      "    https://scikit-learn.org/stable/modules/preprocessing.html\n",
      "Please also refer to the documentation for alternative solver options:\n",
      "    https://scikit-learn.org/stable/modules/linear_model.html#logistic-regression\n",
      "  n_iter_i = _check_optimize_result(\n"
     ]
    }
   ],
   "source": [
    "# Create an object of class logistic regression\n",
    "log_reg = linear_model.LogisticRegression(max_iter = 50)\n",
    "# Train the model by minimizing the logloss\n",
    "log_reg.fit(X_train, y_train)\n",
    "print(f'accuracy on the test set: {log_reg.score(X_test, y_test):.2f}')\n",
    "y_test_pred = log_reg.predict(X_test)\n",
    "print(f'f1_score on the test set: {metrics.f1_score(y_test, y_test_pred):.2f}')"
   ]
  },
  {
   "attachments": {},
   "cell_type": "markdown",
   "id": "33be67e3",
   "metadata": {
    "papermill": {
     "duration": 0.015669,
     "end_time": "2022-12-14T23:05:33.044946",
     "exception": false,
     "start_time": "2022-12-14T23:05:33.029277",
     "status": "completed"
    },
    "tags": []
   },
   "source": [
    "# Applying grid search (**GridSearchCV**)"
   ]
  },
  {
   "cell_type": "code",
   "execution_count": 17,
   "id": "827052e4",
   "metadata": {},
   "outputs": [],
   "source": [
    "from sklearn.model_selection import GridSearchCV"
   ]
  },
  {
   "cell_type": "code",
   "execution_count": 18,
   "id": "2ef626ed",
   "metadata": {},
   "outputs": [
    {
     "name": "stdout",
     "output_type": "stream",
     "text": [
      "CPU times: total: 1.05 s\n",
      "Wall time: 6.52 s\n",
      "accuracy on the test set: 0.76\n",
      "f1_score on the test set: 0.79\n",
      "Best Hyperparameter Values: {'penalty': 'l2', 'solver': 'saga'}\n"
     ]
    },
    {
     "name": "stderr",
     "output_type": "stream",
     "text": [
      "C:\\Users\\Lida\\AppData\\Roaming\\Python\\Python39\\site-packages\\sklearn\\linear_model\\_sag.py:350: ConvergenceWarning: The max_iter was reached which means the coef_ did not converge\n",
      "  warnings.warn(\n"
     ]
    }
   ],
   "source": [
    "param_grid = {'penalty': ['l2', 'none'] ,#тип регурялизации\n",
    "                  'solver': ['lbfgs', 'saga'] #алгоритм оптимизации\n",
    "                  }\n",
    "grid_search = GridSearchCV(\n",
    "    estimator=linear_model.LogisticRegression(\n",
    "        random_state=42, # генератор случайных чисел\n",
    "        max_iter=25 # количество итераций на сходимость\n",
    "    ), \n",
    "    param_grid=param_grid, \n",
    "    cv=5, \n",
    "    n_jobs = -1\n",
    ")  \n",
    "%time grid_search.fit(X_train, y_train) \n",
    "print(f'accuracy on the test set: {grid_search.score(X_test, y_test):.2f}')\n",
    "y_test_pred = grid_search.predict(X_test)\n",
    "print(f'f1_score on the test set: {metrics.f1_score(y_test, y_test_pred):.2f}')\n",
    "print(f'Best Hyperparameter Values: {grid_search.best_params_}')"
   ]
  },
  {
   "attachments": {},
   "cell_type": "markdown",
   "id": "60d9d652",
   "metadata": {},
   "source": [
    "The values of the metrics have not changed, but this only means that we did not find a combination of external parameters that is better than the default ones. This is not surprising and quite often the initial hyperparameters give a good result, but this is not a reason to stop."
   ]
  },
  {
   "attachments": {},
   "cell_type": "markdown",
   "id": "678ce121",
   "metadata": {},
   "source": [
    "**Let's try to expand the hyperparameter grid**."
   ]
  },
  {
   "cell_type": "code",
   "execution_count": 19,
   "id": "474d8d63",
   "metadata": {},
   "outputs": [
    {
     "ename": "KeyboardInterrupt",
     "evalue": "",
     "output_type": "error",
     "traceback": [
      "\u001b[1;31m---------------------------------------------------------------------------\u001b[0m",
      "\u001b[1;31mKeyboardInterrupt\u001b[0m                         Traceback (most recent call last)",
      "File \u001b[1;32m<timed eval>:1\u001b[0m\n",
      "File \u001b[1;32m~\\AppData\\Roaming\\Python\\Python39\\site-packages\\sklearn\\model_selection\\_search.py:874\u001b[0m, in \u001b[0;36mBaseSearchCV.fit\u001b[1;34m(self, X, y, groups, **fit_params)\u001b[0m\n\u001b[0;32m    868\u001b[0m     results \u001b[39m=\u001b[39m \u001b[39mself\u001b[39m\u001b[39m.\u001b[39m_format_results(\n\u001b[0;32m    869\u001b[0m         all_candidate_params, n_splits, all_out, all_more_results\n\u001b[0;32m    870\u001b[0m     )\n\u001b[0;32m    872\u001b[0m     \u001b[39mreturn\u001b[39;00m results\n\u001b[1;32m--> 874\u001b[0m \u001b[39mself\u001b[39;49m\u001b[39m.\u001b[39;49m_run_search(evaluate_candidates)\n\u001b[0;32m    876\u001b[0m \u001b[39m# multimetric is determined here because in the case of a callable\u001b[39;00m\n\u001b[0;32m    877\u001b[0m \u001b[39m# self.scoring the return type is only known after calling\u001b[39;00m\n\u001b[0;32m    878\u001b[0m first_test_score \u001b[39m=\u001b[39m all_out[\u001b[39m0\u001b[39m][\u001b[39m\"\u001b[39m\u001b[39mtest_scores\u001b[39m\u001b[39m\"\u001b[39m]\n",
      "File \u001b[1;32m~\\AppData\\Roaming\\Python\\Python39\\site-packages\\sklearn\\model_selection\\_search.py:1388\u001b[0m, in \u001b[0;36mGridSearchCV._run_search\u001b[1;34m(self, evaluate_candidates)\u001b[0m\n\u001b[0;32m   1386\u001b[0m \u001b[39mdef\u001b[39;00m \u001b[39m_run_search\u001b[39m(\u001b[39mself\u001b[39m, evaluate_candidates):\n\u001b[0;32m   1387\u001b[0m \u001b[39m    \u001b[39m\u001b[39m\"\"\"Search all candidates in param_grid\"\"\"\u001b[39;00m\n\u001b[1;32m-> 1388\u001b[0m     evaluate_candidates(ParameterGrid(\u001b[39mself\u001b[39;49m\u001b[39m.\u001b[39;49mparam_grid))\n",
      "File \u001b[1;32m~\\AppData\\Roaming\\Python\\Python39\\site-packages\\sklearn\\model_selection\\_search.py:821\u001b[0m, in \u001b[0;36mBaseSearchCV.fit.<locals>.evaluate_candidates\u001b[1;34m(candidate_params, cv, more_results)\u001b[0m\n\u001b[0;32m    813\u001b[0m \u001b[39mif\u001b[39;00m \u001b[39mself\u001b[39m\u001b[39m.\u001b[39mverbose \u001b[39m>\u001b[39m \u001b[39m0\u001b[39m:\n\u001b[0;32m    814\u001b[0m     \u001b[39mprint\u001b[39m(\n\u001b[0;32m    815\u001b[0m         \u001b[39m\"\u001b[39m\u001b[39mFitting \u001b[39m\u001b[39m{0}\u001b[39;00m\u001b[39m folds for each of \u001b[39m\u001b[39m{1}\u001b[39;00m\u001b[39m candidates,\u001b[39m\u001b[39m\"\u001b[39m\n\u001b[0;32m    816\u001b[0m         \u001b[39m\"\u001b[39m\u001b[39m totalling \u001b[39m\u001b[39m{2}\u001b[39;00m\u001b[39m fits\u001b[39m\u001b[39m\"\u001b[39m\u001b[39m.\u001b[39mformat(\n\u001b[0;32m    817\u001b[0m             n_splits, n_candidates, n_candidates \u001b[39m*\u001b[39m n_splits\n\u001b[0;32m    818\u001b[0m         )\n\u001b[0;32m    819\u001b[0m     )\n\u001b[1;32m--> 821\u001b[0m out \u001b[39m=\u001b[39m parallel(\n\u001b[0;32m    822\u001b[0m     delayed(_fit_and_score)(\n\u001b[0;32m    823\u001b[0m         clone(base_estimator),\n\u001b[0;32m    824\u001b[0m         X,\n\u001b[0;32m    825\u001b[0m         y,\n\u001b[0;32m    826\u001b[0m         train\u001b[39m=\u001b[39;49mtrain,\n\u001b[0;32m    827\u001b[0m         test\u001b[39m=\u001b[39;49mtest,\n\u001b[0;32m    828\u001b[0m         parameters\u001b[39m=\u001b[39;49mparameters,\n\u001b[0;32m    829\u001b[0m         split_progress\u001b[39m=\u001b[39;49m(split_idx, n_splits),\n\u001b[0;32m    830\u001b[0m         candidate_progress\u001b[39m=\u001b[39;49m(cand_idx, n_candidates),\n\u001b[0;32m    831\u001b[0m         \u001b[39m*\u001b[39;49m\u001b[39m*\u001b[39;49mfit_and_score_kwargs,\n\u001b[0;32m    832\u001b[0m     )\n\u001b[0;32m    833\u001b[0m     \u001b[39mfor\u001b[39;49;00m (cand_idx, parameters), (split_idx, (train, test)) \u001b[39min\u001b[39;49;00m product(\n\u001b[0;32m    834\u001b[0m         \u001b[39menumerate\u001b[39;49m(candidate_params), \u001b[39menumerate\u001b[39;49m(cv\u001b[39m.\u001b[39;49msplit(X, y, groups))\n\u001b[0;32m    835\u001b[0m     )\n\u001b[0;32m    836\u001b[0m )\n\u001b[0;32m    838\u001b[0m \u001b[39mif\u001b[39;00m \u001b[39mlen\u001b[39m(out) \u001b[39m<\u001b[39m \u001b[39m1\u001b[39m:\n\u001b[0;32m    839\u001b[0m     \u001b[39mraise\u001b[39;00m \u001b[39mValueError\u001b[39;00m(\n\u001b[0;32m    840\u001b[0m         \u001b[39m\"\u001b[39m\u001b[39mNo fits were performed. \u001b[39m\u001b[39m\"\u001b[39m\n\u001b[0;32m    841\u001b[0m         \u001b[39m\"\u001b[39m\u001b[39mWas the CV iterator empty? \u001b[39m\u001b[39m\"\u001b[39m\n\u001b[0;32m    842\u001b[0m         \u001b[39m\"\u001b[39m\u001b[39mWere there no candidates?\u001b[39m\u001b[39m\"\u001b[39m\n\u001b[0;32m    843\u001b[0m     )\n",
      "File \u001b[1;32m~\\AppData\\Roaming\\Python\\Python39\\site-packages\\sklearn\\utils\\parallel.py:63\u001b[0m, in \u001b[0;36mParallel.__call__\u001b[1;34m(self, iterable)\u001b[0m\n\u001b[0;32m     58\u001b[0m config \u001b[39m=\u001b[39m get_config()\n\u001b[0;32m     59\u001b[0m iterable_with_config \u001b[39m=\u001b[39m (\n\u001b[0;32m     60\u001b[0m     (_with_config(delayed_func, config), args, kwargs)\n\u001b[0;32m     61\u001b[0m     \u001b[39mfor\u001b[39;00m delayed_func, args, kwargs \u001b[39min\u001b[39;00m iterable\n\u001b[0;32m     62\u001b[0m )\n\u001b[1;32m---> 63\u001b[0m \u001b[39mreturn\u001b[39;00m \u001b[39msuper\u001b[39;49m()\u001b[39m.\u001b[39;49m\u001b[39m__call__\u001b[39;49m(iterable_with_config)\n",
      "File \u001b[1;32m~\\AppData\\Roaming\\Python\\Python39\\site-packages\\joblib\\parallel.py:1098\u001b[0m, in \u001b[0;36mParallel.__call__\u001b[1;34m(self, iterable)\u001b[0m\n\u001b[0;32m   1095\u001b[0m     \u001b[39mself\u001b[39m\u001b[39m.\u001b[39m_iterating \u001b[39m=\u001b[39m \u001b[39mFalse\u001b[39;00m\n\u001b[0;32m   1097\u001b[0m \u001b[39mwith\u001b[39;00m \u001b[39mself\u001b[39m\u001b[39m.\u001b[39m_backend\u001b[39m.\u001b[39mretrieval_context():\n\u001b[1;32m-> 1098\u001b[0m     \u001b[39mself\u001b[39;49m\u001b[39m.\u001b[39;49mretrieve()\n\u001b[0;32m   1099\u001b[0m \u001b[39m# Make sure that we get a last message telling us we are done\u001b[39;00m\n\u001b[0;32m   1100\u001b[0m elapsed_time \u001b[39m=\u001b[39m time\u001b[39m.\u001b[39mtime() \u001b[39m-\u001b[39m \u001b[39mself\u001b[39m\u001b[39m.\u001b[39m_start_time\n",
      "File \u001b[1;32m~\\AppData\\Roaming\\Python\\Python39\\site-packages\\joblib\\parallel.py:975\u001b[0m, in \u001b[0;36mParallel.retrieve\u001b[1;34m(self)\u001b[0m\n\u001b[0;32m    973\u001b[0m \u001b[39mtry\u001b[39;00m:\n\u001b[0;32m    974\u001b[0m     \u001b[39mif\u001b[39;00m \u001b[39mgetattr\u001b[39m(\u001b[39mself\u001b[39m\u001b[39m.\u001b[39m_backend, \u001b[39m'\u001b[39m\u001b[39msupports_timeout\u001b[39m\u001b[39m'\u001b[39m, \u001b[39mFalse\u001b[39;00m):\n\u001b[1;32m--> 975\u001b[0m         \u001b[39mself\u001b[39m\u001b[39m.\u001b[39m_output\u001b[39m.\u001b[39mextend(job\u001b[39m.\u001b[39;49mget(timeout\u001b[39m=\u001b[39;49m\u001b[39mself\u001b[39;49m\u001b[39m.\u001b[39;49mtimeout))\n\u001b[0;32m    976\u001b[0m     \u001b[39melse\u001b[39;00m:\n\u001b[0;32m    977\u001b[0m         \u001b[39mself\u001b[39m\u001b[39m.\u001b[39m_output\u001b[39m.\u001b[39mextend(job\u001b[39m.\u001b[39mget())\n",
      "File \u001b[1;32m~\\AppData\\Roaming\\Python\\Python39\\site-packages\\joblib\\_parallel_backends.py:567\u001b[0m, in \u001b[0;36mLokyBackend.wrap_future_result\u001b[1;34m(future, timeout)\u001b[0m\n\u001b[0;32m    564\u001b[0m \u001b[39m\u001b[39m\u001b[39m\"\"\"Wrapper for Future.result to implement the same behaviour as\u001b[39;00m\n\u001b[0;32m    565\u001b[0m \u001b[39mAsyncResults.get from multiprocessing.\"\"\"\u001b[39;00m\n\u001b[0;32m    566\u001b[0m \u001b[39mtry\u001b[39;00m:\n\u001b[1;32m--> 567\u001b[0m     \u001b[39mreturn\u001b[39;00m future\u001b[39m.\u001b[39;49mresult(timeout\u001b[39m=\u001b[39;49mtimeout)\n\u001b[0;32m    568\u001b[0m \u001b[39mexcept\u001b[39;00m CfTimeoutError \u001b[39mas\u001b[39;00m e:\n\u001b[0;32m    569\u001b[0m     \u001b[39mraise\u001b[39;00m \u001b[39mTimeoutError\u001b[39;00m \u001b[39mfrom\u001b[39;00m \u001b[39me\u001b[39;00m\n",
      "File \u001b[1;32mc:\\Program Files\\Python39\\lib\\concurrent\\futures\\_base.py:441\u001b[0m, in \u001b[0;36mFuture.result\u001b[1;34m(self, timeout)\u001b[0m\n\u001b[0;32m    438\u001b[0m \u001b[39melif\u001b[39;00m \u001b[39mself\u001b[39m\u001b[39m.\u001b[39m_state \u001b[39m==\u001b[39m FINISHED:\n\u001b[0;32m    439\u001b[0m     \u001b[39mreturn\u001b[39;00m \u001b[39mself\u001b[39m\u001b[39m.\u001b[39m__get_result()\n\u001b[1;32m--> 441\u001b[0m \u001b[39mself\u001b[39;49m\u001b[39m.\u001b[39;49m_condition\u001b[39m.\u001b[39;49mwait(timeout)\n\u001b[0;32m    443\u001b[0m \u001b[39mif\u001b[39;00m \u001b[39mself\u001b[39m\u001b[39m.\u001b[39m_state \u001b[39min\u001b[39;00m [CANCELLED, CANCELLED_AND_NOTIFIED]:\n\u001b[0;32m    444\u001b[0m     \u001b[39mraise\u001b[39;00m CancelledError()\n",
      "File \u001b[1;32mc:\\Program Files\\Python39\\lib\\threading.py:312\u001b[0m, in \u001b[0;36mCondition.wait\u001b[1;34m(self, timeout)\u001b[0m\n\u001b[0;32m    310\u001b[0m \u001b[39mtry\u001b[39;00m:    \u001b[39m# restore state no matter what (e.g., KeyboardInterrupt)\u001b[39;00m\n\u001b[0;32m    311\u001b[0m     \u001b[39mif\u001b[39;00m timeout \u001b[39mis\u001b[39;00m \u001b[39mNone\u001b[39;00m:\n\u001b[1;32m--> 312\u001b[0m         waiter\u001b[39m.\u001b[39;49macquire()\n\u001b[0;32m    313\u001b[0m         gotit \u001b[39m=\u001b[39m \u001b[39mTrue\u001b[39;00m\n\u001b[0;32m    314\u001b[0m     \u001b[39melse\u001b[39;00m:\n",
      "\u001b[1;31mKeyboardInterrupt\u001b[0m: "
     ]
    },
    {
     "ename": "NotFittedError",
     "evalue": "This GridSearchCV instance is not fitted yet. Call 'fit' with appropriate arguments before using this estimator.",
     "output_type": "error",
     "traceback": [
      "\u001b[1;31m---------------------------------------------------------------------------\u001b[0m",
      "\u001b[1;31mNotFittedError\u001b[0m                            Traceback (most recent call last)",
      "Cell \u001b[1;32mIn[19], line 20\u001b[0m\n\u001b[0;32m     10\u001b[0m grid_search_1 \u001b[39m=\u001b[39m GridSearchCV(\n\u001b[0;32m     11\u001b[0m     estimator\u001b[39m=\u001b[39mlinear_model\u001b[39m.\u001b[39mLogisticRegression(\n\u001b[0;32m     12\u001b[0m         random_state\u001b[39m=\u001b[39m\u001b[39m1\u001b[39m, \n\u001b[1;32m   (...)\u001b[0m\n\u001b[0;32m     17\u001b[0m     n_jobs \u001b[39m=\u001b[39m \u001b[39m-\u001b[39m\u001b[39m1\u001b[39m\n\u001b[0;32m     18\u001b[0m )  \n\u001b[0;32m     19\u001b[0m get_ipython()\u001b[39m.\u001b[39mrun_line_magic(\u001b[39m'\u001b[39m\u001b[39mtime\u001b[39m\u001b[39m'\u001b[39m, \u001b[39m'\u001b[39m\u001b[39mgrid_search_1.fit(X_train, y_train)\u001b[39m\u001b[39m'\u001b[39m)\n\u001b[1;32m---> 20\u001b[0m \u001b[39mprint\u001b[39m(\u001b[39mf\u001b[39m\u001b[39m'\u001b[39m\u001b[39maccuracy on the test set: \u001b[39m\u001b[39m{\u001b[39;00mgrid_search_1\u001b[39m.\u001b[39;49mscore(X_test,\u001b[39m \u001b[39;49my_test)\u001b[39m:\u001b[39;00m\u001b[39m.2f\u001b[39m\u001b[39m}\u001b[39;00m\u001b[39m'\u001b[39m)\n\u001b[0;32m     21\u001b[0m y_test_pred \u001b[39m=\u001b[39m grid_search_1\u001b[39m.\u001b[39mpredict(X_test)\n\u001b[0;32m     22\u001b[0m \u001b[39mprint\u001b[39m(\u001b[39mf\u001b[39m\u001b[39m'\u001b[39m\u001b[39mf1_score on the test set: \u001b[39m\u001b[39m{\u001b[39;00mmetrics\u001b[39m.\u001b[39mf1_score(y_test,\u001b[39m \u001b[39my_test_pred)\u001b[39m:\u001b[39;00m\u001b[39m.2f\u001b[39m\u001b[39m}\u001b[39;00m\u001b[39m'\u001b[39m)\n",
      "File \u001b[1;32m~\\AppData\\Roaming\\Python\\Python39\\site-packages\\sklearn\\model_selection\\_search.py:436\u001b[0m, in \u001b[0;36mBaseSearchCV.score\u001b[1;34m(self, X, y)\u001b[0m\n\u001b[0;32m    413\u001b[0m \u001b[39m\u001b[39m\u001b[39m\"\"\"Return the score on the given data, if the estimator has been refit.\u001b[39;00m\n\u001b[0;32m    414\u001b[0m \n\u001b[0;32m    415\u001b[0m \u001b[39mThis uses the score defined by ``scoring`` where provided, and the\u001b[39;00m\n\u001b[1;32m   (...)\u001b[0m\n\u001b[0;32m    433\u001b[0m \u001b[39m    ``best_estimator_.score`` method otherwise.\u001b[39;00m\n\u001b[0;32m    434\u001b[0m \u001b[39m\"\"\"\u001b[39;00m\n\u001b[0;32m    435\u001b[0m _check_refit(\u001b[39mself\u001b[39m, \u001b[39m\"\u001b[39m\u001b[39mscore\u001b[39m\u001b[39m\"\u001b[39m)\n\u001b[1;32m--> 436\u001b[0m check_is_fitted(\u001b[39mself\u001b[39;49m)\n\u001b[0;32m    437\u001b[0m \u001b[39mif\u001b[39;00m \u001b[39mself\u001b[39m\u001b[39m.\u001b[39mscorer_ \u001b[39mis\u001b[39;00m \u001b[39mNone\u001b[39;00m:\n\u001b[0;32m    438\u001b[0m     \u001b[39mraise\u001b[39;00m \u001b[39mValueError\u001b[39;00m(\n\u001b[0;32m    439\u001b[0m         \u001b[39m\"\u001b[39m\u001b[39mNo score function explicitly defined, \u001b[39m\u001b[39m\"\u001b[39m\n\u001b[0;32m    440\u001b[0m         \u001b[39m\"\u001b[39m\u001b[39mand the estimator doesn\u001b[39m\u001b[39m'\u001b[39m\u001b[39mt provide one \u001b[39m\u001b[39m%s\u001b[39;00m\u001b[39m\"\u001b[39m\n\u001b[0;32m    441\u001b[0m         \u001b[39m%\u001b[39m \u001b[39mself\u001b[39m\u001b[39m.\u001b[39mbest_estimator_\n\u001b[0;32m    442\u001b[0m     )\n",
      "File \u001b[1;32m~\\AppData\\Roaming\\Python\\Python39\\site-packages\\sklearn\\utils\\validation.py:1390\u001b[0m, in \u001b[0;36mcheck_is_fitted\u001b[1;34m(estimator, attributes, msg, all_or_any)\u001b[0m\n\u001b[0;32m   1385\u001b[0m     fitted \u001b[39m=\u001b[39m [\n\u001b[0;32m   1386\u001b[0m         v \u001b[39mfor\u001b[39;00m v \u001b[39min\u001b[39;00m \u001b[39mvars\u001b[39m(estimator) \u001b[39mif\u001b[39;00m v\u001b[39m.\u001b[39mendswith(\u001b[39m\"\u001b[39m\u001b[39m_\u001b[39m\u001b[39m\"\u001b[39m) \u001b[39mand\u001b[39;00m \u001b[39mnot\u001b[39;00m v\u001b[39m.\u001b[39mstartswith(\u001b[39m\"\u001b[39m\u001b[39m__\u001b[39m\u001b[39m\"\u001b[39m)\n\u001b[0;32m   1387\u001b[0m     ]\n\u001b[0;32m   1389\u001b[0m \u001b[39mif\u001b[39;00m \u001b[39mnot\u001b[39;00m fitted:\n\u001b[1;32m-> 1390\u001b[0m     \u001b[39mraise\u001b[39;00m NotFittedError(msg \u001b[39m%\u001b[39m {\u001b[39m\"\u001b[39m\u001b[39mname\u001b[39m\u001b[39m\"\u001b[39m: \u001b[39mtype\u001b[39m(estimator)\u001b[39m.\u001b[39m\u001b[39m__name__\u001b[39m})\n",
      "\u001b[1;31mNotFittedError\u001b[0m: This GridSearchCV instance is not fitted yet. Call 'fit' with appropriate arguments before using this estimator."
     ]
    }
   ],
   "source": [
    "param_grid = [\n",
    "              {'penalty': ['l2', 'none'] , # тип регуляризации\n",
    "              'solver': ['lbfgs', 'sag'], # алгоритм оптимизации\n",
    "               'C': [0.01, 0.1, 0.3, 0.5, 0.7, 0.9, 1]}, # уровень силы регурялизации\n",
    "              \n",
    "              {'penalty': ['l1', 'l2'] ,\n",
    "              'solver': ['liblinear', 'saga'],\n",
    "               'C': [0.01, 0.1, 0.3, 0.5, 0.7, 0.9, 1]}\n",
    "]\n",
    "grid_search_1 = GridSearchCV(\n",
    "    estimator=linear_model.LogisticRegression(\n",
    "        random_state=1, \n",
    "        max_iter=50\n",
    "    ), \n",
    "    param_grid=param_grid, \n",
    "    cv=5, \n",
    "    n_jobs = -1\n",
    ")  \n",
    "%time grid_search_1.fit(X_train, y_train) \n",
    "print(f'accuracy on the test set: {grid_search_1.score(X_test, y_test):.2f}')\n",
    "y_test_pred = grid_search_1.predict(X_test)\n",
    "print(f'f1_score on the test set: {metrics.f1_score(y_test, y_test_pred):.2f}')\n",
    "print(f'Best Hyperparameter Values: {grid_search_1.best_params_}')"
   ]
  },
  {
   "attachments": {},
   "cell_type": "markdown",
   "id": "acd6e188",
   "metadata": {},
   "source": [
    "**The metric again failed to improve, and a lot of time was spent!**"
   ]
  },
  {
   "attachments": {},
   "cell_type": "markdown",
   "id": "eb57bf41",
   "metadata": {},
   "source": [
    "Let's get acquainted with the final model obtained using **best_estimator_**."
   ]
  },
  {
   "cell_type": "code",
   "execution_count": null,
   "id": "db306eab",
   "metadata": {},
   "outputs": [
    {
     "name": "stdout",
     "output_type": "stream",
     "text": [
      "Best model:\n",
      "LogisticRegression(max_iter=50, random_state=42, solver='saga')\n"
     ]
    }
   ],
   "source": [
    "print(f'Best model:\\n{grid_search.best_estimator_}')"
   ]
  },
  {
   "cell_type": "code",
   "execution_count": null,
   "id": "82a3fb53",
   "metadata": {},
   "outputs": [
    {
     "name": "stdout",
     "output_type": "stream",
     "text": [
      "Best value for cross-validation accuracy: 0.76\n"
     ]
    }
   ],
   "source": [
    "print(f'Best value for cross-validation accuracy: {grid_search.best_score_:.2f}')"
   ]
  },
  {
   "cell_type": "code",
   "execution_count": null,
   "id": "b5c75f5c",
   "metadata": {},
   "outputs": [
    {
     "data": {
      "text/html": [
       "<div>\n",
       "<style scoped>\n",
       "    .dataframe tbody tr th:only-of-type {\n",
       "        vertical-align: middle;\n",
       "    }\n",
       "\n",
       "    .dataframe tbody tr th {\n",
       "        vertical-align: top;\n",
       "    }\n",
       "\n",
       "    .dataframe thead th {\n",
       "        text-align: right;\n",
       "    }\n",
       "</style>\n",
       "<table border=\"1\" class=\"dataframe\">\n",
       "  <thead>\n",
       "    <tr style=\"text-align: right;\">\n",
       "      <th></th>\n",
       "      <th>mean_fit_time</th>\n",
       "      <th>std_fit_time</th>\n",
       "      <th>mean_score_time</th>\n",
       "      <th>std_score_time</th>\n",
       "      <th>param_C</th>\n",
       "      <th>param_penalty</th>\n",
       "      <th>param_solver</th>\n",
       "      <th>params</th>\n",
       "      <th>split0_test_score</th>\n",
       "      <th>split1_test_score</th>\n",
       "      <th>split2_test_score</th>\n",
       "      <th>split3_test_score</th>\n",
       "      <th>split4_test_score</th>\n",
       "      <th>mean_test_score</th>\n",
       "      <th>std_test_score</th>\n",
       "      <th>rank_test_score</th>\n",
       "    </tr>\n",
       "  </thead>\n",
       "  <tbody>\n",
       "    <tr>\n",
       "      <th>0</th>\n",
       "      <td>0.634617</td>\n",
       "      <td>0.059415</td>\n",
       "      <td>0.026751</td>\n",
       "      <td>0.002895</td>\n",
       "      <td>0.01</td>\n",
       "      <td>l2</td>\n",
       "      <td>lbfgs</td>\n",
       "      <td>{'C': 0.01, 'penalty': 'l2', 'solver': 'lbfgs'}</td>\n",
       "      <td>0.74778</td>\n",
       "      <td>0.737123</td>\n",
       "      <td>0.751332</td>\n",
       "      <td>0.759786</td>\n",
       "      <td>0.761566</td>\n",
       "      <td>0.751517</td>\n",
       "      <td>0.008838</td>\n",
       "      <td>28</td>\n",
       "    </tr>\n",
       "    <tr>\n",
       "      <th>1</th>\n",
       "      <td>3.149527</td>\n",
       "      <td>0.053262</td>\n",
       "      <td>0.021848</td>\n",
       "      <td>0.001892</td>\n",
       "      <td>0.01</td>\n",
       "      <td>l2</td>\n",
       "      <td>sag</td>\n",
       "      <td>{'C': 0.01, 'penalty': 'l2', 'solver': 'sag'}</td>\n",
       "      <td>0.74778</td>\n",
       "      <td>0.738899</td>\n",
       "      <td>0.751332</td>\n",
       "      <td>0.759786</td>\n",
       "      <td>0.759786</td>\n",
       "      <td>0.751517</td>\n",
       "      <td>0.007874</td>\n",
       "      <td>29</td>\n",
       "    </tr>\n",
       "  </tbody>\n",
       "</table>\n",
       "</div>"
      ],
      "text/plain": [
       "   mean_fit_time  std_fit_time  mean_score_time  std_score_time param_C  \\\n",
       "0       0.634617      0.059415         0.026751        0.002895    0.01   \n",
       "1       3.149527      0.053262         0.021848        0.001892    0.01   \n",
       "\n",
       "  param_penalty param_solver                                           params  \\\n",
       "0            l2        lbfgs  {'C': 0.01, 'penalty': 'l2', 'solver': 'lbfgs'}   \n",
       "1            l2          sag    {'C': 0.01, 'penalty': 'l2', 'solver': 'sag'}   \n",
       "\n",
       "   split0_test_score  split1_test_score  split2_test_score  split3_test_score  \\\n",
       "0            0.74778           0.737123           0.751332           0.759786   \n",
       "1            0.74778           0.738899           0.751332           0.759786   \n",
       "\n",
       "   split4_test_score  mean_test_score  std_test_score  rank_test_score  \n",
       "0           0.761566         0.751517        0.008838               28  \n",
       "1           0.759786         0.751517        0.007874               29  "
      ]
     },
     "execution_count": 24,
     "metadata": {},
     "output_type": "execute_result"
    }
   ],
   "source": [
    "# Взглянем на результаты кросс-валидации\n",
    "result_cv = pd.DataFrame(grid_search_1.cv_results_)\n",
    "result_cv.head(2)"
   ]
  },
  {
   "cell_type": "code",
   "execution_count": null,
   "id": "3994929b",
   "metadata": {},
   "outputs": [
    {
     "data": {
      "image/png": "[encoded data removed]",
      "text/plain": [
       "<Figure size 1200x800 with 2 Axes>"
      ]
     },
     "metadata": {},
     "output_type": "display_data"
    }
   ],
   "source": [
    "# draw how the accuracy changed with different hyperparameters\n",
    "visual = pd.pivot_table(pd.DataFrame(grid_search_1.cv_results_),\n",
    "                        values='mean_test_score', index='param_C',\n",
    "                        columns='param_solver')\n",
    "sns.heatmap(visual)\n",
    "plt.title('Heat map of \"accuracy\" metric dependency on solver and \"C\"') # chart caption\n",
    "sns.set(rc={'figure.figsize':(12, 8)}) # set chart size"
   ]
  },
  {
   "attachments": {},
   "cell_type": "markdown",
   "id": "25eade5b",
   "metadata": {},
   "source": [
    "You may notice that the lbfgs optimization algorithm does not work well and weak regularization C = 0.01 negatively affects the metric, so it makes sense to take values greater than 0.3."
   ]
  },
  {
   "attachments": {},
   "cell_type": "markdown",
   "id": "f728d64d",
   "metadata": {
    "papermill": {
     "duration": 0.017943,
     "end_time": "2022-12-14T23:05:34.374024",
     "exception": false,
     "start_time": "2022-12-14T23:05:34.356081",
     "status": "completed"
    },
    "tags": []
   },
   "source": [
    "# Applying RandomizedSearchCV"
   ]
  },
  {
   "cell_type": "code",
   "execution_count": null,
   "id": "c7fbf886",
   "metadata": {},
   "outputs": [
    {
     "name": "stderr",
     "output_type": "stream",
     "text": [
      "C:\\Users\\Lida\\AppData\\Roaming\\Python\\Python39\\site-packages\\sklearn\\linear_model\\_logistic.py:1173: FutureWarning: `penalty='none'`has been deprecated in 1.2 and will be removed in 1.4. To keep the past behaviour, set `penalty=None`.\n",
      "  warnings.warn(\n",
      "C:\\Users\\Lida\\AppData\\Roaming\\Python\\Python39\\site-packages\\sklearn\\linear_model\\_logistic.py:1181: UserWarning: Setting penalty=None will ignore the C and l1_ratio parameters\n",
      "  warnings.warn(\n"
     ]
    },
    {
     "name": "stdout",
     "output_type": "stream",
     "text": [
      "CPU times: total: 859 ms\n",
      "Wall time: 8.33 s\n",
      "accuracy на тестовом наборе: 0.76\n",
      "f1_score на тестовом наборе: 0.79\n",
      "Наилучшие значения гиперпараметров: {'solver': 'sag', 'penalty': 'none', 'C': 0.89}\n"
     ]
    },
    {
     "name": "stderr",
     "output_type": "stream",
     "text": [
      "C:\\Users\\Lida\\AppData\\Roaming\\Python\\Python39\\site-packages\\sklearn\\linear_model\\_sag.py:350: ConvergenceWarning: The max_iter was reached which means the coef_ did not converge\n",
      "  warnings.warn(\n"
     ]
    }
   ],
   "source": [
    "from sklearn.model_selection import RandomizedSearchCV\n",
    "\n",
    "# np.linspace(start(от), stop(до), num=50(количество), dtype- тип данных)\n",
    "param_distributions = {'penalty': ['l2', 'none'] ,\n",
    "              'solver': ['lbfgs', 'sag'],\n",
    "               'C': list(np.linspace(0.01, 1, 10, dtype=float))},\n",
    "            \n",
    "random_search = RandomizedSearchCV(\n",
    "    estimator=linear_model.LogisticRegression(\n",
    "        random_state=33, \n",
    "        max_iter=20), \n",
    "    param_distributions=param_distributions, \n",
    "    cv=5, \n",
    "    n_iter = 10, \n",
    "    n_jobs = -1\n",
    ")  \n",
    "%time random_search.fit(X_train, y_train) \n",
    "print(f'accuracy on the test set: {random_search.score(X_test, y_test):.2f}')\n",
    "y_test_pred = random_search.predict(X_test)\n",
    "print(f'f1_score on the test set: {metrics.f1_score(y_test, y_test_pred):.2f}')\n",
    "print(f'Best Hyperparameter Values: {random_search.best_params_}')"
   ]
  },
  {
   "cell_type": "code",
   "execution_count": null,
   "id": "058e3c9d",
   "metadata": {},
   "outputs": [
    {
     "name": "stdout",
     "output_type": "stream",
     "text": [
      "CPU times: total: 1.2 s\n",
      "Wall time: 45.4 s\n",
      "accuracy на тестовом наборе: 0.75\n",
      "f1_score на тестовом наборе: 0.78\n",
      "Наилучшие значения гиперпараметров: {'C': 2.23, 'penalty': 'l2', 'solver': 'lbfgs'}\n"
     ]
    },
    {
     "name": "stderr",
     "output_type": "stream",
     "text": [
      "C:\\Users\\Lida\\AppData\\Roaming\\Python\\Python39\\site-packages\\sklearn\\linear_model\\_logistic.py:458: ConvergenceWarning: lbfgs failed to converge (status=1):\n",
      "STOP: TOTAL NO. of ITERATIONS REACHED LIMIT.\n",
      "\n",
      "Increase the number of iterations (max_iter) or scale the data as shown in:\n",
      "    https://scikit-learn.org/stable/modules/preprocessing.html\n",
      "Please also refer to the documentation for alternative solver options:\n",
      "    https://scikit-learn.org/stable/modules/linear_model.html#logistic-regression\n",
      "  n_iter_i = _check_optimize_result(\n"
     ]
    }
   ],
   "source": [
    "param_grid = {'penalty': ['l2', 'none'] ,\n",
    "              'solver': ['lbfgs', 'sag'],\n",
    "               'C': list(np.linspace(0.01, 10, 10, dtype=float))},\n",
    "            \n",
    "grid_search_2 = GridSearchCV(\n",
    "    estimator=linear_model.LogisticRegression(\n",
    "        random_state=42, \n",
    "        max_iter=50), \n",
    "    param_grid=param_grid, \n",
    "    cv=5, \n",
    "    n_jobs = -1\n",
    ")  \n",
    "%time grid_search_2.fit(X_train, y_train) \n",
    "print(f'accuracy on the test set: {grid_search_2.score(X_test, y_test):.2f}')\n",
    "y_test_pred = grid_search_2.predict(X_test)\n",
    "print(f'f1_score on the test set: {metrics.f1_score(y_test, y_test_pred):.2f}')\n",
    "print(f'Best Hyperparameter Values: {grid_search_2.best_params_}')"
   ]
  },
  {
   "attachments": {},
   "cell_type": "markdown",
   "id": "8baa17b2",
   "metadata": {},
   "source": [
    "It took more time to iterate over the entire GridSearchCV grid. Also, the metrics have deteriorated."
   ]
  },
  {
   "attachments": {},
   "cell_type": "markdown",
   "id": "bc360ee8",
   "metadata": {
    "papermill": {
     "duration": 0.018435,
     "end_time": "2022-12-14T23:05:35.531980",
     "exception": false,
     "start_time": "2022-12-14T23:05:35.513545",
     "status": "completed"
    },
    "tags": []
   },
   "source": [
    "# Appling the decision tree"
   ]
  },
  {
   "cell_type": "code",
   "execution_count": null,
   "id": "3972975c",
   "metadata": {},
   "outputs": [
    {
     "name": "stdout",
     "output_type": "stream",
     "text": [
      "Train: 1.00\n",
      "Test: 0.73\n"
     ]
    }
   ],
   "source": [
    "#Создаем объект класса дерево решений\n",
    "dt = tree.DecisionTreeClassifier(random_state=42)\n",
    "#Обучаем дерево по алгоритму CARTrint\n",
    "dt.fit(X_train, y_train)\n",
    "#Выводим значения метрики \n",
    "y_train_pred = dt.predict(X_train)\n",
    "print(f'Train: {metrics.f1_score(y_train, y_train_pred):.2f}')\n",
    "y_test_pred = dt.predict(X_test)\n",
    "print(f'Test: {metrics.f1_score(y_test, y_test_pred):.2f}')"
   ]
  },
  {
   "attachments": {},
   "cell_type": "markdown",
   "id": "79675bad",
   "metadata": {},
   "source": [
    "Now let's define the hyperparameter grid:\n",
    "* 'min_samples_leaf' - minimum number of objects in a leaf;\n",
    "* 'max_depth': maximum depth of the tree, should not be too large, otherwise there will be overfitting;\n",
    "* 'criterion' - informative criterion\n",
    "\n",
    "And count RandomizedSearchCV() and then GridSearchCV()"
   ]
  },
  {
   "cell_type": "code",
   "execution_count": null,
   "id": "0e20cdeb",
   "metadata": {},
   "outputs": [
    {
     "name": "stdout",
     "output_type": "stream",
     "text": [
      "CPU times: total: 1.14 s\n",
      "Wall time: 15 s\n",
      "accuracy на тестовом наборе: 0.74\n",
      "f1_score на тестовом наборе: 0.78\n",
      "Наилучшие значения гиперпараметров: {'min_samples_leaf': 5, 'max_depth': 8, 'criterion': 'gini'}\n"
     ]
    }
   ],
   "source": [
    "param_distributions = {\n",
    "        'min_samples_leaf': list(np.linspace(5, 100, 50, dtype=int)),\n",
    "        'max_depth': list(np.linspace(1, 30, 50, dtype=int)),\n",
    "        'criterion':['entropy','gini']\n",
    "        }\n",
    "            \n",
    "random_search_tree = RandomizedSearchCV(\n",
    "    estimator=tree.DecisionTreeClassifier(random_state=42), \n",
    "    param_distributions=param_distributions, \n",
    "    cv=5,\n",
    "    n_iter=50, \n",
    "    n_jobs=-1\n",
    ")  \n",
    "%time random_search_tree.fit(X_train, y_train) \n",
    "print(f'accuracy on the test set: {random_search_tree.score(X_test, y_test):.2f}')\n",
    "y_test_pred = random_search_tree.predict(X_test)\n",
    "print(f'f1_score on the test set: {metrics.f1_score(y_test, y_test_pred):.2f}')\n",
    "print(f'Best Hyperparameter Values: {random_search_tree.best_params_}')"
   ]
  },
  {
   "cell_type": "code",
   "execution_count": null,
   "id": "ae21574f",
   "metadata": {},
   "outputs": [
    {
     "name": "stdout",
     "output_type": "stream",
     "text": [
      "CPU times: total: 1min 40s\n",
      "Wall time: 37min 59s\n",
      "accuracy на тестовом наборе: 0.74\n",
      "f1_score на тестовом наборе: 0.78\n",
      "Наилучшие значения гиперпараметров: {'criterion': 'gini', 'max_depth': 7, 'min_samples_leaf': 6}\n"
     ]
    }
   ],
   "source": [
    "param_grid = {'min_samples_leaf': list(np.linspace(5, 100, 50, dtype=int)),\n",
    "              'max_depth': list(np.linspace(1, 30, 50, dtype=int)),\n",
    "              'criterion':['entropy','gini']\n",
    "              }\n",
    "            \n",
    "grid_search_tree = GridSearchCV(\n",
    "    estimator=tree.DecisionTreeClassifier(random_state=42), \n",
    "    param_grid=param_grid, \n",
    "    cv=5, \n",
    "    n_jobs = -1\n",
    ")  \n",
    "%time grid_search_tree.fit(X_train, y_train) \n",
    "print(f'accuracy на тестовом наборе: {grid_search_tree.score(X_test, y_test):.2f}')\n",
    "y_test_pred = grid_search_tree.predict(X_test)\n",
    "print(f'f1_score на тестовом наборе: {metrics.f1_score(y_test, y_test_pred):.2f}')\n",
    "print(f'Best Hyperparameter Values: {grid_search_tree.best_params_}')"
   ]
  },
  {
   "attachments": {},
   "cell_type": "markdown",
   "id": "89709739",
   "metadata": {
    "papermill": {
     "duration": 0.017639,
     "end_time": "2022-12-14T23:05:35.690080",
     "exception": false,
     "start_time": "2022-12-14T23:05:35.672441",
     "status": "completed"
    },
    "tags": []
   },
   "source": [
    "# Applying random forest"
   ]
  },
  {
   "cell_type": "code",
   "execution_count": null,
   "id": "836aff42",
   "metadata": {},
   "outputs": [
    {
     "name": "stdout",
     "output_type": "stream",
     "text": [
      "Train: 1.00\n",
      "Test: 0.81\n"
     ]
    }
   ],
   "source": [
    "#Создаем объект класса случайный лес\n",
    "rf = ensemble.RandomForestClassifier(random_state=42)\n",
    "\n",
    "#Обучаем модель\n",
    "rf.fit(X_train, y_train)\n",
    "#Выводим значения метрики \n",
    "y_train_pred = rf.predict(X_train)\n",
    "print(f'Train: {metrics.f1_score(y_train, y_train_pred):.2f}')\n",
    "y_test_pred = rf.predict(X_test)\n",
    "print(f'Test: {metrics.f1_score(y_test, y_test_pred):.2f}')"
   ]
  },
  {
   "attachments": {},
   "cell_type": "markdown",
   "id": "07579d4c",
   "metadata": {},
   "source": [
    "Now let's define the hyperparameter grid:\n",
    "\n",
    "* 'n_estimators' - number of trees in the forest, default = 100\n",
    "* 'min_samples_leaf' - minimum number of objects in a leaf;\n",
    "* 'max_depth': deep tree expansion is large, should not be too much, otherwise there will be overfitting;\n",
    "\n",
    "And calculate RandomizedSearchCV() and then GridSearchCV()"
   ]
  },
  {
   "cell_type": "code",
   "execution_count": null,
   "id": "2670a024",
   "metadata": {},
   "outputs": [
    {
     "name": "stdout",
     "output_type": "stream",
     "text": [
      "CPU times: total: 2.2 s\n",
      "Wall time: 23.3 s\n",
      "f1_score on the train set: 0.94\n",
      "accuracy on the test set: 0.80\n",
      "f1_score on the test set: 0.82\n",
      "Best Hyperparameter Values: {'n_estimators': 170, 'min_samples_leaf': 5, 'max_depth': 24}\n"
     ]
    }
   ],
   "source": [
    "param_distributions = {'n_estimators': list(range(80, 200, 30)),\n",
    "              'min_samples_leaf': [5],\n",
    "              'max_depth': list(np.linspace(20, 40, 10, dtype=int))\n",
    "              }\n",
    "            \n",
    "random_search_forest = RandomizedSearchCV(\n",
    "    estimator=ensemble.RandomForestClassifier(random_state=42), \n",
    "    param_distributions=param_distributions, \n",
    "    cv=5,\n",
    "    n_iter = 10, \n",
    "    n_jobs = -1\n",
    ")  \n",
    "%time random_search_forest.fit(X_train, y_train) \n",
    "y_train_pred = random_search_forest.predict(X_train)\n",
    "print(f'f1_score on the train set: {metrics.f1_score(y_train, y_train_pred):.2f}'.format())\n",
    "print(f'accuracy on the test set: {random_search_forest.score(X_test, y_test):.2f}')\n",
    "y_test_pred = random_search_forest.predict(X_test)\n",
    "print(f'f1_score on the test set: {metrics.f1_score(y_test, y_test_pred):.2f}')\n",
    "print(f'Best Hyperparameter Values: {random_search_forest.best_params_}')"
   ]
  },
  {
   "cell_type": "code",
   "execution_count": null,
   "id": "e95303bb",
   "metadata": {},
   "outputs": [
    {
     "name": "stdout",
     "output_type": "stream",
     "text": [
      "CPU times: total: 2.58 s\n",
      "Wall time: 46.8 s\n",
      "f1_score on the train set: 0.94\n",
      "accuracy on the test set: 0.79\n",
      "f1_score on the test set: 0.82\n",
      "Best Hyperparameter Values: {'max_depth': 25, 'min_samples_leaf': 5, 'n_estimators': 170}\n"
     ]
    }
   ],
   "source": [
    "param_grid = {'n_estimators': list(range(80, 200, 30)),\n",
    "              'min_samples_leaf': [5],\n",
    "              'max_depth': list(np.linspace(20, 40, 5, dtype=int))\n",
    "              }\n",
    "            \n",
    "grid_search_forest = GridSearchCV(\n",
    "    estimator=ensemble.RandomForestClassifier(random_state=42), \n",
    "    param_grid=param_grid, \n",
    "    cv=5, \n",
    "    n_jobs = -1\n",
    ")  \n",
    "%time grid_search_forest.fit(X_train, y_train) \n",
    "y_train_pred = grid_search_forest.predict(X_train)\n",
    "print(f'f1_score on the train set: {metrics.f1_score(y_train, y_train_pred):.2f}')\n",
    "print(f'accuracy on the test set: {grid_search_forest.score(X_test, y_test):.2f}')\n",
    "y_test_pred = grid_search_forest.predict(X_test)\n",
    "print(f'f1_score on the test set: {metrics.f1_score(y_test, y_test_pred):.2f}')\n",
    "print(f'Best Hyperparameter Values: {grid_search_forest.best_params_}')"
   ]
  },
  {
   "attachments": {},
   "cell_type": "markdown",
   "id": "7b1fe1dd",
   "metadata": {},
   "source": [
    "We implement the hyperparameter setting of the RandomForestClassifier(random_state=42) algorithm with the following grid of values:\n",
    "\n",
    "* n_estimators = 100 to 200 in increments of 30\n",
    "* min_samples_leaf = [5, 7]\n",
    "* max_depth = [10, 15, 20, 25]\n",
    "\n",
    "Use RandomizedSearchCV with parameters cv = 5, n_iter = 10"
   ]
  },
  {
   "cell_type": "code",
   "execution_count": null,
   "id": "13882276",
   "metadata": {},
   "outputs": [
    {
     "name": "stdout",
     "output_type": "stream",
     "text": [
      "Train: 1.00\n",
      "Test: 0.81\n"
     ]
    }
   ],
   "source": [
    "#Создаем объект класса случайный лес\n",
    "rf = ensemble.RandomForestClassifier(random_state=42)\n",
    "\n",
    "#Обучаем модель\n",
    "rf.fit(X_train, y_train)\n",
    "#Выводим значения метрики \n",
    "y_train_pred = rf.predict(X_train)\n",
    "print(f'Train: {metrics.f1_score(y_train, y_train_pred):.2f}')\n",
    "y_test_pred = rf.predict(X_test)\n",
    "print(f'Test: {metrics.f1_score(y_test, y_test_pred):.2f}')"
   ]
  },
  {
   "cell_type": "code",
   "execution_count": null,
   "id": "35904451",
   "metadata": {},
   "outputs": [
    {
     "name": "stdout",
     "output_type": "stream",
     "text": [
      "CPU times: total: 1.36 s\n",
      "Wall time: 17 s\n",
      "f1_score on the train set: 0.94\n",
      "accuracy on the test set: 0.79\n",
      "f1_score on the test set: 0.81\n",
      "Best Hyperparameter Values: {'n_estimators': 100, 'min_samples_leaf': 5, 'max_depth': 25}\n"
     ]
    }
   ],
   "source": [
    "param_distributions = {'n_estimators': list(range(100, 200, 30)),\n",
    "              'min_samples_leaf': [5, 7],\n",
    "              'max_depth': [10, 15, 20, 25]\n",
    "              }\n",
    "            \n",
    "random_search_forest = RandomizedSearchCV(\n",
    "    estimator=ensemble.RandomForestClassifier(random_state=42), \n",
    "    param_distributions=param_distributions, \n",
    "    cv=5,\n",
    "    n_iter = 10, \n",
    "    n_jobs = -1\n",
    ")   \n",
    "%time random_search_forest.fit(X_train, y_train) \n",
    "y_train_pred = random_search_forest.predict(X_train)\n",
    "print(f'f1_score on the train set: {metrics.f1_score(y_train, y_train_pred):.2f}')\n",
    "print(f'accuracy on the test set: {random_search_forest.score(X_test, y_test):.2f}')\n",
    "y_test_pred = random_search_forest.predict(X_test)\n",
    "print(f'f1_score on the test set: {metrics.f1_score(y_test, y_test_pred):.2f}')\n",
    "print(f'Best Hyperparameter Values: {random_search_forest.best_params_}')"
   ]
  },
  {
   "attachments": {},
   "cell_type": "markdown",
   "id": "cb3ec29a",
   "metadata": {},
   "source": [
    "We implement the hyperparameter setting of the RandomForestClassifier(random_state=42) algorithm with the following grid of values:\n",
    "\n",
    "* n_estimators = 100 to 200 in increments of 30\n",
    "* min_samples_leaf = [5, 7]\n",
    "* max_depth = [10, 15, 20, 25]\n",
    "\n",
    "Use GridSearchCV with cv = 5 parameters."
   ]
  },
  {
   "cell_type": "code",
   "execution_count": null,
   "id": "ead01b9f",
   "metadata": {},
   "outputs": [
    {
     "name": "stdout",
     "output_type": "stream",
     "text": [
      "CPU times: total: 1.75 s\n",
      "Wall time: 58.8 s\n",
      "f1_score on the train set: 0.94\n",
      "accuracy on the test set: 0.78\n",
      "f1_score on the test set: 0.81\n",
      "Best Hyperparameter Values: {'max_depth': 20, 'min_samples_leaf': 5, 'n_estimators': 100}\n"
     ]
    }
   ],
   "source": [
    "param_grid = {'n_estimators': list(range(100, 200, 30)),\n",
    "              'min_samples_leaf': [5, 7],\n",
    "              'max_depth': [10, 15, 20, 25]\n",
    "              }\n",
    "            \n",
    "grid_search_forest = GridSearchCV(\n",
    "    estimator=ensemble.RandomForestClassifier(random_state=42), \n",
    "    param_grid=param_grid, \n",
    "    cv=5, \n",
    "    n_jobs = -1\n",
    ")  \n",
    "%time grid_search_forest.fit(X_train, y_train) \n",
    "y_train_pred = grid_search_forest.predict(X_train)\n",
    "print(f'f1_score on the train set: {metrics.f1_score(y_train, y_train_pred):.2f}')\n",
    "print(f'accuracy on the test set: {grid_search_forest.score(X_test, y_test):.2f}')\n",
    "y_test_pred = grid_search_forest.predict(X_test)\n",
    "print(f'f1_score on the test set: {metrics.f1_score(y_test, y_test_pred):.2f}')\n",
    "print(f'Best Hyperparameter Values: {grid_search_forest.best_params_}')"
   ]
  },
  {
   "attachments": {},
   "cell_type": "markdown",
   "id": "9c427a34",
   "metadata": {},
   "source": [
    "**Basic Optimization Conclusion:**\n",
    "\n",
    "Using many examples, we were able to demonstrate the more efficient and faster work of RandomizedSearchCV on GridSearchCV."
   ]
  },
  {
   "attachments": {},
   "cell_type": "markdown",
   "id": "63513f61",
   "metadata": {
    "papermill": {
     "duration": 0.015846,
     "end_time": "2022-12-14T23:05:35.909366",
     "exception": false,
     "start_time": "2022-12-14T23:05:35.893520",
     "status": "completed"
    },
    "tags": []
   },
   "source": [
    "# Applying Hyperopt"
   ]
  },
  {
   "cell_type": "code",
   "execution_count": null,
   "id": "63b7b127",
   "metadata": {},
   "outputs": [
    {
     "name": "stdout",
     "output_type": "stream",
     "text": [
      "Defaulting to user installation because normal site-packages is not writeable\n",
      "Requirement already satisfied: hyperopt in c:\\users\\lida\\appdata\\roaming\\python\\python39\\site-packages (0.2.7)\n",
      "Requirement already satisfied: numpy in c:\\users\\lida\\appdata\\roaming\\python\\python39\\site-packages (from hyperopt) (1.23.5)\n",
      "Requirement already satisfied: scipy in c:\\users\\lida\\appdata\\roaming\\python\\python39\\site-packages (from hyperopt) (1.10.1)\n",
      "Requirement already satisfied: six in c:\\users\\lida\\appdata\\roaming\\python\\python39\\site-packages (from hyperopt) (1.16.0)\n",
      "Requirement already satisfied: networkx>=2.2 in c:\\users\\lida\\appdata\\roaming\\python\\python39\\site-packages (from hyperopt) (3.1)\n",
      "Requirement already satisfied: future in c:\\users\\lida\\appdata\\roaming\\python\\python39\\site-packages (from hyperopt) (0.18.3)\n",
      "Requirement already satisfied: tqdm in c:\\users\\lida\\appdata\\roaming\\python\\python39\\site-packages (from hyperopt) (4.65.0)\n",
      "Requirement already satisfied: cloudpickle in c:\\users\\lida\\appdata\\roaming\\python\\python39\\site-packages (from hyperopt) (2.2.1)\n",
      "Requirement already satisfied: py4j in c:\\users\\lida\\appdata\\roaming\\python\\python39\\site-packages (from hyperopt) (0.10.9.7)\n",
      "Requirement already satisfied: colorama in c:\\users\\lida\\appdata\\roaming\\python\\python39\\site-packages (from tqdm->hyperopt) (0.4.6)\n"
     ]
    }
   ],
   "source": [
    "# Устанавливаем библиотеку\n",
    "! pip install hyperopt"
   ]
  },
  {
   "cell_type": "code",
   "execution_count": null,
   "id": "4b37cc1e",
   "metadata": {},
   "outputs": [],
   "source": [
    "# do the import and display the version of the library\n",
    "from sklearn.model_selection import cross_val_score\n",
    "import hyperopt\n",
    "from hyperopt import hp, fmin, tpe, Trials\n",
    "# fmin is a general function, it will be customized to our functionality\n",
    "# tpe - algorithm\n",
    "# hp - includes a set of methods for declaring a hyperparameter search space"
   ]
  },
  {
   "attachments": {},
   "cell_type": "markdown",
   "id": "09686f40",
   "metadata": {},
   "source": [
    "Set up hyperparameter optimization for the random forest algorithm."
   ]
  },
  {
   "cell_type": "code",
   "execution_count": null,
   "id": "27602f9e",
   "metadata": {},
   "outputs": [],
   "source": [
    "# set the hyperparameter search space\n",
    "space={'n_estimators': hp.quniform('n_estimators', 100, 200, 1),\n",
    "        'max_depth' : hp.quniform('max_depth', 15, 26, 1),\n",
    "        'min_samples_leaf': hp.quniform('min_samples_leaf', 2, 10, 1)\n",
    "       }"
   ]
  },
  {
   "cell_type": "code",
   "execution_count": null,
   "id": "a80f5f1a",
   "metadata": {},
   "outputs": [],
   "source": [
    "# fix random_state\n",
    "random_state = 42\n",
    "def hyperopt_rf(params, cv=5, X=X_train, y=y_train, random_state=random_state):\n",
    "        # the function gets the combination of hyperparameters in \"params\"\n",
    "        params = {'n_estimators': int(params['n_estimators']),\n",
    "                 'max_depth': int(params['max_depth']),\n",
    "                 'min_samples_leaf': int(params['min_samples_leaf'])\n",
    "                }\n",
    "  \n",
    "        # use this combination to build the model\n",
    "        model = ensemble.RandomForestClassifier(**params, random_state=random_state)\n",
    "\n",
    "        # train the model\n",
    "        model.fit(X, y)\n",
    "        score = metrics.f1_score(y, model.predict(X))\n",
    "    \n",
    "        # you can also train the model using cross-validation\n",
    "        # apply cross validation with the same number of folds\n",
    "        # score = cross_val_score(model, X, y, cv=cv, scoring=\"f1\", n_jobs=-1).mean()\n",
    "\n",
    "        # the metric needs to be minimized, so we put a minus sign\n",
    "        return -score"
   ]
  },
  {
   "attachments": {},
   "cell_type": "markdown",
   "id": "8becfc34",
   "metadata": {},
   "source": [
    "## selection of hyperparameters"
   ]
  },
  {
   "cell_type": "code",
   "execution_count": null,
   "id": "38f5ddb8",
   "metadata": {},
   "outputs": [
    {
     "name": "stdout",
     "output_type": "stream",
     "text": [
      "100%|██████████| 20/20 [00:32<00:00,  1.64s/trial, best loss: -0.9863560732113146]\n",
      "Best hyperparameter values {'max_depth': 18.0, 'min_samples_leaf': 2.0, 'n_estimators': 103.0}\n",
      "CPU times: total: 32.6 s\n",
      "Wall time: 32.8 s\n"
     ]
    }
   ],
   "source": [
    "%%time\n",
    "# start the selection of hyperparameters\n",
    "\n",
    "trials = Trials() # used to log results\n",
    "\n",
    "best = fmin(hyperopt_rf, # our function\n",
    "           space=space, # hyperparameter space\n",
    "           algo=tpe.suggest, # optimization algorithm, set by default, optional\n",
    "           max_evals=20, # maximum number of iterations\n",
    "           trials=trials, # logging results\n",
    "           rstate=np.random.default_rng(random_state) # fix for repeatability\n",
    "          )\n",
    "print(f'Best hyperparameter values {best}')"
   ]
  },
  {
   "attachments": {},
   "cell_type": "markdown",
   "id": "93738e8e",
   "metadata": {},
   "source": [
    "## calculate the accuracy for the test sample"
   ]
  },
  {
   "cell_type": "code",
   "execution_count": null,
   "id": "1bd52030",
   "metadata": {},
   "outputs": [
    {
     "name": "stdout",
     "output_type": "stream",
     "text": [
      "f1_score on the train set: 0.99\n",
      "accuracy on the test set: 0.80\n",
      "f1_score on the test set: 0.83\n"
     ]
    }
   ],
   "source": [
    "model = ensemble.RandomForestClassifier(\n",
    "    random_state=random_state, \n",
    "    n_estimators=int(best['n_estimators']),\n",
    "    max_depth=int(best['max_depth']),\n",
    "    min_samples_leaf=int(best['min_samples_leaf'])\n",
    ")\n",
    "model.fit(X_train, y_train)\n",
    "y_train_pred = model.predict(X_train)\n",
    "print(f'f1_score on the train set: {metrics.f1_score(y_train, y_train_pred):.2f}')\n",
    "print(f'accuracy on the test set: {model.score(X_test, y_test):.2f}')\n",
    "y_test_pred = model.predict(X_test)\n",
    "print(f'f1_score on the test set: {metrics.f1_score(y_test, y_test_pred):.2f}')"
   ]
  },
  {
   "attachments": {},
   "cell_type": "markdown",
   "id": "fceb99e3",
   "metadata": {},
   "source": [
    "## continue the selection"
   ]
  },
  {
   "cell_type": "code",
   "execution_count": null,
   "id": "ff77c0c5",
   "metadata": {},
   "outputs": [
    {
     "name": "stdout",
     "output_type": "stream",
     "text": [
      "100%|██████████| 23/23 [00:06<00:00,  2.16s/trial, best loss: -0.988681757656458] \n",
      "Best hyperparameter values {'max_depth': 19.0, 'min_samples_leaf': 2.0, 'n_estimators': 159.0}\n"
     ]
    }
   ],
   "source": [
    "# if you need to continue the selection,\n",
    "# then increase max_evals (should be strictly greater than in previous iterations)\n",
    "# and use the old trials\n",
    "best=fmin(hyperopt_rf, # our function\n",
    "           space=space, # hyperparameter space\n",
    "           algo=tpe.suggest, # optimization algorithm, set by default, optional\n",
    "           max_evals=23, # maximum number of iterations\n",
    "           trials=trials, # logging results\n",
    "           rstate=np.random.default_rng(random_state)# fix for result repeatability\n",
    "          )\n",
    "print(f'Best hyperparameter values {best}')"
   ]
  },
  {
   "attachments": {},
   "cell_type": "markdown",
   "id": "5d702ada",
   "metadata": {},
   "source": [
    "We implement the hyperparameter setting of the RandomForestClassifier(random_state=42) algorithm with the following grid of values:\n",
    "\n",
    "* n_estimators = from 100 to 300 inclusive in increments of 10\n",
    "* min_samples_leaf = 3 to 7 in increments of 1\n",
    "* max_depth = from 15 to 40 in steps of 1\n",
    "\n",
    "We use Hyperopt with parameters max_evals = 20."
   ]
  },
  {
   "cell_type": "code",
   "execution_count": null,
   "id": "3d4ac6d2",
   "metadata": {},
   "outputs": [],
   "source": [
    "# set the hyperparameter search space\n",
    "space={'n_estimators': hp.quniform('n_estimators', 100, 300, 10),\n",
    "        'max_depth' : hp.quniform('max_depth', 15, 40, 1),\n",
    "        'min_samples_leaf': hp.quniform('min_samples_leaf', 3, 7, 1)\n",
    "       }"
   ]
  },
  {
   "cell_type": "code",
   "execution_count": null,
   "id": "f058797c",
   "metadata": {},
   "outputs": [],
   "source": [
    "# fix random_state\n",
    "random_state = 42\n",
    "def hyperopt_rf(params, cv=5, X=X_train, y=y_train, random_state=random_state):\n",
    "       # the function gets the combination of hyperparameters in \"params\"\n",
    "       params = {'n_estimators': int(params['n_estimators']),\n",
    "               'max_depth': int(params['max_depth']),\n",
    "              'min_samples_leaf': int(params['min_samples_leaf'])\n",
    "               }\n",
    "  \n",
    "       # use this combination to build the model\n",
    "       model = ensemble.RandomForestClassifier(**params, random_state=random_state)\n",
    "\n",
    "       # train the model\n",
    "       model.fit(X, y)\n",
    "       score = metrics.f1_score(y, model.predict(X))\n",
    "    \n",
    "       # you can also train the model using cross-validation\n",
    "       # apply cross validation with the same number of folds\n",
    "       # score = cross_val_score(model, X, y, cv=cv, scoring=\"f1\", n_jobs=-1).mean()\n",
    "\n",
    "       # the metric needs to be minimized, so we put a minus sign\n",
    "       return -score"
   ]
  },
  {
   "attachments": {},
   "cell_type": "markdown",
   "id": "f10b2140",
   "metadata": {},
   "source": [
    "## selection of hyperparameters"
   ]
  },
  {
   "cell_type": "code",
   "execution_count": null,
   "id": "23589cdf",
   "metadata": {},
   "outputs": [
    {
     "name": "stdout",
     "output_type": "stream",
     "text": [
      "100%|██████████| 20/20 [00:44<00:00,  2.21s/trial, best loss: -0.9737802854298041]\n",
      "Best hyperparameter values {'max_depth': 22.0, 'min_samples_leaf': 3.0, 'n_estimators': 200.0}\n",
      "CPU times: total: 44 s\n",
      "Wall time: 44.2 s\n"
     ]
    }
   ],
   "source": [
    "%%time\n",
    "# start the selection of hyperparameters\n",
    "\n",
    "trials = Trials() # used to log results\n",
    "\n",
    "best=fmin(hyperopt_rf, # our function\n",
    "           space=space, # hyperparameter space\n",
    "           algo=tpe.suggest, # optimization algorithm, set by default, optional\n",
    "           max_evals=20, # maximum number of iterations\n",
    "           trials=trials, # logging results\n",
    "           rstate=np.random.default_rng(random_state) # fix for repeatability\n",
    "          )\n",
    "print(f'Best hyperparameter values {best}')"
   ]
  },
  {
   "attachments": {},
   "cell_type": "markdown",
   "id": "72e17512",
   "metadata": {},
   "source": [
    "## calculate the accuracy for the test set"
   ]
  },
  {
   "cell_type": "code",
   "execution_count": null,
   "id": "9d2a0a1b",
   "metadata": {},
   "outputs": [
    {
     "name": "stdout",
     "output_type": "stream",
     "text": [
      "f1_score on training set: 0.97\n",
      "accuracy on test set: 0.81\n",
      "f1_score on test set: 0.83\n"
     ]
    }
   ],
   "source": [
    "# calculate the accuracy for the test set\n",
    "model = ensemble.RandomForestClassifier(\n",
    "    random_state=random_state,\n",
    "    n_estimators=int(best['n_estimators']),\n",
    "    max_depth=int(best['max_depth']),\n",
    "    min_samples_leaf=int(best['min_samples_leaf'])\n",
    ")\n",
    "model.fit(X_train, y_train)\n",
    "y_train_pred = model.predict(X_train)\n",
    "print(f'f1_score on training set: {metrics.f1_score(y_train, y_train_pred):.2f}')\n",
    "print(f'accuracy on test set: {model.score(X_test, y_test):.2f}')\n",
    "y_test_pred = model.predict(X_test)\n",
    "print(f'f1_score on test set: {metrics.f1_score(y_test, y_test_pred):.2f}')"
   ]
  },
  {
   "attachments": {},
   "cell_type": "markdown",
   "id": "753b3696",
   "metadata": {
    "papermill": {
     "duration": 0.015981,
     "end_time": "2022-12-14T23:05:35.990635",
     "exception": false,
     "start_time": "2022-12-14T23:05:35.974654",
     "status": "completed"
    },
    "tags": []
   },
   "source": [
    "## continue the selection"
   ]
  },
  {
   "cell_type": "code",
   "execution_count": null,
   "id": "100c7c23",
   "metadata": {},
   "outputs": [
    {
     "name": "stdout",
     "output_type": "stream",
     "text": [
      "100%|██████████| 23/23 [00:08<00:00,  2.72s/trial, best loss: -0.9737802854298041]\n",
      "Best hyperparameter values {'max_depth': 22.0, 'min_samples_leaf': 3.0, 'n_estimators': 200.0}\n"
     ]
    }
   ],
   "source": [
    "# if you need to continue the selection,\n",
    "# then increase max_evals (should be strictly greater than in previous iterations)\n",
    "# and use the old trials\n",
    "best = fmin(hyperopt_rf, # our function\n",
    "           space=space, # hyperparameter space\n",
    "           algo=tpe.suggest, # optimization algorithm, set by default, optional\n",
    "           max_evals=23, # maximum number of iterations\n",
    "           trials=trials, # logging results\n",
    "           rstate=np.random.default_rng(random_state)# fix for result repeatability\n",
    "          )\n",
    "print(f'Best hyperparameter values {best}')"
   ]
  },
  {
   "attachments": {},
   "cell_type": "markdown",
   "id": "5cd20276",
   "metadata": {},
   "source": [
    "# Applying Optuna"
   ]
  },
  {
   "cell_type": "code",
   "execution_count": null,
   "id": "5d9d58c6",
   "metadata": {},
   "outputs": [
    {
     "name": "stdout",
     "output_type": "stream",
     "text": [
      "Defaulting to user installation because normal site-packages is not writeable\n",
      "Requirement already satisfied: optuna in c:\\users\\lida\\appdata\\roaming\\python\\python39\\site-packages (3.2.0)\n",
      "Requirement already satisfied: alembic>=1.5.0 in c:\\users\\lida\\appdata\\roaming\\python\\python39\\site-packages (from optuna) (1.11.1)\n",
      "Requirement already satisfied: cmaes>=0.9.1 in c:\\users\\lida\\appdata\\roaming\\python\\python39\\site-packages (from optuna) (0.9.1)\n",
      "Requirement already satisfied: colorlog in c:\\users\\lida\\appdata\\roaming\\python\\python39\\site-packages (from optuna) (6.7.0)\n",
      "Requirement already satisfied: numpy in c:\\users\\lida\\appdata\\roaming\\python\\python39\\site-packages (from optuna) (1.23.5)\n",
      "Requirement already satisfied: packaging>=20.0 in c:\\users\\lida\\appdata\\roaming\\python\\python39\\site-packages (from optuna) (23.0)\n",
      "Requirement already satisfied: sqlalchemy>=1.3.0 in c:\\users\\lida\\appdata\\roaming\\python\\python39\\site-packages (from optuna) (2.0.15)\n",
      "Requirement already satisfied: tqdm in c:\\users\\lida\\appdata\\roaming\\python\\python39\\site-packages (from optuna) (4.65.0)\n",
      "Requirement already satisfied: PyYAML in c:\\users\\lida\\appdata\\roaming\\python\\python39\\site-packages (from optuna) (6.0)\n",
      "Requirement already satisfied: Mako in c:\\users\\lida\\appdata\\roaming\\python\\python39\\site-packages (from alembic>=1.5.0->optuna) (1.2.4)\n",
      "Requirement already satisfied: typing-extensions>=4 in c:\\users\\lida\\appdata\\roaming\\python\\python39\\site-packages (from alembic>=1.5.0->optuna) (4.6.2)\n",
      "Requirement already satisfied: greenlet!=0.4.17 in c:\\users\\lida\\appdata\\roaming\\python\\python39\\site-packages (from sqlalchemy>=1.3.0->optuna) (2.0.2)\n",
      "Requirement already satisfied: colorama in c:\\users\\lida\\appdata\\roaming\\python\\python39\\site-packages (from colorlog->optuna) (0.4.6)\n",
      "Requirement already satisfied: MarkupSafe>=0.9.2 in c:\\users\\lida\\appdata\\roaming\\python\\python39\\site-packages (from Mako->alembic>=1.5.0->optuna) (2.1.3)\n"
     ]
    }
   ],
   "source": [
    "# Install library\n",
    "! pip install optuna"
   ]
  },
  {
   "cell_type": "code",
   "execution_count": null,
   "id": "5c6c2f4a",
   "metadata": {},
   "outputs": [],
   "source": [
    "import optuna"
   ]
  },
  {
   "cell_type": "code",
   "execution_count": null,
   "id": "77eff872",
   "metadata": {},
   "outputs": [],
   "source": [
    "def optuna_rf(trial):\n",
    "    # set hyperparameter search spaces\n",
    "    n_estimators = trial.suggest_int('n_estimators', 100, 200, 1)\n",
    "    max_depth = trial.suggest_int('max_depth', 10, 30, 1)\n",
    "    min_samples_leaf = trial.suggest_int('min_samples_leaf', 2, 10, 1)\n",
    "\n",
    "    # create a model\n",
    "    model = ensemble.RandomForestClassifier(n_estimators=n_estimators,\n",
    "                                           max_depth=max_depth,\n",
    "                                           min_samples_leaf=min_samples_leaf,\n",
    "                                           random_state=random_state)\n",
    "    # train the model\n",
    "    model.fit(X_train, y_train)\n",
    "    score = metrics.f1_score(y_train, model.predict(X_train))\n",
    "\n",
    "    return score"
   ]
  },
  {
   "attachments": {},
   "cell_type": "markdown",
   "id": "c4e88fe4",
   "metadata": {},
   "source": [
    "##  maximize the metric"
   ]
  },
  {
   "cell_type": "code",
   "execution_count": null,
   "id": "1dc856fc",
   "metadata": {},
   "outputs": [
    {
     "name": "stderr",
     "output_type": "stream",
     "text": [
      "[I 2023-07-11 20:25:59,365] A new study created in memory with name: RandomForestClassifier\n",
      "[I 2023-07-11 20:26:01,465] Trial 0 finished with value: 0.9153667441088617 and parameters: {'n_estimators': 190, 'max_depth': 28, 'min_samples_leaf': 8}. Best is trial 0 with value: 0.9153667441088617.\n",
      "[I 2023-07-11 20:26:03,762] Trial 1 finished with value: 0.9436102769436103 and parameters: {'n_estimators': 193, 'max_depth': 12, 'min_samples_leaf': 3}. Best is trial 1 with value: 0.9436102769436103.\n",
      "[I 2023-07-11 20:26:06,511] Trial 2 finished with value: 0.9906914893617021 and parameters: {'n_estimators': 188, 'max_depth': 29, 'min_samples_leaf': 2}. Best is trial 2 with value: 0.9906914893617021.\n",
      "[I 2023-07-11 20:26:07,922] Trial 3 finished with value: 0.9405907733156322 and parameters: {'n_estimators': 112, 'max_depth': 27, 'min_samples_leaf': 5}. Best is trial 2 with value: 0.9906914893617021.\n",
      "[I 2023-07-11 20:26:10,011] Trial 4 finished with value: 0.9188473004306061 and parameters: {'n_estimators': 181, 'max_depth': 30, 'min_samples_leaf': 7}. Best is trial 2 with value: 0.9906914893617021.\n",
      "[I 2023-07-11 20:26:11,182] Trial 5 finished with value: 0.8871930988719311 and parameters: {'n_estimators': 121, 'max_depth': 11, 'min_samples_leaf': 10}. Best is trial 2 with value: 0.9906914893617021.\n",
      "[I 2023-07-11 20:26:12,662] Trial 6 finished with value: 0.919973544973545 and parameters: {'n_estimators': 132, 'max_depth': 18, 'min_samples_leaf': 7}. Best is trial 2 with value: 0.9906914893617021.\n",
      "[I 2023-07-11 20:26:15,214] Trial 7 finished with value: 0.9890256069171933 and parameters: {'n_estimators': 174, 'max_depth': 28, 'min_samples_leaf': 2}. Best is trial 2 with value: 0.9906914893617021.\n",
      "[I 2023-07-11 20:26:16,872] Trial 8 finished with value: 0.9309887193098872 and parameters: {'n_estimators': 143, 'max_depth': 26, 'min_samples_leaf': 6}. Best is trial 2 with value: 0.9906914893617021.\n",
      "[I 2023-07-11 20:26:18,325] Trial 9 finished with value: 0.9127694859038143 and parameters: {'n_estimators': 125, 'max_depth': 16, 'min_samples_leaf': 8}. Best is trial 2 with value: 0.9906914893617021.\n",
      "[I 2023-07-11 20:26:20,453] Trial 10 finished with value: 0.9569251159708416 and parameters: {'n_estimators': 164, 'max_depth': 23, 'min_samples_leaf': 4}. Best is trial 2 with value: 0.9906914893617021.\n",
      "[I 2023-07-11 20:26:22,942] Trial 11 finished with value: 0.988681757656458 and parameters: {'n_estimators': 168, 'max_depth': 23, 'min_samples_leaf': 2}. Best is trial 2 with value: 0.9906914893617021.\n",
      "[I 2023-07-11 20:26:25,428] Trial 12 finished with value: 0.9890183028286189 and parameters: {'n_estimators': 169, 'max_depth': 23, 'min_samples_leaf': 2}. Best is trial 2 with value: 0.9906914893617021.\n",
      "[I 2023-07-11 20:26:28,004] Trial 13 finished with value: 0.9562043795620438 and parameters: {'n_estimators': 199, 'max_depth': 30, 'min_samples_leaf': 4}. Best is trial 2 with value: 0.9906914893617021.\n",
      "[I 2023-07-11 20:26:30,591] Trial 14 finished with value: 0.9896838602329452 and parameters: {'n_estimators': 177, 'max_depth': 25, 'min_samples_leaf': 2}. Best is trial 2 with value: 0.9906914893617021.\n",
      "[I 2023-07-11 20:26:32,585] Trial 15 finished with value: 0.955194158645868 and parameters: {'n_estimators': 154, 'max_depth': 25, 'min_samples_leaf': 4}. Best is trial 2 with value: 0.9906914893617021.\n",
      "[I 2023-07-11 20:26:34,620] Trial 16 finished with value: 0.9720372836218376 and parameters: {'n_estimators': 153, 'max_depth': 21, 'min_samples_leaf': 3}. Best is trial 2 with value: 0.9906914893617021.\n",
      "[I 2023-07-11 20:26:36,944] Trial 17 finished with value: 0.9727393617021277 and parameters: {'n_estimators': 183, 'max_depth': 19, 'min_samples_leaf': 3}. Best is trial 2 with value: 0.9906914893617021.\n",
      "[I 2023-07-11 20:26:39,352] Trial 18 finished with value: 0.9422694094226941 and parameters: {'n_estimators': 200, 'max_depth': 25, 'min_samples_leaf': 5}. Best is trial 2 with value: 0.9906914893617021.\n",
      "[I 2023-07-11 20:26:40,437] Trial 19 finished with value: 0.894789246598075 and parameters: {'n_estimators': 100, 'max_depth': 15, 'min_samples_leaf': 10}. Best is trial 2 with value: 0.9906914893617021.\n"
     ]
    },
    {
     "name": "stdout",
     "output_type": "stream",
     "text": [
      "CPU times: total: 40.8 s\n",
      "Wall time: 41.1 s\n"
     ]
    }
   ],
   "source": [
    "%%time\n",
    "# create an object of study\n",
    "# we can directly specify that we need to maximize the metric direction=\"maximize\"\n",
    "study = optuna.create_study(study_name=\"RandomForestClassifier\", direction=\"maximize\")\n",
    "# looking for the best combination of hyperparameters n_trials times\n",
    "study.optimize(optuna_rf, n_trials=20)"
   ]
  },
  {
   "attachments": {},
   "cell_type": "markdown",
   "id": "ab130572",
   "metadata": {},
   "source": [
    "## display the results"
   ]
  },
  {
   "cell_type": "code",
   "execution_count": null,
   "id": "2b10072a",
   "metadata": {},
   "outputs": [
    {
     "name": "stdout",
     "output_type": "stream",
     "text": [
      "Best Hyperparameter Values {'n_estimators': 188, 'max_depth': 29, 'min_samples_leaf': 2}\n",
      "f1_score on training set: 0.99\n"
     ]
    }
   ],
   "source": [
    "# display the results on the training set\n",
    "print(f'Best Hyperparameter Values {study.best_params}')\n",
    "print(f'f1_score on training set: {study.best_value:.2f}')"
   ]
  },
  {
   "attachments": {},
   "cell_type": "markdown",
   "id": "2a89c7d0",
   "metadata": {},
   "source": [
    "## calculate the accuracy for the test set"
   ]
  },
  {
   "cell_type": "code",
   "execution_count": null,
   "id": "19a1dc2b",
   "metadata": {},
   "outputs": [
    {
     "name": "stdout",
     "output_type": "stream",
     "text": [
      "accuracy на тестовом наборе: 0.81\n",
      "f1_score на тестовом наборе: 0.83\n"
     ]
    }
   ],
   "source": [
    "model = ensemble.RandomForestClassifier(**study.best_params,random_state=random_state, )\n",
    "model.fit(X_train, y_train)\n",
    "y_train_pred = model.predict(X_train)\n",
    "print(f'accuracy на тестовом наборе: {model.score(X_test, y_test):.2f}')\n",
    "y_test_pred = model.predict(X_test)\n",
    "print(f'f1_score на тестовом наборе: {metrics.f1_score(y_test, y_test_pred):.2f}')"
   ]
  },
  {
   "attachments": {},
   "cell_type": "markdown",
   "id": "3a9c41ba",
   "metadata": {},
   "source": [
    "## continue the selection by specifying n_trials"
   ]
  },
  {
   "cell_type": "code",
   "execution_count": null,
   "id": "bf8e3fee",
   "metadata": {},
   "outputs": [
    {
     "name": "stderr",
     "output_type": "stream",
     "text": [
      "[I 2023-07-11 20:26:45,910] Trial 20 finished with value: 0.9906914893617021 and parameters: {'n_estimators': 180, 'max_depth': 30, 'min_samples_leaf': 2}. Best is trial 2 with value: 0.9906914893617021.\n",
      "[I 2023-07-11 20:26:48,461] Trial 21 finished with value: 0.9916860658463584 and parameters: {'n_estimators': 182, 'max_depth': 30, 'min_samples_leaf': 2}. Best is trial 21 with value: 0.9916860658463584.\n",
      "[I 2023-07-11 20:26:50,555] Trial 22 finished with value: 0.9730986383261375 and parameters: {'n_estimators': 160, 'max_depth': 30, 'min_samples_leaf': 3}. Best is trial 21 with value: 0.9916860658463584.\n",
      "[I 2023-07-11 20:26:53,146] Trial 23 finished with value: 0.9916860658463584 and parameters: {'n_estimators': 184, 'max_depth': 28, 'min_samples_leaf': 2}. Best is trial 21 with value: 0.9916860658463584.\n",
      "[I 2023-07-11 20:26:55,560] Trial 24 finished with value: 0.9737628694785785 and parameters: {'n_estimators': 187, 'max_depth': 28, 'min_samples_leaf': 3}. Best is trial 21 with value: 0.9916860658463584.\n",
      "[I 2023-07-11 20:26:57,932] Trial 25 finished with value: 0.9419568822553898 and parameters: {'n_estimators': 193, 'max_depth': 28, 'min_samples_leaf': 5}. Best is trial 21 with value: 0.9916860658463584.\n",
      "[I 2023-07-11 20:26:59,794] Trial 26 finished with value: 0.9544699235626454 and parameters: {'n_estimators': 144, 'max_depth': 27, 'min_samples_leaf': 4}. Best is trial 21 with value: 0.9916860658463584.\n",
      "[I 2023-07-11 20:27:02,239] Trial 27 finished with value: 0.9893475366178429 and parameters: {'n_estimators': 172, 'max_depth': 22, 'min_samples_leaf': 2}. Best is trial 21 with value: 0.9916860658463584.\n",
      "[I 2023-07-11 20:27:04,766] Trial 28 finished with value: 0.9737628694785785 and parameters: {'n_estimators': 187, 'max_depth': 29, 'min_samples_leaf': 3}. Best is trial 21 with value: 0.9916860658463584.\n",
      "[I 2023-07-11 20:27:06,714] Trial 29 finished with value: 0.9064986737400531 and parameters: {'n_estimators': 191, 'max_depth': 26, 'min_samples_leaf': 9}. Best is trial 21 with value: 0.9916860658463584.\n"
     ]
    },
    {
     "name": "stdout",
     "output_type": "stream",
     "text": [
      "CPU times: total: 23.2 s\n",
      "Wall time: 23.4 s\n"
     ]
    }
   ],
   "source": [
    "%%time\n",
    "# we can continue the selection by specifying n_trials (any number that will be added to previous iterations)\n",
    "study.optimize(optuna_rf, n_trials=10)"
   ]
  },
  {
   "attachments": {},
   "cell_type": "markdown",
   "id": "eadfdff1",
   "metadata": {},
   "source": [
    "## visualization"
   ]
  },
  {
   "cell_type": "code",
   "execution_count": null,
   "id": "3d215745",
   "metadata": {},
   "outputs": [
    {
     "data": {
      "application/vnd.plotly.v1+json": {
       "config": {
        "plotlyServerURL": "https://plot.ly"
       },
       "data": [
        {
         "mode": "markers",
         "name": "f1_score",
         "type": "scatter",
         "x": [
          0,
          1,
          2,
          3,
          4,
          5,
          6,
          7,
          8,
          9,
          10,
          11,
          12,
          13,
          14,
          15,
          16,
          17,
          18,
          19,
          20,
          21,
          22,
          23,
          24,
          25,
          26,
          27,
          28,
          29
         ],
         "y": [
          0.9153667441088617,
          0.9436102769436103,
          0.9906914893617021,
          0.9405907733156322,
          0.9188473004306061,
          0.8871930988719311,
          0.919973544973545,
          0.9890256069171933,
          0.9309887193098872,
          0.9127694859038143,
          0.9569251159708416,
          0.988681757656458,
          0.9890183028286189,
          0.9562043795620438,
          0.9896838602329452,
          0.955194158645868,
          0.9720372836218376,
          0.9727393617021277,
          0.9422694094226941,
          0.894789246598075,
          0.9906914893617021,
          0.9916860658463584,
          0.9730986383261375,
          0.9916860658463584,
          0.9737628694785785,
          0.9419568822553898,
          0.9544699235626454,
          0.9893475366178429,
          0.9737628694785785,
          0.9064986737400531
         ]
        },
        {
         "name": "Best Value",
         "type": "scatter",
         "x": [
          0,
          1,
          2,
          3,
          4,
          5,
          6,
          7,
          8,
          9,
          10,
          11,
          12,
          13,
          14,
          15,
          16,
          17,
          18,
          19,
          20,
          21,
          22,
          23,
          24,
          25,
          26,
          27,
          28,
          29
         ],
         "y": [
          0.9153667441088617,
          0.9436102769436103,
          0.9906914893617021,
          0.9906914893617021,
          0.9906914893617021,
          0.9906914893617021,
          0.9906914893617021,
          0.9906914893617021,
          0.9906914893617021,
          0.9906914893617021,
          0.9906914893617021,
          0.9906914893617021,
          0.9906914893617021,
          0.9906914893617021,
          0.9906914893617021,
          0.9906914893617021,
          0.9906914893617021,
          0.9906914893617021,
          0.9906914893617021,
          0.9906914893617021,
          0.9906914893617021,
          0.9916860658463584,
          0.9916860658463584,
          0.9916860658463584,
          0.9916860658463584,
          0.9916860658463584,
          0.9916860658463584,
          0.9916860658463584,
          0.9916860658463584,
          0.9916860658463584
         ]
        }
       ],
       "layout": {
        "template": {
         "data": {
          "bar": [
           {
            "error_x": {
             "color": "#2a3f5f"
            },
            "error_y": {
             "color": "#2a3f5f"
            },
            "marker": {
             "line": {
              "color": "#E5ECF6",
              "width": 0.5
             },
             "pattern": {
              "fillmode": "overlay",
              "size": 10,
              "solidity": 0.2
             }
            },
            "type": "bar"
           }
          ],
          "barpolar": [
           {
            "marker": {
             "line": {
              "color": "#E5ECF6",
              "width": 0.5
             },
             "pattern": {
              "fillmode": "overlay",
              "size": 10,
              "solidity": 0.2
             }
            },
            "type": "barpolar"
           }
          ],
          "carpet": [
           {
            "aaxis": {
             "endlinecolor": "#2a3f5f",
             "gridcolor": "white",
             "linecolor": "white",
             "minorgridcolor": "white",
             "startlinecolor": "#2a3f5f"
            },
            "baxis": {
             "endlinecolor": "#2a3f5f",
             "gridcolor": "white",
             "linecolor": "white",
             "minorgridcolor": "white",
             "startlinecolor": "#2a3f5f"
            },
            "type": "carpet"
           }
          ],
          "choropleth": [
           {
            "colorbar": {
             "outlinewidth": 0,
             "ticks": ""
            },
            "type": "choropleth"
           }
          ],
          "contour": [
           {
            "colorbar": {
             "outlinewidth": 0,
             "ticks": ""
            },
            "colorscale": [
             [
              0,
              "#0d0887"
             ],
             [
              0.1111111111111111,
              "#46039f"
             ],
             [
              0.2222222222222222,
              "#7201a8"
             ],
             [
              0.3333333333333333,
              "#9c179e"
             ],
             [
              0.4444444444444444,
              "#bd3786"
             ],
             [
              0.5555555555555556,
              "#d8576b"
             ],
             [
              0.6666666666666666,
              "#ed7953"
             ],
             [
              0.7777777777777778,
              "#fb9f3a"
             ],
             [
              0.8888888888888888,
              "#fdca26"
             ],
             [
              1,
              "#f0f921"
             ]
            ],
            "type": "contour"
           }
          ],
          "contourcarpet": [
           {
            "colorbar": {
             "outlinewidth": 0,
             "ticks": ""
            },
            "type": "contourcarpet"
           }
          ],
          "heatmap": [
           {
            "colorbar": {
             "outlinewidth": 0,
             "ticks": ""
            },
            "colorscale": [
             [
              0,
              "#0d0887"
             ],
             [
              0.1111111111111111,
              "#46039f"
             ],
             [
              0.2222222222222222,
              "#7201a8"
             ],
             [
              0.3333333333333333,
              "#9c179e"
             ],
             [
              0.4444444444444444,
              "#bd3786"
             ],
             [
              0.5555555555555556,
              "#d8576b"
             ],
             [
              0.6666666666666666,
              "#ed7953"
             ],
             [
              0.7777777777777778,
              "#fb9f3a"
             ],
             [
              0.8888888888888888,
              "#fdca26"
             ],
             [
              1,
              "#f0f921"
             ]
            ],
            "type": "heatmap"
           }
          ],
          "heatmapgl": [
           {
            "colorbar": {
             "outlinewidth": 0,
             "ticks": ""
            },
            "colorscale": [
             [
              0,
              "#0d0887"
             ],
             [
              0.1111111111111111,
              "#46039f"
             ],
             [
              0.2222222222222222,
              "#7201a8"
             ],
             [
              0.3333333333333333,
              "#9c179e"
             ],
             [
              0.4444444444444444,
              "#bd3786"
             ],
             [
              0.5555555555555556,
              "#d8576b"
             ],
             [
              0.6666666666666666,
              "#ed7953"
             ],
             [
              0.7777777777777778,
              "#fb9f3a"
             ],
             [
              0.8888888888888888,
              "#fdca26"
             ],
             [
              1,
              "#f0f921"
             ]
            ],
            "type": "heatmapgl"
           }
          ],
          "histogram": [
           {
            "marker": {
             "pattern": {
              "fillmode": "overlay",
              "size": 10,
              "solidity": 0.2
             }
            },
            "type": "histogram"
           }
          ],
          "histogram2d": [
           {
            "colorbar": {
             "outlinewidth": 0,
             "ticks": ""
            },
            "colorscale": [
             [
              0,
              "#0d0887"
             ],
             [
              0.1111111111111111,
              "#46039f"
             ],
             [
              0.2222222222222222,
              "#7201a8"
             ],
             [
              0.3333333333333333,
              "#9c179e"
             ],
             [
              0.4444444444444444,
              "#bd3786"
             ],
             [
              0.5555555555555556,
              "#d8576b"
             ],
             [
              0.6666666666666666,
              "#ed7953"
             ],
             [
              0.7777777777777778,
              "#fb9f3a"
             ],
             [
              0.8888888888888888,
              "#fdca26"
             ],
             [
              1,
              "#f0f921"
             ]
            ],
            "type": "histogram2d"
           }
          ],
          "histogram2dcontour": [
           {
            "colorbar": {
             "outlinewidth": 0,
             "ticks": ""
            },
            "colorscale": [
             [
              0,
              "#0d0887"
             ],
             [
              0.1111111111111111,
              "#46039f"
             ],
             [
              0.2222222222222222,
              "#7201a8"
             ],
             [
              0.3333333333333333,
              "#9c179e"
             ],
             [
              0.4444444444444444,
              "#bd3786"
             ],
             [
              0.5555555555555556,
              "#d8576b"
             ],
             [
              0.6666666666666666,
              "#ed7953"
             ],
             [
              0.7777777777777778,
              "#fb9f3a"
             ],
             [
              0.8888888888888888,
              "#fdca26"
             ],
             [
              1,
              "#f0f921"
             ]
            ],
            "type": "histogram2dcontour"
           }
          ],
          "mesh3d": [
           {
            "colorbar": {
             "outlinewidth": 0,
             "ticks": ""
            },
            "type": "mesh3d"
           }
          ],
          "parcoords": [
           {
            "line": {
             "colorbar": {
              "outlinewidth": 0,
              "ticks": ""
             }
            },
            "type": "parcoords"
           }
          ],
          "pie": [
           {
            "automargin": true,
            "type": "pie"
           }
          ],
          "scatter": [
           {
            "fillpattern": {
             "fillmode": "overlay",
             "size": 10,
             "solidity": 0.2
            },
            "type": "scatter"
           }
          ],
          "scatter3d": [
           {
            "line": {
             "colorbar": {
              "outlinewidth": 0,
              "ticks": ""
             }
            },
            "marker": {
             "colorbar": {
              "outlinewidth": 0,
              "ticks": ""
             }
            },
            "type": "scatter3d"
           }
          ],
          "scattercarpet": [
           {
            "marker": {
             "colorbar": {
              "outlinewidth": 0,
              "ticks": ""
             }
            },
            "type": "scattercarpet"
           }
          ],
          "scattergeo": [
           {
            "marker": {
             "colorbar": {
              "outlinewidth": 0,
              "ticks": ""
             }
            },
            "type": "scattergeo"
           }
          ],
          "scattergl": [
           {
            "marker": {
             "colorbar": {
              "outlinewidth": 0,
              "ticks": ""
             }
            },
            "type": "scattergl"
           }
          ],
          "scattermapbox": [
           {
            "marker": {
             "colorbar": {
              "outlinewidth": 0,
              "ticks": ""
             }
            },
            "type": "scattermapbox"
           }
          ],
          "scatterpolar": [
           {
            "marker": {
             "colorbar": {
              "outlinewidth": 0,
              "ticks": ""
             }
            },
            "type": "scatterpolar"
           }
          ],
          "scatterpolargl": [
           {
            "marker": {
             "colorbar": {
              "outlinewidth": 0,
              "ticks": ""
             }
            },
            "type": "scatterpolargl"
           }
          ],
          "scatterternary": [
           {
            "marker": {
             "colorbar": {
              "outlinewidth": 0,
              "ticks": ""
             }
            },
            "type": "scatterternary"
           }
          ],
          "surface": [
           {
            "colorbar": {
             "outlinewidth": 0,
             "ticks": ""
            },
            "colorscale": [
             [
              0,
              "#0d0887"
             ],
             [
              0.1111111111111111,
              "#46039f"
             ],
             [
              0.2222222222222222,
              "#7201a8"
             ],
             [
              0.3333333333333333,
              "#9c179e"
             ],
             [
              0.4444444444444444,
              "#bd3786"
             ],
             [
              0.5555555555555556,
              "#d8576b"
             ],
             [
              0.6666666666666666,
              "#ed7953"
             ],
             [
              0.7777777777777778,
              "#fb9f3a"
             ],
             [
              0.8888888888888888,
              "#fdca26"
             ],
             [
              1,
              "#f0f921"
             ]
            ],
            "type": "surface"
           }
          ],
          "table": [
           {
            "cells": {
             "fill": {
              "color": "#EBF0F8"
             },
             "line": {
              "color": "white"
             }
            },
            "header": {
             "fill": {
              "color": "#C8D4E3"
             },
             "line": {
              "color": "white"
             }
            },
            "type": "table"
           }
          ]
         },
         "layout": {
          "annotationdefaults": {
           "arrowcolor": "#2a3f5f",
           "arrowhead": 0,
           "arrowwidth": 1
          },
          "autotypenumbers": "strict",
          "coloraxis": {
           "colorbar": {
            "outlinewidth": 0,
            "ticks": ""
           }
          },
          "colorscale": {
           "diverging": [
            [
             0,
             "#8e0152"
            ],
            [
             0.1,
             "#c51b7d"
            ],
            [
             0.2,
             "#de77ae"
            ],
            [
             0.3,
             "#f1b6da"
            ],
            [
             0.4,
             "#fde0ef"
            ],
            [
             0.5,
             "#f7f7f7"
            ],
            [
             0.6,
             "#e6f5d0"
            ],
            [
             0.7,
             "#b8e186"
            ],
            [
             0.8,
             "#7fbc41"
            ],
            [
             0.9,
             "#4d9221"
            ],
            [
             1,
             "#276419"
            ]
           ],
           "sequential": [
            [
             0,
             "#0d0887"
            ],
            [
             0.1111111111111111,
             "#46039f"
            ],
            [
             0.2222222222222222,
             "#7201a8"
            ],
            [
             0.3333333333333333,
             "#9c179e"
            ],
            [
             0.4444444444444444,
             "#bd3786"
            ],
            [
             0.5555555555555556,
             "#d8576b"
            ],
            [
             0.6666666666666666,
             "#ed7953"
            ],
            [
             0.7777777777777778,
             "#fb9f3a"
            ],
            [
             0.8888888888888888,
             "#fdca26"
            ],
            [
             1,
             "#f0f921"
            ]
           ],
           "sequentialminus": [
            [
             0,
             "#0d0887"
            ],
            [
             0.1111111111111111,
             "#46039f"
            ],
            [
             0.2222222222222222,
             "#7201a8"
            ],
            [
             0.3333333333333333,
             "#9c179e"
            ],
            [
             0.4444444444444444,
             "#bd3786"
            ],
            [
             0.5555555555555556,
             "#d8576b"
            ],
            [
             0.6666666666666666,
             "#ed7953"
            ],
            [
             0.7777777777777778,
             "#fb9f3a"
            ],
            [
             0.8888888888888888,
             "#fdca26"
            ],
            [
             1,
             "#f0f921"
            ]
           ]
          },
          "colorway": [
           "#636efa",
           "#EF553B",
           "#00cc96",
           "#ab63fa",
           "#FFA15A",
           "#19d3f3",
           "#FF6692",
           "#B6E880",
           "#FF97FF",
           "#FECB52"
          ],
          "font": {
           "color": "#2a3f5f"
          },
          "geo": {
           "bgcolor": "white",
           "lakecolor": "white",
           "landcolor": "#E5ECF6",
           "showlakes": true,
           "showland": true,
           "subunitcolor": "white"
          },
          "hoverlabel": {
           "align": "left"
          },
          "hovermode": "closest",
          "mapbox": {
           "style": "light"
          },
          "paper_bgcolor": "white",
          "plot_bgcolor": "#E5ECF6",
          "polar": {
           "angularaxis": {
            "gridcolor": "white",
            "linecolor": "white",
            "ticks": ""
           },
           "bgcolor": "#E5ECF6",
           "radialaxis": {
            "gridcolor": "white",
            "linecolor": "white",
            "ticks": ""
           }
          },
          "scene": {
           "xaxis": {
            "backgroundcolor": "#E5ECF6",
            "gridcolor": "white",
            "gridwidth": 2,
            "linecolor": "white",
            "showbackground": true,
            "ticks": "",
            "zerolinecolor": "white"
           },
           "yaxis": {
            "backgroundcolor": "#E5ECF6",
            "gridcolor": "white",
            "gridwidth": 2,
            "linecolor": "white",
            "showbackground": true,
            "ticks": "",
            "zerolinecolor": "white"
           },
           "zaxis": {
            "backgroundcolor": "#E5ECF6",
            "gridcolor": "white",
            "gridwidth": 2,
            "linecolor": "white",
            "showbackground": true,
            "ticks": "",
            "zerolinecolor": "white"
           }
          },
          "shapedefaults": {
           "line": {
            "color": "#2a3f5f"
           }
          },
          "ternary": {
           "aaxis": {
            "gridcolor": "white",
            "linecolor": "white",
            "ticks": ""
           },
           "baxis": {
            "gridcolor": "white",
            "linecolor": "white",
            "ticks": ""
           },
           "bgcolor": "#E5ECF6",
           "caxis": {
            "gridcolor": "white",
            "linecolor": "white",
            "ticks": ""
           }
          },
          "title": {
           "x": 0.05
          },
          "xaxis": {
           "automargin": true,
           "gridcolor": "white",
           "linecolor": "white",
           "ticks": "",
           "title": {
            "standoff": 15
           },
           "zerolinecolor": "white",
           "zerolinewidth": 2
          },
          "yaxis": {
           "automargin": true,
           "gridcolor": "white",
           "linecolor": "white",
           "ticks": "",
           "title": {
            "standoff": 15
           },
           "zerolinecolor": "white",
           "zerolinewidth": 2
          }
         }
        },
        "title": {
         "text": "Optimization History Plot"
        },
        "xaxis": {
         "title": {
          "text": "Trial"
         }
        },
        "yaxis": {
         "title": {
          "text": "f1_score"
         }
        }
       }
      }
     },
     "metadata": {},
     "output_type": "display_data"
    }
   ],
   "source": [
    "optuna.visualization.plot_optimization_history(study, target_name=\"f1_score\")"
   ]
  },
  {
   "cell_type": "code",
   "execution_count": null,
   "id": "d2595749",
   "metadata": {},
   "outputs": [
    {
     "data": {
      "application/vnd.plotly.v1+json": {
       "config": {
        "plotlyServerURL": "https://plot.ly"
       },
       "data": [
        {
         "cliponaxis": false,
         "hovertemplate": [
          "max_depth (IntDistribution): 0.016815701412521325<extra></extra>",
          "n_estimators (IntDistribution): 0.022472008110996238<extra></extra>",
          "min_samples_leaf (IntDistribution): 0.9607122904764824<extra></extra>"
         ],
         "marker": {
          "color": "rgb(66,146,198)"
         },
         "orientation": "h",
         "text": [
          "0.02",
          "0.02",
          "0.96"
         ],
         "textposition": "outside",
         "type": "bar",
         "x": [
          0.016815701412521325,
          0.022472008110996238,
          0.9607122904764824
         ],
         "y": [
          "max_depth",
          "n_estimators",
          "min_samples_leaf"
         ]
        }
       ],
       "layout": {
        "showlegend": false,
        "template": {
         "data": {
          "bar": [
           {
            "error_x": {
             "color": "#2a3f5f"
            },
            "error_y": {
             "color": "#2a3f5f"
            },
            "marker": {
             "line": {
              "color": "#E5ECF6",
              "width": 0.5
             },
             "pattern": {
              "fillmode": "overlay",
              "size": 10,
              "solidity": 0.2
             }
            },
            "type": "bar"
           }
          ],
          "barpolar": [
           {
            "marker": {
             "line": {
              "color": "#E5ECF6",
              "width": 0.5
             },
             "pattern": {
              "fillmode": "overlay",
              "size": 10,
              "solidity": 0.2
             }
            },
            "type": "barpolar"
           }
          ],
          "carpet": [
           {
            "aaxis": {
             "endlinecolor": "#2a3f5f",
             "gridcolor": "white",
             "linecolor": "white",
             "minorgridcolor": "white",
             "startlinecolor": "#2a3f5f"
            },
            "baxis": {
             "endlinecolor": "#2a3f5f",
             "gridcolor": "white",
             "linecolor": "white",
             "minorgridcolor": "white",
             "startlinecolor": "#2a3f5f"
            },
            "type": "carpet"
           }
          ],
          "choropleth": [
           {
            "colorbar": {
             "outlinewidth": 0,
             "ticks": ""
            },
            "type": "choropleth"
           }
          ],
          "contour": [
           {
            "colorbar": {
             "outlinewidth": 0,
             "ticks": ""
            },
            "colorscale": [
             [
              0,
              "#0d0887"
             ],
             [
              0.1111111111111111,
              "#46039f"
             ],
             [
              0.2222222222222222,
              "#7201a8"
             ],
             [
              0.3333333333333333,
              "#9c179e"
             ],
             [
              0.4444444444444444,
              "#bd3786"
             ],
             [
              0.5555555555555556,
              "#d8576b"
             ],
             [
              0.6666666666666666,
              "#ed7953"
             ],
             [
              0.7777777777777778,
              "#fb9f3a"
             ],
             [
              0.8888888888888888,
              "#fdca26"
             ],
             [
              1,
              "#f0f921"
             ]
            ],
            "type": "contour"
           }
          ],
          "contourcarpet": [
           {
            "colorbar": {
             "outlinewidth": 0,
             "ticks": ""
            },
            "type": "contourcarpet"
           }
          ],
          "heatmap": [
           {
            "colorbar": {
             "outlinewidth": 0,
             "ticks": ""
            },
            "colorscale": [
             [
              0,
              "#0d0887"
             ],
             [
              0.1111111111111111,
              "#46039f"
             ],
             [
              0.2222222222222222,
              "#7201a8"
             ],
             [
              0.3333333333333333,
              "#9c179e"
             ],
             [
              0.4444444444444444,
              "#bd3786"
             ],
             [
              0.5555555555555556,
              "#d8576b"
             ],
             [
              0.6666666666666666,
              "#ed7953"
             ],
             [
              0.7777777777777778,
              "#fb9f3a"
             ],
             [
              0.8888888888888888,
              "#fdca26"
             ],
             [
              1,
              "#f0f921"
             ]
            ],
            "type": "heatmap"
           }
          ],
          "heatmapgl": [
           {
            "colorbar": {
             "outlinewidth": 0,
             "ticks": ""
            },
            "colorscale": [
             [
              0,
              "#0d0887"
             ],
             [
              0.1111111111111111,
              "#46039f"
             ],
             [
              0.2222222222222222,
              "#7201a8"
             ],
             [
              0.3333333333333333,
              "#9c179e"
             ],
             [
              0.4444444444444444,
              "#bd3786"
             ],
             [
              0.5555555555555556,
              "#d8576b"
             ],
             [
              0.6666666666666666,
              "#ed7953"
             ],
             [
              0.7777777777777778,
              "#fb9f3a"
             ],
             [
              0.8888888888888888,
              "#fdca26"
             ],
             [
              1,
              "#f0f921"
             ]
            ],
            "type": "heatmapgl"
           }
          ],
          "histogram": [
           {
            "marker": {
             "pattern": {
              "fillmode": "overlay",
              "size": 10,
              "solidity": 0.2
             }
            },
            "type": "histogram"
           }
          ],
          "histogram2d": [
           {
            "colorbar": {
             "outlinewidth": 0,
             "ticks": ""
            },
            "colorscale": [
             [
              0,
              "#0d0887"
             ],
             [
              0.1111111111111111,
              "#46039f"
             ],
             [
              0.2222222222222222,
              "#7201a8"
             ],
             [
              0.3333333333333333,
              "#9c179e"
             ],
             [
              0.4444444444444444,
              "#bd3786"
             ],
             [
              0.5555555555555556,
              "#d8576b"
             ],
             [
              0.6666666666666666,
              "#ed7953"
             ],
             [
              0.7777777777777778,
              "#fb9f3a"
             ],
             [
              0.8888888888888888,
              "#fdca26"
             ],
             [
              1,
              "#f0f921"
             ]
            ],
            "type": "histogram2d"
           }
          ],
          "histogram2dcontour": [
           {
            "colorbar": {
             "outlinewidth": 0,
             "ticks": ""
            },
            "colorscale": [
             [
              0,
              "#0d0887"
             ],
             [
              0.1111111111111111,
              "#46039f"
             ],
             [
              0.2222222222222222,
              "#7201a8"
             ],
             [
              0.3333333333333333,
              "#9c179e"
             ],
             [
              0.4444444444444444,
              "#bd3786"
             ],
             [
              0.5555555555555556,
              "#d8576b"
             ],
             [
              0.6666666666666666,
              "#ed7953"
             ],
             [
              0.7777777777777778,
              "#fb9f3a"
             ],
             [
              0.8888888888888888,
              "#fdca26"
             ],
             [
              1,
              "#f0f921"
             ]
            ],
            "type": "histogram2dcontour"
           }
          ],
          "mesh3d": [
           {
            "colorbar": {
             "outlinewidth": 0,
             "ticks": ""
            },
            "type": "mesh3d"
           }
          ],
          "parcoords": [
           {
            "line": {
             "colorbar": {
              "outlinewidth": 0,
              "ticks": ""
             }
            },
            "type": "parcoords"
           }
          ],
          "pie": [
           {
            "automargin": true,
            "type": "pie"
           }
          ],
          "scatter": [
           {
            "fillpattern": {
             "fillmode": "overlay",
             "size": 10,
             "solidity": 0.2
            },
            "type": "scatter"
           }
          ],
          "scatter3d": [
           {
            "line": {
             "colorbar": {
              "outlinewidth": 0,
              "ticks": ""
             }
            },
            "marker": {
             "colorbar": {
              "outlinewidth": 0,
              "ticks": ""
             }
            },
            "type": "scatter3d"
           }
          ],
          "scattercarpet": [
           {
            "marker": {
             "colorbar": {
              "outlinewidth": 0,
              "ticks": ""
             }
            },
            "type": "scattercarpet"
           }
          ],
          "scattergeo": [
           {
            "marker": {
             "colorbar": {
              "outlinewidth": 0,
              "ticks": ""
             }
            },
            "type": "scattergeo"
           }
          ],
          "scattergl": [
           {
            "marker": {
             "colorbar": {
              "outlinewidth": 0,
              "ticks": ""
             }
            },
            "type": "scattergl"
           }
          ],
          "scattermapbox": [
           {
            "marker": {
             "colorbar": {
              "outlinewidth": 0,
              "ticks": ""
             }
            },
            "type": "scattermapbox"
           }
          ],
          "scatterpolar": [
           {
            "marker": {
             "colorbar": {
              "outlinewidth": 0,
              "ticks": ""
             }
            },
            "type": "scatterpolar"
           }
          ],
          "scatterpolargl": [
           {
            "marker": {
             "colorbar": {
              "outlinewidth": 0,
              "ticks": ""
             }
            },
            "type": "scatterpolargl"
           }
          ],
          "scatterternary": [
           {
            "marker": {
             "colorbar": {
              "outlinewidth": 0,
              "ticks": ""
             }
            },
            "type": "scatterternary"
           }
          ],
          "surface": [
           {
            "colorbar": {
             "outlinewidth": 0,
             "ticks": ""
            },
            "colorscale": [
             [
              0,
              "#0d0887"
             ],
             [
              0.1111111111111111,
              "#46039f"
             ],
             [
              0.2222222222222222,
              "#7201a8"
             ],
             [
              0.3333333333333333,
              "#9c179e"
             ],
             [
              0.4444444444444444,
              "#bd3786"
             ],
             [
              0.5555555555555556,
              "#d8576b"
             ],
             [
              0.6666666666666666,
              "#ed7953"
             ],
             [
              0.7777777777777778,
              "#fb9f3a"
             ],
             [
              0.8888888888888888,
              "#fdca26"
             ],
             [
              1,
              "#f0f921"
             ]
            ],
            "type": "surface"
           }
          ],
          "table": [
           {
            "cells": {
             "fill": {
              "color": "#EBF0F8"
             },
             "line": {
              "color": "white"
             }
            },
            "header": {
             "fill": {
              "color": "#C8D4E3"
             },
             "line": {
              "color": "white"
             }
            },
            "type": "table"
           }
          ]
         },
         "layout": {
          "annotationdefaults": {
           "arrowcolor": "#2a3f5f",
           "arrowhead": 0,
           "arrowwidth": 1
          },
          "autotypenumbers": "strict",
          "coloraxis": {
           "colorbar": {
            "outlinewidth": 0,
            "ticks": ""
           }
          },
          "colorscale": {
           "diverging": [
            [
             0,
             "#8e0152"
            ],
            [
             0.1,
             "#c51b7d"
            ],
            [
             0.2,
             "#de77ae"
            ],
            [
             0.3,
             "#f1b6da"
            ],
            [
             0.4,
             "#fde0ef"
            ],
            [
             0.5,
             "#f7f7f7"
            ],
            [
             0.6,
             "#e6f5d0"
            ],
            [
             0.7,
             "#b8e186"
            ],
            [
             0.8,
             "#7fbc41"
            ],
            [
             0.9,
             "#4d9221"
            ],
            [
             1,
             "#276419"
            ]
           ],
           "sequential": [
            [
             0,
             "#0d0887"
            ],
            [
             0.1111111111111111,
             "#46039f"
            ],
            [
             0.2222222222222222,
             "#7201a8"
            ],
            [
             0.3333333333333333,
             "#9c179e"
            ],
            [
             0.4444444444444444,
             "#bd3786"
            ],
            [
             0.5555555555555556,
             "#d8576b"
            ],
            [
             0.6666666666666666,
             "#ed7953"
            ],
            [
             0.7777777777777778,
             "#fb9f3a"
            ],
            [
             0.8888888888888888,
             "#fdca26"
            ],
            [
             1,
             "#f0f921"
            ]
           ],
           "sequentialminus": [
            [
             0,
             "#0d0887"
            ],
            [
             0.1111111111111111,
             "#46039f"
            ],
            [
             0.2222222222222222,
             "#7201a8"
            ],
            [
             0.3333333333333333,
             "#9c179e"
            ],
            [
             0.4444444444444444,
             "#bd3786"
            ],
            [
             0.5555555555555556,
             "#d8576b"
            ],
            [
             0.6666666666666666,
             "#ed7953"
            ],
            [
             0.7777777777777778,
             "#fb9f3a"
            ],
            [
             0.8888888888888888,
             "#fdca26"
            ],
            [
             1,
             "#f0f921"
            ]
           ]
          },
          "colorway": [
           "#636efa",
           "#EF553B",
           "#00cc96",
           "#ab63fa",
           "#FFA15A",
           "#19d3f3",
           "#FF6692",
           "#B6E880",
           "#FF97FF",
           "#FECB52"
          ],
          "font": {
           "color": "#2a3f5f"
          },
          "geo": {
           "bgcolor": "white",
           "lakecolor": "white",
           "landcolor": "#E5ECF6",
           "showlakes": true,
           "showland": true,
           "subunitcolor": "white"
          },
          "hoverlabel": {
           "align": "left"
          },
          "hovermode": "closest",
          "mapbox": {
           "style": "light"
          },
          "paper_bgcolor": "white",
          "plot_bgcolor": "#E5ECF6",
          "polar": {
           "angularaxis": {
            "gridcolor": "white",
            "linecolor": "white",
            "ticks": ""
           },
           "bgcolor": "#E5ECF6",
           "radialaxis": {
            "gridcolor": "white",
            "linecolor": "white",
            "ticks": ""
           }
          },
          "scene": {
           "xaxis": {
            "backgroundcolor": "#E5ECF6",
            "gridcolor": "white",
            "gridwidth": 2,
            "linecolor": "white",
            "showbackground": true,
            "ticks": "",
            "zerolinecolor": "white"
           },
           "yaxis": {
            "backgroundcolor": "#E5ECF6",
            "gridcolor": "white",
            "gridwidth": 2,
            "linecolor": "white",
            "showbackground": true,
            "ticks": "",
            "zerolinecolor": "white"
           },
           "zaxis": {
            "backgroundcolor": "#E5ECF6",
            "gridcolor": "white",
            "gridwidth": 2,
            "linecolor": "white",
            "showbackground": true,
            "ticks": "",
            "zerolinecolor": "white"
           }
          },
          "shapedefaults": {
           "line": {
            "color": "#2a3f5f"
           }
          },
          "ternary": {
           "aaxis": {
            "gridcolor": "white",
            "linecolor": "white",
            "ticks": ""
           },
           "baxis": {
            "gridcolor": "white",
            "linecolor": "white",
            "ticks": ""
           },
           "bgcolor": "#E5ECF6",
           "caxis": {
            "gridcolor": "white",
            "linecolor": "white",
            "ticks": ""
           }
          },
          "title": {
           "x": 0.05
          },
          "xaxis": {
           "automargin": true,
           "gridcolor": "white",
           "linecolor": "white",
           "ticks": "",
           "title": {
            "standoff": 15
           },
           "zerolinecolor": "white",
           "zerolinewidth": 2
          },
          "yaxis": {
           "automargin": true,
           "gridcolor": "white",
           "linecolor": "white",
           "ticks": "",
           "title": {
            "standoff": 15
           },
           "zerolinecolor": "white",
           "zerolinewidth": 2
          }
         }
        },
        "title": {
         "text": "Hyperparameter Importances"
        },
        "xaxis": {
         "title": {
          "text": "Importance for f1_score"
         }
        },
        "yaxis": {
         "title": {
          "text": "Hyperparameter"
         }
        }
       }
      }
     },
     "metadata": {},
     "output_type": "display_data"
    }
   ],
   "source": [
    "optuna.visualization.plot_param_importances(study, target_name=\"f1_score\")"
   ]
  },
  {
   "cell_type": "code",
   "execution_count": null,
   "id": "f551f256",
   "metadata": {},
   "outputs": [
    {
     "data": {
      "application/vnd.plotly.v1+json": {
       "config": {
        "plotlyServerURL": "https://plot.ly"
       },
       "data": [
        {
         "colorbar": {
          "title": {
           "text": "f1_score"
          }
         },
         "colorscale": [
          [
           0,
           "rgb(247,251,255)"
          ],
          [
           0.125,
           "rgb(222,235,247)"
          ],
          [
           0.25,
           "rgb(198,219,239)"
          ],
          [
           0.375,
           "rgb(158,202,225)"
          ],
          [
           0.5,
           "rgb(107,174,214)"
          ],
          [
           0.625,
           "rgb(66,146,198)"
          ],
          [
           0.75,
           "rgb(33,113,181)"
          ],
          [
           0.875,
           "rgb(8,81,156)"
          ],
          [
           1,
           "rgb(8,48,107)"
          ]
         ],
         "connectgaps": true,
         "contours": {
          "coloring": "heatmap"
         },
         "hoverinfo": "none",
         "line": {
          "smoothing": 1.3
         },
         "reversescale": false,
         "type": "contour",
         "x": [
          10.05,
          11,
          12,
          15,
          16,
          18,
          19,
          21,
          22,
          23,
          25,
          26,
          27,
          28,
          29,
          30,
          30.95
         ],
         "y": [
          95,
          100,
          112,
          121,
          125,
          132,
          143,
          144,
          153,
          154,
          160,
          164,
          168,
          169,
          172,
          174,
          177,
          180,
          181,
          182,
          183,
          184,
          187,
          188,
          190,
          191,
          193,
          199,
          200,
          205
         ],
         "z": [
          [
           null,
           null,
           null,
           null,
           null,
           null,
           null,
           null,
           null,
           null,
           null,
           null,
           null,
           null,
           null,
           null,
           null
          ],
          [
           null,
           null,
           null,
           0.894789246598075,
           null,
           null,
           null,
           null,
           null,
           null,
           null,
           null,
           null,
           null,
           null,
           null,
           null
          ],
          [
           null,
           null,
           null,
           null,
           null,
           null,
           null,
           null,
           null,
           null,
           null,
           null,
           0.9405907733156322,
           null,
           null,
           null,
           null
          ],
          [
           null,
           0.8871930988719311,
           null,
           null,
           null,
           null,
           null,
           null,
           null,
           null,
           null,
           null,
           null,
           null,
           null,
           null,
           null
          ],
          [
           null,
           null,
           null,
           null,
           0.9127694859038143,
           null,
           null,
           null,
           null,
           null,
           null,
           null,
           null,
           null,
           null,
           null,
           null
          ],
          [
           null,
           null,
           null,
           null,
           null,
           0.919973544973545,
           null,
           null,
           null,
           null,
           null,
           null,
           null,
           null,
           null,
           null,
           null
          ],
          [
           null,
           null,
           null,
           null,
           null,
           null,
           null,
           null,
           null,
           null,
           null,
           0.9309887193098872,
           null,
           null,
           null,
           null,
           null
          ],
          [
           null,
           null,
           null,
           null,
           null,
           null,
           null,
           null,
           null,
           null,
           null,
           null,
           0.9544699235626454,
           null,
           null,
           null,
           null
          ],
          [
           null,
           null,
           null,
           null,
           null,
           null,
           null,
           0.9720372836218376,
           null,
           null,
           null,
           null,
           null,
           null,
           null,
           null,
           null
          ],
          [
           null,
           null,
           null,
           null,
           null,
           null,
           null,
           null,
           null,
           null,
           0.955194158645868,
           null,
           null,
           null,
           null,
           null,
           null
          ],
          [
           null,
           null,
           null,
           null,
           null,
           null,
           null,
           null,
           null,
           null,
           null,
           null,
           null,
           null,
           null,
           0.9730986383261375,
           null
          ],
          [
           null,
           null,
           null,
           null,
           null,
           null,
           null,
           null,
           null,
           0.9569251159708416,
           null,
           null,
           null,
           null,
           null,
           null,
           null
          ],
          [
           null,
           null,
           null,
           null,
           null,
           null,
           null,
           null,
           null,
           0.988681757656458,
           null,
           null,
           null,
           null,
           null,
           null,
           null
          ],
          [
           null,
           null,
           null,
           null,
           null,
           null,
           null,
           null,
           null,
           0.9890183028286189,
           null,
           null,
           null,
           null,
           null,
           null,
           null
          ],
          [
           null,
           null,
           null,
           null,
           null,
           null,
           null,
           null,
           0.9893475366178429,
           null,
           null,
           null,
           null,
           null,
           null,
           null,
           null
          ],
          [
           null,
           null,
           null,
           null,
           null,
           null,
           null,
           null,
           null,
           null,
           null,
           null,
           null,
           0.9890256069171933,
           null,
           null,
           null
          ],
          [
           null,
           null,
           null,
           null,
           null,
           null,
           null,
           null,
           null,
           null,
           0.9896838602329452,
           null,
           null,
           null,
           null,
           null,
           null
          ],
          [
           null,
           null,
           null,
           null,
           null,
           null,
           null,
           null,
           null,
           null,
           null,
           null,
           null,
           null,
           null,
           0.9906914893617021,
           null
          ],
          [
           null,
           null,
           null,
           null,
           null,
           null,
           null,
           null,
           null,
           null,
           null,
           null,
           null,
           null,
           null,
           0.9188473004306061,
           null
          ],
          [
           null,
           null,
           null,
           null,
           null,
           null,
           null,
           null,
           null,
           null,
           null,
           null,
           null,
           null,
           null,
           0.9916860658463584,
           null
          ],
          [
           null,
           null,
           null,
           null,
           null,
           null,
           0.9727393617021277,
           null,
           null,
           null,
           null,
           null,
           null,
           null,
           null,
           null,
           null
          ],
          [
           null,
           null,
           null,
           null,
           null,
           null,
           null,
           null,
           null,
           null,
           null,
           null,
           null,
           0.9916860658463584,
           null,
           null,
           null
          ],
          [
           null,
           null,
           null,
           null,
           null,
           null,
           null,
           null,
           null,
           null,
           null,
           null,
           null,
           0.9737628694785785,
           0.9737628694785785,
           null,
           null
          ],
          [
           null,
           null,
           null,
           null,
           null,
           null,
           null,
           null,
           null,
           null,
           null,
           null,
           null,
           null,
           0.9906914893617021,
           null,
           null
          ],
          [
           null,
           null,
           null,
           null,
           null,
           null,
           null,
           null,
           null,
           null,
           null,
           null,
           null,
           0.9153667441088617,
           null,
           null,
           null
          ],
          [
           null,
           null,
           null,
           null,
           null,
           null,
           null,
           null,
           null,
           null,
           null,
           0.9064986737400531,
           null,
           null,
           null,
           null,
           null
          ],
          [
           null,
           null,
           0.9436102769436103,
           null,
           null,
           null,
           null,
           null,
           null,
           null,
           null,
           null,
           null,
           0.9419568822553898,
           null,
           null,
           null
          ],
          [
           null,
           null,
           null,
           null,
           null,
           null,
           null,
           null,
           null,
           null,
           null,
           null,
           null,
           null,
           null,
           0.9562043795620438,
           null
          ],
          [
           null,
           null,
           null,
           null,
           null,
           null,
           null,
           null,
           null,
           null,
           0.9422694094226941,
           null,
           null,
           null,
           null,
           null,
           null
          ],
          [
           null,
           null,
           null,
           null,
           null,
           null,
           null,
           null,
           null,
           null,
           null,
           null,
           null,
           null,
           null,
           null,
           null
          ]
         ]
        },
        {
         "marker": {
          "color": "black",
          "line": {
           "color": "Grey",
           "width": 2
          }
         },
         "mode": "markers",
         "showlegend": false,
         "type": "scatter",
         "x": [
          28,
          12,
          29,
          27,
          30,
          11,
          18,
          28,
          26,
          16,
          23,
          23,
          23,
          30,
          25,
          25,
          21,
          19,
          25,
          15,
          30,
          30,
          30,
          28,
          28,
          28,
          27,
          22,
          29,
          26
         ],
         "y": [
          190,
          193,
          188,
          112,
          181,
          121,
          132,
          174,
          143,
          125,
          164,
          168,
          169,
          199,
          177,
          154,
          153,
          183,
          200,
          100,
          180,
          182,
          160,
          184,
          187,
          193,
          144,
          172,
          187,
          191
         ]
        }
       ],
       "layout": {
        "template": {
         "data": {
          "bar": [
           {
            "error_x": {
             "color": "#2a3f5f"
            },
            "error_y": {
             "color": "#2a3f5f"
            },
            "marker": {
             "line": {
              "color": "#E5ECF6",
              "width": 0.5
             },
             "pattern": {
              "fillmode": "overlay",
              "size": 10,
              "solidity": 0.2
             }
            },
            "type": "bar"
           }
          ],
          "barpolar": [
           {
            "marker": {
             "line": {
              "color": "#E5ECF6",
              "width": 0.5
             },
             "pattern": {
              "fillmode": "overlay",
              "size": 10,
              "solidity": 0.2
             }
            },
            "type": "barpolar"
           }
          ],
          "carpet": [
           {
            "aaxis": {
             "endlinecolor": "#2a3f5f",
             "gridcolor": "white",
             "linecolor": "white",
             "minorgridcolor": "white",
             "startlinecolor": "#2a3f5f"
            },
            "baxis": {
             "endlinecolor": "#2a3f5f",
             "gridcolor": "white",
             "linecolor": "white",
             "minorgridcolor": "white",
             "startlinecolor": "#2a3f5f"
            },
            "type": "carpet"
           }
          ],
          "choropleth": [
           {
            "colorbar": {
             "outlinewidth": 0,
             "ticks": ""
            },
            "type": "choropleth"
           }
          ],
          "contour": [
           {
            "colorbar": {
             "outlinewidth": 0,
             "ticks": ""
            },
            "colorscale": [
             [
              0,
              "#0d0887"
             ],
             [
              0.1111111111111111,
              "#46039f"
             ],
             [
              0.2222222222222222,
              "#7201a8"
             ],
             [
              0.3333333333333333,
              "#9c179e"
             ],
             [
              0.4444444444444444,
              "#bd3786"
             ],
             [
              0.5555555555555556,
              "#d8576b"
             ],
             [
              0.6666666666666666,
              "#ed7953"
             ],
             [
              0.7777777777777778,
              "#fb9f3a"
             ],
             [
              0.8888888888888888,
              "#fdca26"
             ],
             [
              1,
              "#f0f921"
             ]
            ],
            "type": "contour"
           }
          ],
          "contourcarpet": [
           {
            "colorbar": {
             "outlinewidth": 0,
             "ticks": ""
            },
            "type": "contourcarpet"
           }
          ],
          "heatmap": [
           {
            "colorbar": {
             "outlinewidth": 0,
             "ticks": ""
            },
            "colorscale": [
             [
              0,
              "#0d0887"
             ],
             [
              0.1111111111111111,
              "#46039f"
             ],
             [
              0.2222222222222222,
              "#7201a8"
             ],
             [
              0.3333333333333333,
              "#9c179e"
             ],
             [
              0.4444444444444444,
              "#bd3786"
             ],
             [
              0.5555555555555556,
              "#d8576b"
             ],
             [
              0.6666666666666666,
              "#ed7953"
             ],
             [
              0.7777777777777778,
              "#fb9f3a"
             ],
             [
              0.8888888888888888,
              "#fdca26"
             ],
             [
              1,
              "#f0f921"
             ]
            ],
            "type": "heatmap"
           }
          ],
          "heatmapgl": [
           {
            "colorbar": {
             "outlinewidth": 0,
             "ticks": ""
            },
            "colorscale": [
             [
              0,
              "#0d0887"
             ],
             [
              0.1111111111111111,
              "#46039f"
             ],
             [
              0.2222222222222222,
              "#7201a8"
             ],
             [
              0.3333333333333333,
              "#9c179e"
             ],
             [
              0.4444444444444444,
              "#bd3786"
             ],
             [
              0.5555555555555556,
              "#d8576b"
             ],
             [
              0.6666666666666666,
              "#ed7953"
             ],
             [
              0.7777777777777778,
              "#fb9f3a"
             ],
             [
              0.8888888888888888,
              "#fdca26"
             ],
             [
              1,
              "#f0f921"
             ]
            ],
            "type": "heatmapgl"
           }
          ],
          "histogram": [
           {
            "marker": {
             "pattern": {
              "fillmode": "overlay",
              "size": 10,
              "solidity": 0.2
             }
            },
            "type": "histogram"
           }
          ],
          "histogram2d": [
           {
            "colorbar": {
             "outlinewidth": 0,
             "ticks": ""
            },
            "colorscale": [
             [
              0,
              "#0d0887"
             ],
             [
              0.1111111111111111,
              "#46039f"
             ],
             [
              0.2222222222222222,
              "#7201a8"
             ],
             [
              0.3333333333333333,
              "#9c179e"
             ],
             [
              0.4444444444444444,
              "#bd3786"
             ],
             [
              0.5555555555555556,
              "#d8576b"
             ],
             [
              0.6666666666666666,
              "#ed7953"
             ],
             [
              0.7777777777777778,
              "#fb9f3a"
             ],
             [
              0.8888888888888888,
              "#fdca26"
             ],
             [
              1,
              "#f0f921"
             ]
            ],
            "type": "histogram2d"
           }
          ],
          "histogram2dcontour": [
           {
            "colorbar": {
             "outlinewidth": 0,
             "ticks": ""
            },
            "colorscale": [
             [
              0,
              "#0d0887"
             ],
             [
              0.1111111111111111,
              "#46039f"
             ],
             [
              0.2222222222222222,
              "#7201a8"
             ],
             [
              0.3333333333333333,
              "#9c179e"
             ],
             [
              0.4444444444444444,
              "#bd3786"
             ],
             [
              0.5555555555555556,
              "#d8576b"
             ],
             [
              0.6666666666666666,
              "#ed7953"
             ],
             [
              0.7777777777777778,
              "#fb9f3a"
             ],
             [
              0.8888888888888888,
              "#fdca26"
             ],
             [
              1,
              "#f0f921"
             ]
            ],
            "type": "histogram2dcontour"
           }
          ],
          "mesh3d": [
           {
            "colorbar": {
             "outlinewidth": 0,
             "ticks": ""
            },
            "type": "mesh3d"
           }
          ],
          "parcoords": [
           {
            "line": {
             "colorbar": {
              "outlinewidth": 0,
              "ticks": ""
             }
            },
            "type": "parcoords"
           }
          ],
          "pie": [
           {
            "automargin": true,
            "type": "pie"
           }
          ],
          "scatter": [
           {
            "fillpattern": {
             "fillmode": "overlay",
             "size": 10,
             "solidity": 0.2
            },
            "type": "scatter"
           }
          ],
          "scatter3d": [
           {
            "line": {
             "colorbar": {
              "outlinewidth": 0,
              "ticks": ""
             }
            },
            "marker": {
             "colorbar": {
              "outlinewidth": 0,
              "ticks": ""
             }
            },
            "type": "scatter3d"
           }
          ],
          "scattercarpet": [
           {
            "marker": {
             "colorbar": {
              "outlinewidth": 0,
              "ticks": ""
             }
            },
            "type": "scattercarpet"
           }
          ],
          "scattergeo": [
           {
            "marker": {
             "colorbar": {
              "outlinewidth": 0,
              "ticks": ""
             }
            },
            "type": "scattergeo"
           }
          ],
          "scattergl": [
           {
            "marker": {
             "colorbar": {
              "outlinewidth": 0,
              "ticks": ""
             }
            },
            "type": "scattergl"
           }
          ],
          "scattermapbox": [
           {
            "marker": {
             "colorbar": {
              "outlinewidth": 0,
              "ticks": ""
             }
            },
            "type": "scattermapbox"
           }
          ],
          "scatterpolar": [
           {
            "marker": {
             "colorbar": {
              "outlinewidth": 0,
              "ticks": ""
             }
            },
            "type": "scatterpolar"
           }
          ],
          "scatterpolargl": [
           {
            "marker": {
             "colorbar": {
              "outlinewidth": 0,
              "ticks": ""
             }
            },
            "type": "scatterpolargl"
           }
          ],
          "scatterternary": [
           {
            "marker": {
             "colorbar": {
              "outlinewidth": 0,
              "ticks": ""
             }
            },
            "type": "scatterternary"
           }
          ],
          "surface": [
           {
            "colorbar": {
             "outlinewidth": 0,
             "ticks": ""
            },
            "colorscale": [
             [
              0,
              "#0d0887"
             ],
             [
              0.1111111111111111,
              "#46039f"
             ],
             [
              0.2222222222222222,
              "#7201a8"
             ],
             [
              0.3333333333333333,
              "#9c179e"
             ],
             [
              0.4444444444444444,
              "#bd3786"
             ],
             [
              0.5555555555555556,
              "#d8576b"
             ],
             [
              0.6666666666666666,
              "#ed7953"
             ],
             [
              0.7777777777777778,
              "#fb9f3a"
             ],
             [
              0.8888888888888888,
              "#fdca26"
             ],
             [
              1,
              "#f0f921"
             ]
            ],
            "type": "surface"
           }
          ],
          "table": [
           {
            "cells": {
             "fill": {
              "color": "#EBF0F8"
             },
             "line": {
              "color": "white"
             }
            },
            "header": {
             "fill": {
              "color": "#C8D4E3"
             },
             "line": {
              "color": "white"
             }
            },
            "type": "table"
           }
          ]
         },
         "layout": {
          "annotationdefaults": {
           "arrowcolor": "#2a3f5f",
           "arrowhead": 0,
           "arrowwidth": 1
          },
          "autotypenumbers": "strict",
          "coloraxis": {
           "colorbar": {
            "outlinewidth": 0,
            "ticks": ""
           }
          },
          "colorscale": {
           "diverging": [
            [
             0,
             "#8e0152"
            ],
            [
             0.1,
             "#c51b7d"
            ],
            [
             0.2,
             "#de77ae"
            ],
            [
             0.3,
             "#f1b6da"
            ],
            [
             0.4,
             "#fde0ef"
            ],
            [
             0.5,
             "#f7f7f7"
            ],
            [
             0.6,
             "#e6f5d0"
            ],
            [
             0.7,
             "#b8e186"
            ],
            [
             0.8,
             "#7fbc41"
            ],
            [
             0.9,
             "#4d9221"
            ],
            [
             1,
             "#276419"
            ]
           ],
           "sequential": [
            [
             0,
             "#0d0887"
            ],
            [
             0.1111111111111111,
             "#46039f"
            ],
            [
             0.2222222222222222,
             "#7201a8"
            ],
            [
             0.3333333333333333,
             "#9c179e"
            ],
            [
             0.4444444444444444,
             "#bd3786"
            ],
            [
             0.5555555555555556,
             "#d8576b"
            ],
            [
             0.6666666666666666,
             "#ed7953"
            ],
            [
             0.7777777777777778,
             "#fb9f3a"
            ],
            [
             0.8888888888888888,
             "#fdca26"
            ],
            [
             1,
             "#f0f921"
            ]
           ],
           "sequentialminus": [
            [
             0,
             "#0d0887"
            ],
            [
             0.1111111111111111,
             "#46039f"
            ],
            [
             0.2222222222222222,
             "#7201a8"
            ],
            [
             0.3333333333333333,
             "#9c179e"
            ],
            [
             0.4444444444444444,
             "#bd3786"
            ],
            [
             0.5555555555555556,
             "#d8576b"
            ],
            [
             0.6666666666666666,
             "#ed7953"
            ],
            [
             0.7777777777777778,
             "#fb9f3a"
            ],
            [
             0.8888888888888888,
             "#fdca26"
            ],
            [
             1,
             "#f0f921"
            ]
           ]
          },
          "colorway": [
           "#636efa",
           "#EF553B",
           "#00cc96",
           "#ab63fa",
           "#FFA15A",
           "#19d3f3",
           "#FF6692",
           "#B6E880",
           "#FF97FF",
           "#FECB52"
          ],
          "font": {
           "color": "#2a3f5f"
          },
          "geo": {
           "bgcolor": "white",
           "lakecolor": "white",
           "landcolor": "#E5ECF6",
           "showlakes": true,
           "showland": true,
           "subunitcolor": "white"
          },
          "hoverlabel": {
           "align": "left"
          },
          "hovermode": "closest",
          "mapbox": {
           "style": "light"
          },
          "paper_bgcolor": "white",
          "plot_bgcolor": "#E5ECF6",
          "polar": {
           "angularaxis": {
            "gridcolor": "white",
            "linecolor": "white",
            "ticks": ""
           },
           "bgcolor": "#E5ECF6",
           "radialaxis": {
            "gridcolor": "white",
            "linecolor": "white",
            "ticks": ""
           }
          },
          "scene": {
           "xaxis": {
            "backgroundcolor": "#E5ECF6",
            "gridcolor": "white",
            "gridwidth": 2,
            "linecolor": "white",
            "showbackground": true,
            "ticks": "",
            "zerolinecolor": "white"
           },
           "yaxis": {
            "backgroundcolor": "#E5ECF6",
            "gridcolor": "white",
            "gridwidth": 2,
            "linecolor": "white",
            "showbackground": true,
            "ticks": "",
            "zerolinecolor": "white"
           },
           "zaxis": {
            "backgroundcolor": "#E5ECF6",
            "gridcolor": "white",
            "gridwidth": 2,
            "linecolor": "white",
            "showbackground": true,
            "ticks": "",
            "zerolinecolor": "white"
           }
          },
          "shapedefaults": {
           "line": {
            "color": "#2a3f5f"
           }
          },
          "ternary": {
           "aaxis": {
            "gridcolor": "white",
            "linecolor": "white",
            "ticks": ""
           },
           "baxis": {
            "gridcolor": "white",
            "linecolor": "white",
            "ticks": ""
           },
           "bgcolor": "#E5ECF6",
           "caxis": {
            "gridcolor": "white",
            "linecolor": "white",
            "ticks": ""
           }
          },
          "title": {
           "x": 0.05
          },
          "xaxis": {
           "automargin": true,
           "gridcolor": "white",
           "linecolor": "white",
           "ticks": "",
           "title": {
            "standoff": 15
           },
           "zerolinecolor": "white",
           "zerolinewidth": 2
          },
          "yaxis": {
           "automargin": true,
           "gridcolor": "white",
           "linecolor": "white",
           "ticks": "",
           "title": {
            "standoff": 15
           },
           "zerolinecolor": "white",
           "zerolinewidth": 2
          }
         }
        },
        "title": {
         "text": "Contour Plot"
        },
        "xaxis": {
         "range": [
          10.05,
          30.95
         ],
         "title": {
          "text": "max_depth"
         }
        },
        "yaxis": {
         "range": [
          95,
          205
         ],
         "title": {
          "text": "n_estimators"
         }
        }
       }
      }
     },
     "metadata": {},
     "output_type": "display_data"
    }
   ],
   "source": [
    "optuna.visualization.plot_contour(study, params=[\"max_depth\", \"n_estimators\"],\n",
    "                                  target_name=\"f1_score\")"
   ]
  },
  {
   "attachments": {},
   "cell_type": "markdown",
   "id": "292cce91",
   "metadata": {},
   "source": [
    "## use Optuna with over parameters "
   ]
  },
  {
   "attachments": {},
   "cell_type": "markdown",
   "id": "43caf7d5",
   "metadata": {},
   "source": [
    "We implement the hyperparameter setting of the RandomForestClassifier(random_state=42) algorithm with the following grid of values:\n",
    "\n",
    "* n_estimators = from 100 to 300 inclusive in increments of 10\n",
    "* min_samples_leaf = 3 to 7 in increments of 1\n",
    "* max_depth = from 15 to 40 in steps of 1\n",
    "\n",
    "We use Optuna with parameters n_trails = 20."
   ]
  },
  {
   "cell_type": "code",
   "execution_count": null,
   "id": "79b94a81",
   "metadata": {},
   "outputs": [],
   "source": [
    "def optuna_rf(trial):\n",
    "    # set hyperparameter search spaces\n",
    "    n_estimators = trial.suggest_int('n_estimators', 100, 200, 10)\n",
    "    max_depth = trial.suggest_int('max_depth', 15, 40, 1)\n",
    "    min_samples_leaf = trial.suggest_int('min_samples_leaf', 3, 7, 1)\n",
    "\n",
    "    # create a model\n",
    "    model = ensemble.RandomForestClassifier(n_estimators=n_estimators,\n",
    "                                            max_depth=max_depth,\n",
    "                                            min_samples_leaf=min_samples_leaf,\n",
    "                                            random_state=random_state)\n",
    "    # train the model\n",
    "    model.fit(X_train, y_train)\n",
    "    score = metrics.f1_score(y_train, model.predict(X_train))\n",
    "\n",
    "    return score"
   ]
  },
  {
   "attachments": {},
   "cell_type": "markdown",
   "id": "47a9f8e6",
   "metadata": {},
   "source": [
    "## maximize the metric"
   ]
  },
  {
   "cell_type": "code",
   "execution_count": null,
   "id": "6116b094",
   "metadata": {},
   "outputs": [
    {
     "name": "stderr",
     "output_type": "stream",
     "text": [
      "[I 2023-07-11 20:27:07,369] A new study created in memory with name: RandomForestClassifier\n",
      "[I 2023-07-11 20:27:09,038] Trial 0 finished with value: 0.9415670650730411 and parameters: {'n_estimators': 130, 'max_depth': 33, 'min_samples_leaf': 5}. Best is trial 0 with value: 0.9415670650730411.\n",
      "[I 2023-07-11 20:27:10,751] Trial 1 finished with value: 0.9537437603993345 and parameters: {'n_estimators': 140, 'max_depth': 26, 'min_samples_leaf': 4}. Best is trial 1 with value: 0.9537437603993345.\n",
      "[I 2023-07-11 20:27:12,397] Trial 2 finished with value: 0.9392228495516441 and parameters: {'n_estimators': 140, 'max_depth': 32, 'min_samples_leaf': 5}. Best is trial 1 with value: 0.9537437603993345.\n",
      "[I 2023-07-11 20:27:14,466] Trial 3 finished with value: 0.942620232172471 and parameters: {'n_estimators': 170, 'max_depth': 32, 'min_samples_leaf': 5}. Best is trial 1 with value: 0.9537437603993345.\n",
      "[I 2023-07-11 20:27:16,330] Trial 4 finished with value: 0.9269102990033222 and parameters: {'n_estimators': 170, 'max_depth': 15, 'min_samples_leaf': 6}. Best is trial 1 with value: 0.9537437603993345.\n",
      "[I 2023-07-11 20:27:18,514] Trial 5 finished with value: 0.922465208747515 and parameters: {'n_estimators': 200, 'max_depth': 21, 'min_samples_leaf': 7}. Best is trial 1 with value: 0.9537437603993345.\n",
      "[I 2023-07-11 20:27:19,989] Trial 6 finished with value: 0.9320066334991708 and parameters: {'n_estimators': 130, 'max_depth': 35, 'min_samples_leaf': 6}. Best is trial 1 with value: 0.9537437603993345.\n",
      "[I 2023-07-11 20:27:21,569] Trial 7 finished with value: 0.9175769612711022 and parameters: {'n_estimators': 140, 'max_depth': 23, 'min_samples_leaf': 7}. Best is trial 1 with value: 0.9537437603993345.\n",
      "[I 2023-07-11 20:27:23,093] Trial 8 finished with value: 0.9544093178036606 and parameters: {'n_estimators': 120, 'max_depth': 23, 'min_samples_leaf': 4}. Best is trial 8 with value: 0.9544093178036606.\n",
      "[I 2023-07-11 20:27:24,695] Trial 9 finished with value: 0.92088712346905 and parameters: {'n_estimators': 140, 'max_depth': 18, 'min_samples_leaf': 7}. Best is trial 8 with value: 0.9544093178036606.\n",
      "[I 2023-07-11 20:27:26,091] Trial 10 finished with value: 0.9717326238776188 and parameters: {'n_estimators': 100, 'max_depth': 39, 'min_samples_leaf': 3}. Best is trial 10 with value: 0.9717326238776188.\n",
      "[I 2023-07-11 20:27:27,448] Trial 11 finished with value: 0.9717326238776188 and parameters: {'n_estimators': 100, 'max_depth': 40, 'min_samples_leaf': 3}. Best is trial 10 with value: 0.9717326238776188.\n",
      "[I 2023-07-11 20:27:28,826] Trial 12 finished with value: 0.9717326238776188 and parameters: {'n_estimators': 100, 'max_depth': 40, 'min_samples_leaf': 3}. Best is trial 10 with value: 0.9717326238776188.\n",
      "[I 2023-07-11 20:27:30,147] Trial 13 finished with value: 0.9717326238776188 and parameters: {'n_estimators': 100, 'max_depth': 40, 'min_samples_leaf': 3}. Best is trial 10 with value: 0.9717326238776188.\n",
      "[I 2023-07-11 20:27:31,610] Trial 14 finished with value: 0.9733865602129076 and parameters: {'n_estimators': 110, 'max_depth': 37, 'min_samples_leaf': 3}. Best is trial 14 with value: 0.9733865602129076.\n",
      "[I 2023-07-11 20:27:33,094] Trial 15 finished with value: 0.9548472775564409 and parameters: {'n_estimators': 110, 'max_depth': 36, 'min_samples_leaf': 4}. Best is trial 14 with value: 0.9733865602129076.\n",
      "[I 2023-07-11 20:27:34,727] Trial 16 finished with value: 0.972416085078099 and parameters: {'n_estimators': 120, 'max_depth': 29, 'min_samples_leaf': 3}. Best is trial 14 with value: 0.9733865602129076.\n",
      "[I 2023-07-11 20:27:36,681] Trial 17 finished with value: 0.9555408095554081 and parameters: {'n_estimators': 160, 'max_depth': 29, 'min_samples_leaf': 4}. Best is trial 14 with value: 0.9733865602129076.\n",
      "[I 2023-07-11 20:27:38,261] Trial 18 finished with value: 0.972093023255814 and parameters: {'n_estimators': 120, 'max_depth': 28, 'min_samples_leaf': 3}. Best is trial 14 with value: 0.9733865602129076.\n",
      "[I 2023-07-11 20:27:39,817] Trial 19 finished with value: 0.953109411373462 and parameters: {'n_estimators': 120, 'max_depth': 36, 'min_samples_leaf': 4}. Best is trial 14 with value: 0.9733865602129076.\n"
     ]
    },
    {
     "name": "stdout",
     "output_type": "stream",
     "text": [
      "CPU times: total: 32.1 s\n",
      "Wall time: 32.4 s\n"
     ]
    }
   ],
   "source": [
    "%%time\n",
    "# create an object of study\n",
    "# we can directly specify that we need to maximize the metric direction=\"maximize\"\n",
    "study = optuna.create_study(study_name=\"RandomForestClassifier\", direction=\"maximize\")\n",
    "# looking for the best combination of hyperparameters n_trials times\n",
    "study.optimize(optuna_rf, n_trials=20)"
   ]
  },
  {
   "attachments": {},
   "cell_type": "markdown",
   "id": "a6d8ab23",
   "metadata": {},
   "source": [
    "## display the results on the training set"
   ]
  },
  {
   "cell_type": "code",
   "execution_count": null,
   "id": "5312f499",
   "metadata": {},
   "outputs": [
    {
     "name": "stdout",
     "output_type": "stream",
     "text": [
      "Best Hyperparameter Values {'n_estimators': 110, 'max_depth': 37, 'min_samples_leaf': 3}\n",
      "f1_score on training set: 0.97\n"
     ]
    }
   ],
   "source": [
    "print(f'Best Hyperparameter Values {study.best_params}')\n",
    "print(f'f1_score on training set: {study.best_value:.2f}')"
   ]
  },
  {
   "attachments": {},
   "cell_type": "markdown",
   "id": "ffdc0814",
   "metadata": {},
   "source": [
    "## calculate the accuracy for the test set"
   ]
  },
  {
   "cell_type": "code",
   "execution_count": null,
   "id": "4372dd4a",
   "metadata": {},
   "outputs": [
    {
     "name": "stdout",
     "output_type": "stream",
     "text": [
      "accuracy на тестовом наборе: 0.81\n",
      "f1_score на тестовом наборе: 0.83\n"
     ]
    }
   ],
   "source": [
    "model = ensemble.RandomForestClassifier(**study.best_params,random_state=random_state, )\n",
    "model.fit(X_train, y_train)\n",
    "y_train_pred = model.predict(X_train)\n",
    "print(\"accuracy on test set: {:.2f}\".format(model.score(X_test, y_test)))\n",
    "y_test_pred = model.predict(X_test)\n",
    "print('f1_score on test set: {:.2f}'.format(metrics.f1_score(y_test, y_test_pred)))"
   ]
  }
 ],
 "metadata": {
  "kernelspec": {
   "display_name": "Python 3",
   "language": "python",
   "name": "python3"
  },
  "language_info": {
   "codemirror_mode": {
    "name": "ipython",
    "version": 3
   },
   "file_extension": ".py",
   "mimetype": "text/x-python",
   "name": "python",
   "nbconvert_exporter": "python",
   "pygments_lexer": "ipython3",
   "version": "3.9.13"
  },
  "papermill": {
   "default_parameters": {},
   "duration": 61.094235,
   "end_time": "2022-12-14T23:05:39.016337",
   "environment_variables": {},
   "exception": null,
   "input_path": "__notebook__.ipynb",
   "output_path": "__notebook__.ipynb",
   "parameters": {},
   "start_time": "2022-12-14T23:04:37.922102",
   "version": "2.3.4"
  }
 },
 "nbformat": 4,
 "nbformat_minor": 5
}
