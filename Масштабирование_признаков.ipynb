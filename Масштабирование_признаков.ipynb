{
  "cells": [
    {
      "attachments": {},
      "cell_type": "markdown",
      "metadata": {},
      "source": [
        "# Масштабирование признаков"
      ]
    },
    {
      "attachments": {},
      "cell_type": "markdown",
      "metadata": {},
      "source": [
        "Часто встречаются наборы данных, в которых разные столбцы имеют разные единицы измерения: например, один столбец может быть в килограммах, а другой — в сантиметрах. Кроме того, у нас могут быть такие столбцы, как price, который может варьироваться от 1 до 300000 и даже больше, в то время как столбец weather изменяется от 29 до 71 (максимум). Таким образом, price примерно в 4000 раз больше, чем weather."
      ]
    },
    {
      "attachments": {},
      "cell_type": "markdown",
      "metadata": {},
      "source": [
        "Но как мы можем быть уверены, что модель одинаково обрабатывает обе эти переменные? Когда мы подаём эти признаки в модель как есть, есть все шансы, что price больше повлияет на результат предсказания, например, года выпуска автомобиля, из-за большего значения параметра цены. Но это не обязательно означает, что данный параметр более важен как предиктор. Итак, чтобы придать значение как price, так и weather, нужно масштабирование признаков."
      ]
    },
    {
      "attachments": {},
      "cell_type": "markdown",
      "metadata": {},
      "source": [
        "Для начала вспомним формулы:\n",
        "* StandardScaler\n",
        "   * x_stand_scaled = (x - mean) / std_dev\n",
        "* MinMaxScaler\n",
        "   * x_minmax_scaled = (x - x_min) / (x_max - x_min)\n",
        "* RobustScaler\n",
        "   * x_robust_scaled =( x - $Q_2$ ) / ($Q_3$ - $Q_1$)"
      ]
    },
    {
      "cell_type": "code",
      "execution_count": 1,
      "metadata": {
        "id": "Gt9xbXDkgbxl"
      },
      "outputs": [],
      "source": [
        "import pandas as pd\n",
        "from sklearn.preprocessing import StandardScaler\n",
        "from sklearn.model_selection import train_test_split\n",
        "from sklearn.linear_model import LinearRegression\n",
        "from sklearn.metrics import mean_absolute_error"
      ]
    },
    {
      "attachments": {},
      "cell_type": "markdown",
      "metadata": {
        "id": "UgdBUCd_gf7A"
      },
      "source": [
        "## Загрузка данных"
      ]
    },
    {
      "cell_type": "code",
      "execution_count": 2,
      "metadata": {
        "id": "r59nCfIZgfFs"
      },
      "outputs": [],
      "source": [
        "%%capture\n",
        "!wget https://www.dropbox.com/s/64ol9q9ssggz6f1/data_ford_price.xlsx"
      ]
    },
    {
      "cell_type": "code",
      "execution_count": 3,
      "metadata": {
        "id": "MByusU1Igr5J"
      },
      "outputs": [],
      "source": [
        "data = pd.read_excel('data/data_ford_price.xlsx') "
      ]
    },
    {
      "cell_type": "markdown",
      "metadata": {
        "id": "8ZsYlQLvgwuj"
      },
      "source": [
        "## Предобработка данных"
      ]
    },
    {
      "attachments": {},
      "cell_type": "markdown",
      "metadata": {},
      "source": [
        "Давайте посмотрим, как StandardScaler, MinMaxScaler и RobustScaler справятся с нашими данными. Для наглядности будем использовать три столбца."
      ]
    },
    {
      "cell_type": "code",
      "execution_count": 4,
      "metadata": {
        "colab": {
          "base_uri": "https://localhost:8080/"
        },
        "id": "835FtZkxgMxo",
        "outputId": "6f333c0e-2c25-4b1a-ddee-3711dc85a2a5"
      },
      "outputs": [],
      "source": [
        "data = data[['price', 'year', 'weather']]\n",
        "data.dropna(inplace = True)"
      ]
    },
    {
      "cell_type": "markdown",
      "metadata": {
        "id": "9cm6C0h3g5-Q"
      },
      "source": [
        "## Масштабирование"
      ]
    },
    {
      "cell_type": "code",
      "execution_count": 5,
      "metadata": {
        "id": "iDWbjVJqg4p3"
      },
      "outputs": [],
      "source": [
        "data_scaled = data.copy()\n",
        "col_names = ['price', 'weather']\n",
        "x = data_scaled[col_names]"
      ]
    },
    {
      "cell_type": "code",
      "execution_count": 9,
      "metadata": {
        "colab": {
          "base_uri": "https://localhost:8080/",
          "height": 419
        },
        "id": "s_8N_lmdg-6s",
        "outputId": "aa53aa0c-81d2-49b1-9a93-e63cdf15f855"
      },
      "outputs": [
        {
          "data": {
            "text/html": [
              "<div>\n",
              "<style scoped>\n",
              "    .dataframe tbody tr th:only-of-type {\n",
              "        vertical-align: middle;\n",
              "    }\n",
              "\n",
              "    .dataframe tbody tr th {\n",
              "        vertical-align: top;\n",
              "    }\n",
              "\n",
              "    .dataframe thead th {\n",
              "        text-align: right;\n",
              "    }\n",
              "</style>\n",
              "<table border=\"1\" class=\"dataframe\">\n",
              "  <thead>\n",
              "    <tr style=\"text-align: right;\">\n",
              "      <th></th>\n",
              "      <th>price</th>\n",
              "      <th>year</th>\n",
              "      <th>weather</th>\n",
              "    </tr>\n",
              "  </thead>\n",
              "  <tbody>\n",
              "    <tr>\n",
              "      <th>0</th>\n",
              "      <td>2.558728</td>\n",
              "      <td>2016</td>\n",
              "      <td>0.862068</td>\n",
              "    </tr>\n",
              "    <tr>\n",
              "      <th>1</th>\n",
              "      <td>0.067373</td>\n",
              "      <td>2009</td>\n",
              "      <td>-0.017965</td>\n",
              "    </tr>\n",
              "    <tr>\n",
              "      <th>2</th>\n",
              "      <td>-1.072197</td>\n",
              "      <td>2002</td>\n",
              "      <td>-0.897998</td>\n",
              "    </tr>\n",
              "  </tbody>\n",
              "</table>\n",
              "</div>"
            ],
            "text/plain": [
              "      price  year   weather\n",
              "0  2.558728  2016  0.862068\n",
              "1  0.067373  2009 -0.017965\n",
              "2 -1.072197  2002 -0.897998"
            ]
          },
          "execution_count": 9,
          "metadata": {},
          "output_type": "execute_result"
        }
      ],
      "source": [
        "scaler = StandardScaler()\n",
        " \n",
        "data_scaled[col_names] = scaler.fit_transform(x.values)\n",
        "data_scaled.head(3)"
      ]
    },
    {
      "cell_type": "code",
      "execution_count": 7,
      "metadata": {
        "id": "n1ZO8tC_gVf2"
      },
      "outputs": [],
      "source": [
        "y = data_scaled['year']\n",
        "x = data_scaled.drop(columns='year')\n",
        "\n",
        "X_train, X_test, y_train, y_test = train_test_split(x, y, test_size=0.3, random_state=40)"
      ]
    },
    {
      "cell_type": "code",
      "execution_count": 8,
      "metadata": {
        "colab": {
          "base_uri": "https://localhost:8080/"
        },
        "id": "FsYSPuXFhCp7",
        "outputId": "8559372a-8e16-460b-f375-21ab778bbc66"
      },
      "outputs": [
        {
          "name": "stdout",
          "output_type": "stream",
          "text": [
            "MAE: 3.041\n"
          ]
        }
      ],
      "source": [
        "model = LinearRegression()\n",
        "model.fit(X_train, y_train)\n",
        "y_predicted = model.predict(X_test)\n",
        " \n",
        "mae = mean_absolute_error(y_test, y_predicted)\n",
        "print('MAE: %.3f' % mae)"
      ]
    },
    {
      "attachments": {
        "image.png": {
          "image/png": "[encoded data removed]"
        }
      },
      "cell_type": "markdown",
      "metadata": {},
      "source": [
        "После применения двух других скейлеров получится следующая таблица MAE:\n",
        "\n",
        "![image.png](attachment:image.png)"
      ]
    },
    {
      "attachments": {},
      "cell_type": "markdown",
      "metadata": {},
      "source": [
        "Отмасштабируем признак price с помощью RobustScaler.\n",
        "В качестве ответа запишем результат выполнения кода data['price'][1]. Ответ округлим до двух знаков после точки-разделителя."
      ]
    },
    {
      "cell_type": "code",
      "execution_count": 10,
      "metadata": {},
      "outputs": [],
      "source": [
        "from sklearn.preprocessing import RobustScaler"
      ]
    },
    {
      "cell_type": "code",
      "execution_count": 11,
      "metadata": {},
      "outputs": [],
      "source": [
        "scaler = RobustScaler()\n",
        "\n",
        "data_scaled[col_names] = scaler.fit_transform(x.values)\n",
        "\n",
        "y = data_scaled['price']\n",
        "x = data_scaled.drop(columns='price')\n",
        "\n",
        "X_train, X_test, y_train, y_test = train_test_split(x, y, test_size=0.3, random_state=40)\n",
        "\n",
        "model = LinearRegression()\n",
        "model.fit(X_train, y_train)\n",
        "y_predicted = model.predict(X_test)\n",
        "\n",
        "mae = mean_absolute_error(y_test, y_predicted)\n",
        "round((data_scaled['price'][1]), 2)"
      ]
    }
  ],
  "metadata": {
    "colab": {
      "name": "Масштабирование_признаков.ipynb",
      "provenance": []
    },
    "kernelspec": {
      "display_name": "Python 3",
      "name": "python3"
    },
    "language_info": {
      "codemirror_mode": {
        "name": "ipython",
        "version": 3
      },
      "file_extension": ".py",
      "mimetype": "text/x-python",
      "name": "python",
      "nbconvert_exporter": "python",
      "pygments_lexer": "ipython3",
      "version": "3.9.13"
    }
  },
  "nbformat": 4,
  "nbformat_minor": 0
}
