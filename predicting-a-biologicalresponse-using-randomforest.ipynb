{
 "cells": [
  {
   "cell_type": "code",
   "execution_count": 1,
   "id": "16c42331",
   "metadata": {
    "_cell_guid": "b1076dfc-b9ad-4769-8c92-a6c4dae69d19",
    "_uuid": "8f2839f25d086af736a60e9eeb907d3b93b6e0e5",
    "execution": {
     "iopub.execute_input": "2022-12-14T23:04:48.666144Z",
     "iopub.status.busy": "2022-12-14T23:04:48.665207Z",
     "iopub.status.idle": "2022-12-14T23:04:48.680284Z",
     "shell.execute_reply": "2022-12-14T23:04:48.679000Z"
    },
    "papermill": {
     "duration": 0.034741,
     "end_time": "2022-12-14T23:04:48.683391",
     "exception": false,
     "start_time": "2022-12-14T23:04:48.648650",
     "status": "completed"
    },
    "tags": []
   },
   "outputs": [
    {
     "name": "stdout",
     "output_type": "stream",
     "text": [
      "/kaggle/input/bioresponse/svm_benchmark.csv\n",
      "/kaggle/input/bioresponse/train.csv\n",
      "/kaggle/input/bioresponse/test.csv\n"
     ]
    }
   ],
   "source": [
    "# This Python 3 environment comes with many helpful analytics libraries installed\n",
    "# It is defined by the kaggle/python Docker image: https://github.com/kaggle/docker-python\n",
    "# For example, here's several helpful packages to load\n",
    "\n",
    "import numpy as np # linear algebra\n",
    "import pandas as pd # data processing, CSV file I/O (e.g. pd.read_csv)\n",
    "\n",
    "# Input data files are available in the read-only \"../input/\" directory\n",
    "# For example, running this (by clicking run or pressing Shift+Enter) will list all files under the input directory\n",
    "\n",
    "import os\n",
    "for dirname, _, filenames in os.walk('/kaggle/input'):\n",
    "    for filename in filenames:\n",
    "        print(os.path.join(dirname, filename))\n",
    "\n",
    "# You can write up to 20GB to the current directory (/kaggle/working/) that gets preserved as output when you create a version using \"Save & Run All\" \n",
    "# You can also write temporary files to /kaggle/temp/, but they won't be saved outside of the current session"
   ]
  },
  {
   "cell_type": "markdown",
   "id": "d9845e27",
   "metadata": {
    "papermill": {
     "duration": 0.018183,
     "end_time": "2022-12-14T23:04:48.714622",
     "exception": false,
     "start_time": "2022-12-14T23:04:48.696439",
     "status": "completed"
    },
    "tags": []
   },
   "source": [
    "# Import Libraries"
   ]
  },
  {
   "cell_type": "code",
   "execution_count": 2,
   "id": "531ae95e",
   "metadata": {
    "execution": {
     "iopub.execute_input": "2022-12-14T23:04:48.753877Z",
     "iopub.status.busy": "2022-12-14T23:04:48.752780Z",
     "iopub.status.idle": "2022-12-14T23:04:50.500405Z",
     "shell.execute_reply": "2022-12-14T23:04:50.498977Z"
    },
    "papermill": {
     "duration": 1.770866,
     "end_time": "2022-12-14T23:04:50.503896",
     "exception": false,
     "start_time": "2022-12-14T23:04:48.733030",
     "status": "completed"
    },
    "tags": []
   },
   "outputs": [],
   "source": [
    "import pandas as pd\n",
    "import numpy as np\n",
    "import seaborn as sns\n",
    "import matplotlib.pyplot as plt\n",
    "from sklearn.model_selection import train_test_split\n",
    "from sklearn.ensemble import RandomForestClassifier\n",
    "from sklearn.metrics import confusion_matrix,accuracy_score,f1_score,precision_score,classification_report\n",
    "from sklearn.metrics import recall_score\n",
    "from sklearn.neighbors import KNeighborsClassifier\n",
    "from sklearn.tree import DecisionTreeClassifier"
   ]
  },
  {
   "cell_type": "markdown",
   "id": "58989895",
   "metadata": {
    "papermill": {
     "duration": 0.012553,
     "end_time": "2022-12-14T23:04:50.529455",
     "exception": false,
     "start_time": "2022-12-14T23:04:50.516902",
     "status": "completed"
    },
    "tags": []
   },
   "source": [
    "# Read Data"
   ]
  },
  {
   "cell_type": "code",
   "execution_count": 3,
   "id": "0e6bbb18",
   "metadata": {
    "execution": {
     "iopub.execute_input": "2022-12-14T23:04:50.557960Z",
     "iopub.status.busy": "2022-12-14T23:04:50.557140Z",
     "iopub.status.idle": "2022-12-14T23:04:52.484569Z",
     "shell.execute_reply": "2022-12-14T23:04:52.483171Z"
    },
    "papermill": {
     "duration": 1.945422,
     "end_time": "2022-12-14T23:04:52.487968",
     "exception": false,
     "start_time": "2022-12-14T23:04:50.542546",
     "status": "completed"
    },
    "tags": []
   },
   "outputs": [],
   "source": [
    "train_data=pd.read_csv('/kaggle/input/bioresponse/train.csv')\n",
    "test_data=pd.read_csv('/kaggle/input/bioresponse/test.csv')"
   ]
  },
  {
   "cell_type": "markdown",
   "id": "c60b5307",
   "metadata": {
    "papermill": {
     "duration": 0.012679,
     "end_time": "2022-12-14T23:04:52.513928",
     "exception": false,
     "start_time": "2022-12-14T23:04:52.501249",
     "status": "completed"
    },
    "tags": []
   },
   "source": [
    "# Show 5 frist row in data"
   ]
  },
  {
   "cell_type": "code",
   "execution_count": 4,
   "id": "997e0c83",
   "metadata": {
    "execution": {
     "iopub.execute_input": "2022-12-14T23:04:52.544415Z",
     "iopub.status.busy": "2022-12-14T23:04:52.543909Z",
     "iopub.status.idle": "2022-12-14T23:04:52.582059Z",
     "shell.execute_reply": "2022-12-14T23:04:52.580933Z"
    },
    "papermill": {
     "duration": 0.05729,
     "end_time": "2022-12-14T23:04:52.585113",
     "exception": false,
     "start_time": "2022-12-14T23:04:52.527823",
     "status": "completed"
    },
    "tags": []
   },
   "outputs": [
    {
     "data": {
      "text/html": [
       "<div>\n",
       "<style scoped>\n",
       "    .dataframe tbody tr th:only-of-type {\n",
       "        vertical-align: middle;\n",
       "    }\n",
       "\n",
       "    .dataframe tbody tr th {\n",
       "        vertical-align: top;\n",
       "    }\n",
       "\n",
       "    .dataframe thead th {\n",
       "        text-align: right;\n",
       "    }\n",
       "</style>\n",
       "<table border=\"1\" class=\"dataframe\">\n",
       "  <thead>\n",
       "    <tr style=\"text-align: right;\">\n",
       "      <th></th>\n",
       "      <th>Activity</th>\n",
       "      <th>D1</th>\n",
       "      <th>D2</th>\n",
       "      <th>D3</th>\n",
       "      <th>D4</th>\n",
       "      <th>D5</th>\n",
       "      <th>D6</th>\n",
       "      <th>D7</th>\n",
       "      <th>D8</th>\n",
       "      <th>D9</th>\n",
       "      <th>...</th>\n",
       "      <th>D1767</th>\n",
       "      <th>D1768</th>\n",
       "      <th>D1769</th>\n",
       "      <th>D1770</th>\n",
       "      <th>D1771</th>\n",
       "      <th>D1772</th>\n",
       "      <th>D1773</th>\n",
       "      <th>D1774</th>\n",
       "      <th>D1775</th>\n",
       "      <th>D1776</th>\n",
       "    </tr>\n",
       "  </thead>\n",
       "  <tbody>\n",
       "    <tr>\n",
       "      <th>0</th>\n",
       "      <td>1</td>\n",
       "      <td>0.000000</td>\n",
       "      <td>0.497009</td>\n",
       "      <td>0.10</td>\n",
       "      <td>0.0</td>\n",
       "      <td>0.132956</td>\n",
       "      <td>0.678031</td>\n",
       "      <td>0.273166</td>\n",
       "      <td>0.585445</td>\n",
       "      <td>0.743663</td>\n",
       "      <td>...</td>\n",
       "      <td>0</td>\n",
       "      <td>0</td>\n",
       "      <td>0</td>\n",
       "      <td>0</td>\n",
       "      <td>0</td>\n",
       "      <td>0</td>\n",
       "      <td>0</td>\n",
       "      <td>0</td>\n",
       "      <td>0</td>\n",
       "      <td>0</td>\n",
       "    </tr>\n",
       "    <tr>\n",
       "      <th>1</th>\n",
       "      <td>1</td>\n",
       "      <td>0.366667</td>\n",
       "      <td>0.606291</td>\n",
       "      <td>0.05</td>\n",
       "      <td>0.0</td>\n",
       "      <td>0.111209</td>\n",
       "      <td>0.803455</td>\n",
       "      <td>0.106105</td>\n",
       "      <td>0.411754</td>\n",
       "      <td>0.836582</td>\n",
       "      <td>...</td>\n",
       "      <td>1</td>\n",
       "      <td>1</td>\n",
       "      <td>1</td>\n",
       "      <td>1</td>\n",
       "      <td>0</td>\n",
       "      <td>1</td>\n",
       "      <td>0</td>\n",
       "      <td>0</td>\n",
       "      <td>1</td>\n",
       "      <td>0</td>\n",
       "    </tr>\n",
       "    <tr>\n",
       "      <th>2</th>\n",
       "      <td>1</td>\n",
       "      <td>0.033300</td>\n",
       "      <td>0.480124</td>\n",
       "      <td>0.00</td>\n",
       "      <td>0.0</td>\n",
       "      <td>0.209791</td>\n",
       "      <td>0.610350</td>\n",
       "      <td>0.356453</td>\n",
       "      <td>0.517720</td>\n",
       "      <td>0.679051</td>\n",
       "      <td>...</td>\n",
       "      <td>0</td>\n",
       "      <td>0</td>\n",
       "      <td>0</td>\n",
       "      <td>0</td>\n",
       "      <td>0</td>\n",
       "      <td>0</td>\n",
       "      <td>0</td>\n",
       "      <td>0</td>\n",
       "      <td>0</td>\n",
       "      <td>0</td>\n",
       "    </tr>\n",
       "    <tr>\n",
       "      <th>3</th>\n",
       "      <td>1</td>\n",
       "      <td>0.000000</td>\n",
       "      <td>0.538825</td>\n",
       "      <td>0.00</td>\n",
       "      <td>0.5</td>\n",
       "      <td>0.196344</td>\n",
       "      <td>0.724230</td>\n",
       "      <td>0.235606</td>\n",
       "      <td>0.288764</td>\n",
       "      <td>0.805110</td>\n",
       "      <td>...</td>\n",
       "      <td>0</td>\n",
       "      <td>0</td>\n",
       "      <td>0</td>\n",
       "      <td>0</td>\n",
       "      <td>0</td>\n",
       "      <td>0</td>\n",
       "      <td>0</td>\n",
       "      <td>0</td>\n",
       "      <td>0</td>\n",
       "      <td>0</td>\n",
       "    </tr>\n",
       "    <tr>\n",
       "      <th>4</th>\n",
       "      <td>0</td>\n",
       "      <td>0.100000</td>\n",
       "      <td>0.517794</td>\n",
       "      <td>0.00</td>\n",
       "      <td>0.0</td>\n",
       "      <td>0.494734</td>\n",
       "      <td>0.781422</td>\n",
       "      <td>0.154361</td>\n",
       "      <td>0.303809</td>\n",
       "      <td>0.812646</td>\n",
       "      <td>...</td>\n",
       "      <td>0</td>\n",
       "      <td>0</td>\n",
       "      <td>0</td>\n",
       "      <td>0</td>\n",
       "      <td>0</td>\n",
       "      <td>0</td>\n",
       "      <td>0</td>\n",
       "      <td>0</td>\n",
       "      <td>0</td>\n",
       "      <td>0</td>\n",
       "    </tr>\n",
       "  </tbody>\n",
       "</table>\n",
       "<p>5 rows × 1777 columns</p>\n",
       "</div>"
      ],
      "text/plain": [
       "   Activity        D1        D2    D3   D4        D5        D6        D7  \\\n",
       "0         1  0.000000  0.497009  0.10  0.0  0.132956  0.678031  0.273166   \n",
       "1         1  0.366667  0.606291  0.05  0.0  0.111209  0.803455  0.106105   \n",
       "2         1  0.033300  0.480124  0.00  0.0  0.209791  0.610350  0.356453   \n",
       "3         1  0.000000  0.538825  0.00  0.5  0.196344  0.724230  0.235606   \n",
       "4         0  0.100000  0.517794  0.00  0.0  0.494734  0.781422  0.154361   \n",
       "\n",
       "         D8        D9  ...  D1767  D1768  D1769  D1770  D1771  D1772  D1773  \\\n",
       "0  0.585445  0.743663  ...      0      0      0      0      0      0      0   \n",
       "1  0.411754  0.836582  ...      1      1      1      1      0      1      0   \n",
       "2  0.517720  0.679051  ...      0      0      0      0      0      0      0   \n",
       "3  0.288764  0.805110  ...      0      0      0      0      0      0      0   \n",
       "4  0.303809  0.812646  ...      0      0      0      0      0      0      0   \n",
       "\n",
       "   D1774  D1775  D1776  \n",
       "0      0      0      0  \n",
       "1      0      1      0  \n",
       "2      0      0      0  \n",
       "3      0      0      0  \n",
       "4      0      0      0  \n",
       "\n",
       "[5 rows x 1777 columns]"
      ]
     },
     "execution_count": 4,
     "metadata": {},
     "output_type": "execute_result"
    }
   ],
   "source": [
    "train_data.head()"
   ]
  },
  {
   "cell_type": "markdown",
   "id": "425669a8",
   "metadata": {
    "papermill": {
     "duration": 0.013498,
     "end_time": "2022-12-14T23:04:52.612650",
     "exception": false,
     "start_time": "2022-12-14T23:04:52.599152",
     "status": "completed"
    },
    "tags": []
   },
   "source": [
    "# Show Data describe"
   ]
  },
  {
   "cell_type": "code",
   "execution_count": 5,
   "id": "49f6dedb",
   "metadata": {
    "execution": {
     "iopub.execute_input": "2022-12-14T23:04:52.643595Z",
     "iopub.status.busy": "2022-12-14T23:04:52.642842Z",
     "iopub.status.idle": "2022-12-14T23:04:56.963896Z",
     "shell.execute_reply": "2022-12-14T23:04:56.962619Z"
    },
    "papermill": {
     "duration": 4.33957,
     "end_time": "2022-12-14T23:04:56.966722",
     "exception": false,
     "start_time": "2022-12-14T23:04:52.627152",
     "status": "completed"
    },
    "tags": []
   },
   "outputs": [
    {
     "data": {
      "text/html": [
       "<div>\n",
       "<style scoped>\n",
       "    .dataframe tbody tr th:only-of-type {\n",
       "        vertical-align: middle;\n",
       "    }\n",
       "\n",
       "    .dataframe tbody tr th {\n",
       "        vertical-align: top;\n",
       "    }\n",
       "\n",
       "    .dataframe thead th {\n",
       "        text-align: right;\n",
       "    }\n",
       "</style>\n",
       "<table border=\"1\" class=\"dataframe\">\n",
       "  <thead>\n",
       "    <tr style=\"text-align: right;\">\n",
       "      <th></th>\n",
       "      <th>Activity</th>\n",
       "      <th>D1</th>\n",
       "      <th>D2</th>\n",
       "      <th>D3</th>\n",
       "      <th>D4</th>\n",
       "      <th>D5</th>\n",
       "      <th>D6</th>\n",
       "      <th>D7</th>\n",
       "      <th>D8</th>\n",
       "      <th>D9</th>\n",
       "      <th>...</th>\n",
       "      <th>D1767</th>\n",
       "      <th>D1768</th>\n",
       "      <th>D1769</th>\n",
       "      <th>D1770</th>\n",
       "      <th>D1771</th>\n",
       "      <th>D1772</th>\n",
       "      <th>D1773</th>\n",
       "      <th>D1774</th>\n",
       "      <th>D1775</th>\n",
       "      <th>D1776</th>\n",
       "    </tr>\n",
       "  </thead>\n",
       "  <tbody>\n",
       "    <tr>\n",
       "      <th>count</th>\n",
       "      <td>3751.000000</td>\n",
       "      <td>3751.000000</td>\n",
       "      <td>3751.000000</td>\n",
       "      <td>3751.000000</td>\n",
       "      <td>3751.000000</td>\n",
       "      <td>3751.000000</td>\n",
       "      <td>3751.000000</td>\n",
       "      <td>3751.000000</td>\n",
       "      <td>3751.000000</td>\n",
       "      <td>3751.000000</td>\n",
       "      <td>...</td>\n",
       "      <td>3751.000000</td>\n",
       "      <td>3751.000000</td>\n",
       "      <td>3751.000000</td>\n",
       "      <td>3751.000000</td>\n",
       "      <td>3751.000000</td>\n",
       "      <td>3751.000000</td>\n",
       "      <td>3751.000000</td>\n",
       "      <td>3751.000000</td>\n",
       "      <td>3751.000000</td>\n",
       "      <td>3751.000000</td>\n",
       "    </tr>\n",
       "    <tr>\n",
       "      <th>mean</th>\n",
       "      <td>0.542255</td>\n",
       "      <td>0.076948</td>\n",
       "      <td>0.592436</td>\n",
       "      <td>0.068142</td>\n",
       "      <td>0.038990</td>\n",
       "      <td>0.212112</td>\n",
       "      <td>0.686653</td>\n",
       "      <td>0.274713</td>\n",
       "      <td>0.455133</td>\n",
       "      <td>0.749517</td>\n",
       "      <td>...</td>\n",
       "      <td>0.026926</td>\n",
       "      <td>0.014663</td>\n",
       "      <td>0.013863</td>\n",
       "      <td>0.021861</td>\n",
       "      <td>0.015196</td>\n",
       "      <td>0.016796</td>\n",
       "      <td>0.012263</td>\n",
       "      <td>0.011730</td>\n",
       "      <td>0.020261</td>\n",
       "      <td>0.011197</td>\n",
       "    </tr>\n",
       "    <tr>\n",
       "      <th>std</th>\n",
       "      <td>0.498278</td>\n",
       "      <td>0.079989</td>\n",
       "      <td>0.105860</td>\n",
       "      <td>0.078414</td>\n",
       "      <td>0.115885</td>\n",
       "      <td>0.102592</td>\n",
       "      <td>0.078702</td>\n",
       "      <td>0.090017</td>\n",
       "      <td>0.162731</td>\n",
       "      <td>0.071702</td>\n",
       "      <td>...</td>\n",
       "      <td>0.161889</td>\n",
       "      <td>0.120215</td>\n",
       "      <td>0.116938</td>\n",
       "      <td>0.146249</td>\n",
       "      <td>0.122348</td>\n",
       "      <td>0.128522</td>\n",
       "      <td>0.110074</td>\n",
       "      <td>0.107683</td>\n",
       "      <td>0.140911</td>\n",
       "      <td>0.105236</td>\n",
       "    </tr>\n",
       "    <tr>\n",
       "      <th>min</th>\n",
       "      <td>0.000000</td>\n",
       "      <td>0.000000</td>\n",
       "      <td>0.282128</td>\n",
       "      <td>0.000000</td>\n",
       "      <td>0.000000</td>\n",
       "      <td>0.002630</td>\n",
       "      <td>0.137873</td>\n",
       "      <td>0.006130</td>\n",
       "      <td>0.000000</td>\n",
       "      <td>0.275590</td>\n",
       "      <td>...</td>\n",
       "      <td>0.000000</td>\n",
       "      <td>0.000000</td>\n",
       "      <td>0.000000</td>\n",
       "      <td>0.000000</td>\n",
       "      <td>0.000000</td>\n",
       "      <td>0.000000</td>\n",
       "      <td>0.000000</td>\n",
       "      <td>0.000000</td>\n",
       "      <td>0.000000</td>\n",
       "      <td>0.000000</td>\n",
       "    </tr>\n",
       "    <tr>\n",
       "      <th>25%</th>\n",
       "      <td>0.000000</td>\n",
       "      <td>0.033300</td>\n",
       "      <td>0.517811</td>\n",
       "      <td>0.000000</td>\n",
       "      <td>0.000000</td>\n",
       "      <td>0.138118</td>\n",
       "      <td>0.625627</td>\n",
       "      <td>0.207374</td>\n",
       "      <td>0.378062</td>\n",
       "      <td>0.707339</td>\n",
       "      <td>...</td>\n",
       "      <td>0.000000</td>\n",
       "      <td>0.000000</td>\n",
       "      <td>0.000000</td>\n",
       "      <td>0.000000</td>\n",
       "      <td>0.000000</td>\n",
       "      <td>0.000000</td>\n",
       "      <td>0.000000</td>\n",
       "      <td>0.000000</td>\n",
       "      <td>0.000000</td>\n",
       "      <td>0.000000</td>\n",
       "    </tr>\n",
       "    <tr>\n",
       "      <th>50%</th>\n",
       "      <td>1.000000</td>\n",
       "      <td>0.066700</td>\n",
       "      <td>0.585989</td>\n",
       "      <td>0.050000</td>\n",
       "      <td>0.000000</td>\n",
       "      <td>0.190926</td>\n",
       "      <td>0.674037</td>\n",
       "      <td>0.277845</td>\n",
       "      <td>0.499942</td>\n",
       "      <td>0.738961</td>\n",
       "      <td>...</td>\n",
       "      <td>0.000000</td>\n",
       "      <td>0.000000</td>\n",
       "      <td>0.000000</td>\n",
       "      <td>0.000000</td>\n",
       "      <td>0.000000</td>\n",
       "      <td>0.000000</td>\n",
       "      <td>0.000000</td>\n",
       "      <td>0.000000</td>\n",
       "      <td>0.000000</td>\n",
       "      <td>0.000000</td>\n",
       "    </tr>\n",
       "    <tr>\n",
       "      <th>75%</th>\n",
       "      <td>1.000000</td>\n",
       "      <td>0.100000</td>\n",
       "      <td>0.668395</td>\n",
       "      <td>0.100000</td>\n",
       "      <td>0.000000</td>\n",
       "      <td>0.261726</td>\n",
       "      <td>0.740663</td>\n",
       "      <td>0.335816</td>\n",
       "      <td>0.569962</td>\n",
       "      <td>0.788177</td>\n",
       "      <td>...</td>\n",
       "      <td>0.000000</td>\n",
       "      <td>0.000000</td>\n",
       "      <td>0.000000</td>\n",
       "      <td>0.000000</td>\n",
       "      <td>0.000000</td>\n",
       "      <td>0.000000</td>\n",
       "      <td>0.000000</td>\n",
       "      <td>0.000000</td>\n",
       "      <td>0.000000</td>\n",
       "      <td>0.000000</td>\n",
       "    </tr>\n",
       "    <tr>\n",
       "      <th>max</th>\n",
       "      <td>1.000000</td>\n",
       "      <td>1.000000</td>\n",
       "      <td>0.964381</td>\n",
       "      <td>0.950000</td>\n",
       "      <td>1.000000</td>\n",
       "      <td>1.000000</td>\n",
       "      <td>0.994735</td>\n",
       "      <td>0.790831</td>\n",
       "      <td>0.989870</td>\n",
       "      <td>1.000000</td>\n",
       "      <td>...</td>\n",
       "      <td>1.000000</td>\n",
       "      <td>1.000000</td>\n",
       "      <td>1.000000</td>\n",
       "      <td>1.000000</td>\n",
       "      <td>1.000000</td>\n",
       "      <td>1.000000</td>\n",
       "      <td>1.000000</td>\n",
       "      <td>1.000000</td>\n",
       "      <td>1.000000</td>\n",
       "      <td>1.000000</td>\n",
       "    </tr>\n",
       "  </tbody>\n",
       "</table>\n",
       "<p>8 rows × 1777 columns</p>\n",
       "</div>"
      ],
      "text/plain": [
       "          Activity           D1           D2           D3           D4  \\\n",
       "count  3751.000000  3751.000000  3751.000000  3751.000000  3751.000000   \n",
       "mean      0.542255     0.076948     0.592436     0.068142     0.038990   \n",
       "std       0.498278     0.079989     0.105860     0.078414     0.115885   \n",
       "min       0.000000     0.000000     0.282128     0.000000     0.000000   \n",
       "25%       0.000000     0.033300     0.517811     0.000000     0.000000   \n",
       "50%       1.000000     0.066700     0.585989     0.050000     0.000000   \n",
       "75%       1.000000     0.100000     0.668395     0.100000     0.000000   \n",
       "max       1.000000     1.000000     0.964381     0.950000     1.000000   \n",
       "\n",
       "                D5           D6           D7           D8           D9  ...  \\\n",
       "count  3751.000000  3751.000000  3751.000000  3751.000000  3751.000000  ...   \n",
       "mean      0.212112     0.686653     0.274713     0.455133     0.749517  ...   \n",
       "std       0.102592     0.078702     0.090017     0.162731     0.071702  ...   \n",
       "min       0.002630     0.137873     0.006130     0.000000     0.275590  ...   \n",
       "25%       0.138118     0.625627     0.207374     0.378062     0.707339  ...   \n",
       "50%       0.190926     0.674037     0.277845     0.499942     0.738961  ...   \n",
       "75%       0.261726     0.740663     0.335816     0.569962     0.788177  ...   \n",
       "max       1.000000     0.994735     0.790831     0.989870     1.000000  ...   \n",
       "\n",
       "             D1767        D1768        D1769        D1770        D1771  \\\n",
       "count  3751.000000  3751.000000  3751.000000  3751.000000  3751.000000   \n",
       "mean      0.026926     0.014663     0.013863     0.021861     0.015196   \n",
       "std       0.161889     0.120215     0.116938     0.146249     0.122348   \n",
       "min       0.000000     0.000000     0.000000     0.000000     0.000000   \n",
       "25%       0.000000     0.000000     0.000000     0.000000     0.000000   \n",
       "50%       0.000000     0.000000     0.000000     0.000000     0.000000   \n",
       "75%       0.000000     0.000000     0.000000     0.000000     0.000000   \n",
       "max       1.000000     1.000000     1.000000     1.000000     1.000000   \n",
       "\n",
       "             D1772        D1773        D1774        D1775        D1776  \n",
       "count  3751.000000  3751.000000  3751.000000  3751.000000  3751.000000  \n",
       "mean      0.016796     0.012263     0.011730     0.020261     0.011197  \n",
       "std       0.128522     0.110074     0.107683     0.140911     0.105236  \n",
       "min       0.000000     0.000000     0.000000     0.000000     0.000000  \n",
       "25%       0.000000     0.000000     0.000000     0.000000     0.000000  \n",
       "50%       0.000000     0.000000     0.000000     0.000000     0.000000  \n",
       "75%       0.000000     0.000000     0.000000     0.000000     0.000000  \n",
       "max       1.000000     1.000000     1.000000     1.000000     1.000000  \n",
       "\n",
       "[8 rows x 1777 columns]"
      ]
     },
     "execution_count": 5,
     "metadata": {},
     "output_type": "execute_result"
    }
   ],
   "source": [
    "train_data.describe()"
   ]
  },
  {
   "cell_type": "markdown",
   "id": "e3cafb10",
   "metadata": {
    "papermill": {
     "duration": 0.012955,
     "end_time": "2022-12-14T23:04:56.993413",
     "exception": false,
     "start_time": "2022-12-14T23:04:56.980458",
     "status": "completed"
    },
    "tags": []
   },
   "source": [
    "# Show Data info"
   ]
  },
  {
   "cell_type": "code",
   "execution_count": 6,
   "id": "e200464c",
   "metadata": {
    "execution": {
     "iopub.execute_input": "2022-12-14T23:04:57.025036Z",
     "iopub.status.busy": "2022-12-14T23:04:57.023702Z",
     "iopub.status.idle": "2022-12-14T23:04:57.120617Z",
     "shell.execute_reply": "2022-12-14T23:04:57.118001Z"
    },
    "papermill": {
     "duration": 0.115375,
     "end_time": "2022-12-14T23:04:57.123868",
     "exception": false,
     "start_time": "2022-12-14T23:04:57.008493",
     "status": "completed"
    },
    "tags": []
   },
   "outputs": [
    {
     "name": "stdout",
     "output_type": "stream",
     "text": [
      "<class 'pandas.core.frame.DataFrame'>\n",
      "RangeIndex: 3751 entries, 0 to 3750\n",
      "Columns: 1777 entries, Activity to D1776\n",
      "dtypes: float64(942), int64(835)\n",
      "memory usage: 50.9 MB\n"
     ]
    }
   ],
   "source": [
    "train_data.info()"
   ]
  },
  {
   "cell_type": "markdown",
   "id": "86a5bb5d",
   "metadata": {
    "papermill": {
     "duration": 0.01338,
     "end_time": "2022-12-14T23:04:57.151710",
     "exception": false,
     "start_time": "2022-12-14T23:04:57.138330",
     "status": "completed"
    },
    "tags": []
   },
   "source": [
    "# Show data corr"
   ]
  },
  {
   "cell_type": "code",
   "execution_count": 7,
   "id": "560cc0e9",
   "metadata": {
    "execution": {
     "iopub.execute_input": "2022-12-14T23:04:57.181193Z",
     "iopub.status.busy": "2022-12-14T23:04:57.180736Z",
     "iopub.status.idle": "2022-12-14T23:05:29.577277Z",
     "shell.execute_reply": "2022-12-14T23:05:29.575921Z"
    },
    "papermill": {
     "duration": 32.428908,
     "end_time": "2022-12-14T23:05:29.594254",
     "exception": false,
     "start_time": "2022-12-14T23:04:57.165346",
     "status": "completed"
    },
    "tags": []
   },
   "outputs": [
    {
     "data": {
      "text/html": [
       "<div>\n",
       "<style scoped>\n",
       "    .dataframe tbody tr th:only-of-type {\n",
       "        vertical-align: middle;\n",
       "    }\n",
       "\n",
       "    .dataframe tbody tr th {\n",
       "        vertical-align: top;\n",
       "    }\n",
       "\n",
       "    .dataframe thead th {\n",
       "        text-align: right;\n",
       "    }\n",
       "</style>\n",
       "<table border=\"1\" class=\"dataframe\">\n",
       "  <thead>\n",
       "    <tr style=\"text-align: right;\">\n",
       "      <th></th>\n",
       "      <th>Activity</th>\n",
       "      <th>D1</th>\n",
       "      <th>D2</th>\n",
       "      <th>D3</th>\n",
       "      <th>D4</th>\n",
       "      <th>D5</th>\n",
       "      <th>D6</th>\n",
       "      <th>D7</th>\n",
       "      <th>D8</th>\n",
       "      <th>D9</th>\n",
       "      <th>...</th>\n",
       "      <th>D1767</th>\n",
       "      <th>D1768</th>\n",
       "      <th>D1769</th>\n",
       "      <th>D1770</th>\n",
       "      <th>D1771</th>\n",
       "      <th>D1772</th>\n",
       "      <th>D1773</th>\n",
       "      <th>D1774</th>\n",
       "      <th>D1775</th>\n",
       "      <th>D1776</th>\n",
       "    </tr>\n",
       "  </thead>\n",
       "  <tbody>\n",
       "    <tr>\n",
       "      <th>Activity</th>\n",
       "      <td>1.000000</td>\n",
       "      <td>-0.086402</td>\n",
       "      <td>0.109226</td>\n",
       "      <td>0.167209</td>\n",
       "      <td>-0.044126</td>\n",
       "      <td>-0.148447</td>\n",
       "      <td>-0.106213</td>\n",
       "      <td>0.137016</td>\n",
       "      <td>0.172226</td>\n",
       "      <td>-0.077743</td>\n",
       "      <td>...</td>\n",
       "      <td>0.010685</td>\n",
       "      <td>0.076465</td>\n",
       "      <td>0.031133</td>\n",
       "      <td>0.016595</td>\n",
       "      <td>0.039768</td>\n",
       "      <td>0.011817</td>\n",
       "      <td>0.029445</td>\n",
       "      <td>0.005669</td>\n",
       "      <td>0.048571</td>\n",
       "      <td>0.021488</td>\n",
       "    </tr>\n",
       "    <tr>\n",
       "      <th>D1</th>\n",
       "      <td>-0.086402</td>\n",
       "      <td>1.000000</td>\n",
       "      <td>0.262487</td>\n",
       "      <td>0.328325</td>\n",
       "      <td>0.260002</td>\n",
       "      <td>-0.074244</td>\n",
       "      <td>0.366193</td>\n",
       "      <td>-0.430245</td>\n",
       "      <td>-0.112804</td>\n",
       "      <td>0.189056</td>\n",
       "      <td>...</td>\n",
       "      <td>0.260743</td>\n",
       "      <td>0.221889</td>\n",
       "      <td>0.224236</td>\n",
       "      <td>0.229257</td>\n",
       "      <td>0.225635</td>\n",
       "      <td>0.234814</td>\n",
       "      <td>0.096729</td>\n",
       "      <td>0.164529</td>\n",
       "      <td>0.237026</td>\n",
       "      <td>0.186957</td>\n",
       "    </tr>\n",
       "    <tr>\n",
       "      <th>D2</th>\n",
       "      <td>0.109226</td>\n",
       "      <td>0.262487</td>\n",
       "      <td>1.000000</td>\n",
       "      <td>0.439590</td>\n",
       "      <td>0.352263</td>\n",
       "      <td>0.227328</td>\n",
       "      <td>-0.136386</td>\n",
       "      <td>-0.032891</td>\n",
       "      <td>0.141841</td>\n",
       "      <td>-0.354988</td>\n",
       "      <td>...</td>\n",
       "      <td>0.012333</td>\n",
       "      <td>0.075043</td>\n",
       "      <td>0.015788</td>\n",
       "      <td>0.040128</td>\n",
       "      <td>0.045587</td>\n",
       "      <td>0.017283</td>\n",
       "      <td>0.023722</td>\n",
       "      <td>0.043174</td>\n",
       "      <td>0.027019</td>\n",
       "      <td>0.073585</td>\n",
       "    </tr>\n",
       "    <tr>\n",
       "      <th>D3</th>\n",
       "      <td>0.167209</td>\n",
       "      <td>0.328325</td>\n",
       "      <td>0.439590</td>\n",
       "      <td>1.000000</td>\n",
       "      <td>0.188451</td>\n",
       "      <td>-0.123794</td>\n",
       "      <td>-0.040728</td>\n",
       "      <td>-0.204815</td>\n",
       "      <td>0.079161</td>\n",
       "      <td>-0.141597</td>\n",
       "      <td>...</td>\n",
       "      <td>0.049737</td>\n",
       "      <td>0.135849</td>\n",
       "      <td>0.037999</td>\n",
       "      <td>0.096788</td>\n",
       "      <td>0.122743</td>\n",
       "      <td>0.021355</td>\n",
       "      <td>0.053000</td>\n",
       "      <td>0.142170</td>\n",
       "      <td>0.008959</td>\n",
       "      <td>0.198354</td>\n",
       "    </tr>\n",
       "    <tr>\n",
       "      <th>D4</th>\n",
       "      <td>-0.044126</td>\n",
       "      <td>0.260002</td>\n",
       "      <td>0.352263</td>\n",
       "      <td>0.188451</td>\n",
       "      <td>1.000000</td>\n",
       "      <td>-0.012298</td>\n",
       "      <td>-0.001187</td>\n",
       "      <td>-0.063331</td>\n",
       "      <td>0.064062</td>\n",
       "      <td>-0.035721</td>\n",
       "      <td>...</td>\n",
       "      <td>-0.006225</td>\n",
       "      <td>0.073802</td>\n",
       "      <td>-0.000540</td>\n",
       "      <td>0.040167</td>\n",
       "      <td>0.042837</td>\n",
       "      <td>-0.008171</td>\n",
       "      <td>0.014769</td>\n",
       "      <td>0.027448</td>\n",
       "      <td>0.008766</td>\n",
       "      <td>0.068058</td>\n",
       "    </tr>\n",
       "    <tr>\n",
       "      <th>...</th>\n",
       "      <td>...</td>\n",
       "      <td>...</td>\n",
       "      <td>...</td>\n",
       "      <td>...</td>\n",
       "      <td>...</td>\n",
       "      <td>...</td>\n",
       "      <td>...</td>\n",
       "      <td>...</td>\n",
       "      <td>...</td>\n",
       "      <td>...</td>\n",
       "      <td>...</td>\n",
       "      <td>...</td>\n",
       "      <td>...</td>\n",
       "      <td>...</td>\n",
       "      <td>...</td>\n",
       "      <td>...</td>\n",
       "      <td>...</td>\n",
       "      <td>...</td>\n",
       "      <td>...</td>\n",
       "      <td>...</td>\n",
       "      <td>...</td>\n",
       "    </tr>\n",
       "    <tr>\n",
       "      <th>D1772</th>\n",
       "      <td>0.011817</td>\n",
       "      <td>0.234814</td>\n",
       "      <td>0.017283</td>\n",
       "      <td>0.021355</td>\n",
       "      <td>-0.008171</td>\n",
       "      <td>-0.118609</td>\n",
       "      <td>0.165540</td>\n",
       "      <td>-0.140998</td>\n",
       "      <td>-0.010961</td>\n",
       "      <td>0.143035</td>\n",
       "      <td>...</td>\n",
       "      <td>0.580641</td>\n",
       "      <td>0.329251</td>\n",
       "      <td>0.552293</td>\n",
       "      <td>0.562141</td>\n",
       "      <td>0.289023</td>\n",
       "      <td>1.000000</td>\n",
       "      <td>0.249335</td>\n",
       "      <td>0.101371</td>\n",
       "      <td>0.422945</td>\n",
       "      <td>0.262122</td>\n",
       "    </tr>\n",
       "    <tr>\n",
       "      <th>D1773</th>\n",
       "      <td>0.029445</td>\n",
       "      <td>0.096729</td>\n",
       "      <td>0.023722</td>\n",
       "      <td>0.053000</td>\n",
       "      <td>0.014769</td>\n",
       "      <td>-0.097684</td>\n",
       "      <td>0.114388</td>\n",
       "      <td>-0.092395</td>\n",
       "      <td>0.021939</td>\n",
       "      <td>0.092533</td>\n",
       "      <td>...</td>\n",
       "      <td>0.430405</td>\n",
       "      <td>0.228236</td>\n",
       "      <td>0.214677</td>\n",
       "      <td>0.248383</td>\n",
       "      <td>0.243572</td>\n",
       "      <td>0.249335</td>\n",
       "      <td>1.000000</td>\n",
       "      <td>0.325325</td>\n",
       "      <td>0.293441</td>\n",
       "      <td>0.333455</td>\n",
       "    </tr>\n",
       "    <tr>\n",
       "      <th>D1774</th>\n",
       "      <td>0.005669</td>\n",
       "      <td>0.164529</td>\n",
       "      <td>0.043174</td>\n",
       "      <td>0.142170</td>\n",
       "      <td>0.027448</td>\n",
       "      <td>-0.105049</td>\n",
       "      <td>0.124192</td>\n",
       "      <td>-0.089671</td>\n",
       "      <td>0.024235</td>\n",
       "      <td>0.087579</td>\n",
       "      <td>...</td>\n",
       "      <td>0.394892</td>\n",
       "      <td>0.295706</td>\n",
       "      <td>0.156499</td>\n",
       "      <td>0.305436</td>\n",
       "      <td>0.148392</td>\n",
       "      <td>0.101371</td>\n",
       "      <td>0.325325</td>\n",
       "      <td>1.000000</td>\n",
       "      <td>0.300667</td>\n",
       "      <td>0.411980</td>\n",
       "    </tr>\n",
       "    <tr>\n",
       "      <th>D1775</th>\n",
       "      <td>0.048571</td>\n",
       "      <td>0.237026</td>\n",
       "      <td>0.027019</td>\n",
       "      <td>0.008959</td>\n",
       "      <td>0.008766</td>\n",
       "      <td>-0.137316</td>\n",
       "      <td>0.144459</td>\n",
       "      <td>-0.096429</td>\n",
       "      <td>0.019008</td>\n",
       "      <td>0.121252</td>\n",
       "      <td>...</td>\n",
       "      <td>0.548875</td>\n",
       "      <td>0.376011</td>\n",
       "      <td>0.403716</td>\n",
       "      <td>0.483157</td>\n",
       "      <td>0.368829</td>\n",
       "      <td>0.422945</td>\n",
       "      <td>0.293441</td>\n",
       "      <td>0.300667</td>\n",
       "      <td>1.000000</td>\n",
       "      <td>0.182508</td>\n",
       "    </tr>\n",
       "    <tr>\n",
       "      <th>D1776</th>\n",
       "      <td>0.021488</td>\n",
       "      <td>0.186957</td>\n",
       "      <td>0.073585</td>\n",
       "      <td>0.198354</td>\n",
       "      <td>0.068058</td>\n",
       "      <td>-0.102322</td>\n",
       "      <td>0.103924</td>\n",
       "      <td>-0.112762</td>\n",
       "      <td>0.013919</td>\n",
       "      <td>0.057519</td>\n",
       "      <td>...</td>\n",
       "      <td>0.295351</td>\n",
       "      <td>0.282123</td>\n",
       "      <td>0.182409</td>\n",
       "      <td>0.313297</td>\n",
       "      <td>0.256029</td>\n",
       "      <td>0.262122</td>\n",
       "      <td>0.333455</td>\n",
       "      <td>0.411980</td>\n",
       "      <td>0.182508</td>\n",
       "      <td>1.000000</td>\n",
       "    </tr>\n",
       "  </tbody>\n",
       "</table>\n",
       "<p>1777 rows × 1777 columns</p>\n",
       "</div>"
      ],
      "text/plain": [
       "          Activity        D1        D2        D3        D4        D5  \\\n",
       "Activity  1.000000 -0.086402  0.109226  0.167209 -0.044126 -0.148447   \n",
       "D1       -0.086402  1.000000  0.262487  0.328325  0.260002 -0.074244   \n",
       "D2        0.109226  0.262487  1.000000  0.439590  0.352263  0.227328   \n",
       "D3        0.167209  0.328325  0.439590  1.000000  0.188451 -0.123794   \n",
       "D4       -0.044126  0.260002  0.352263  0.188451  1.000000 -0.012298   \n",
       "...            ...       ...       ...       ...       ...       ...   \n",
       "D1772     0.011817  0.234814  0.017283  0.021355 -0.008171 -0.118609   \n",
       "D1773     0.029445  0.096729  0.023722  0.053000  0.014769 -0.097684   \n",
       "D1774     0.005669  0.164529  0.043174  0.142170  0.027448 -0.105049   \n",
       "D1775     0.048571  0.237026  0.027019  0.008959  0.008766 -0.137316   \n",
       "D1776     0.021488  0.186957  0.073585  0.198354  0.068058 -0.102322   \n",
       "\n",
       "                D6        D7        D8        D9  ...     D1767     D1768  \\\n",
       "Activity -0.106213  0.137016  0.172226 -0.077743  ...  0.010685  0.076465   \n",
       "D1        0.366193 -0.430245 -0.112804  0.189056  ...  0.260743  0.221889   \n",
       "D2       -0.136386 -0.032891  0.141841 -0.354988  ...  0.012333  0.075043   \n",
       "D3       -0.040728 -0.204815  0.079161 -0.141597  ...  0.049737  0.135849   \n",
       "D4       -0.001187 -0.063331  0.064062 -0.035721  ... -0.006225  0.073802   \n",
       "...            ...       ...       ...       ...  ...       ...       ...   \n",
       "D1772     0.165540 -0.140998 -0.010961  0.143035  ...  0.580641  0.329251   \n",
       "D1773     0.114388 -0.092395  0.021939  0.092533  ...  0.430405  0.228236   \n",
       "D1774     0.124192 -0.089671  0.024235  0.087579  ...  0.394892  0.295706   \n",
       "D1775     0.144459 -0.096429  0.019008  0.121252  ...  0.548875  0.376011   \n",
       "D1776     0.103924 -0.112762  0.013919  0.057519  ...  0.295351  0.282123   \n",
       "\n",
       "             D1769     D1770     D1771     D1772     D1773     D1774  \\\n",
       "Activity  0.031133  0.016595  0.039768  0.011817  0.029445  0.005669   \n",
       "D1        0.224236  0.229257  0.225635  0.234814  0.096729  0.164529   \n",
       "D2        0.015788  0.040128  0.045587  0.017283  0.023722  0.043174   \n",
       "D3        0.037999  0.096788  0.122743  0.021355  0.053000  0.142170   \n",
       "D4       -0.000540  0.040167  0.042837 -0.008171  0.014769  0.027448   \n",
       "...            ...       ...       ...       ...       ...       ...   \n",
       "D1772     0.552293  0.562141  0.289023  1.000000  0.249335  0.101371   \n",
       "D1773     0.214677  0.248383  0.243572  0.249335  1.000000  0.325325   \n",
       "D1774     0.156499  0.305436  0.148392  0.101371  0.325325  1.000000   \n",
       "D1775     0.403716  0.483157  0.368829  0.422945  0.293441  0.300667   \n",
       "D1776     0.182409  0.313297  0.256029  0.262122  0.333455  0.411980   \n",
       "\n",
       "             D1775     D1776  \n",
       "Activity  0.048571  0.021488  \n",
       "D1        0.237026  0.186957  \n",
       "D2        0.027019  0.073585  \n",
       "D3        0.008959  0.198354  \n",
       "D4        0.008766  0.068058  \n",
       "...            ...       ...  \n",
       "D1772     0.422945  0.262122  \n",
       "D1773     0.293441  0.333455  \n",
       "D1774     0.300667  0.411980  \n",
       "D1775     1.000000  0.182508  \n",
       "D1776     0.182508  1.000000  \n",
       "\n",
       "[1777 rows x 1777 columns]"
      ]
     },
     "execution_count": 7,
     "metadata": {},
     "output_type": "execute_result"
    }
   ],
   "source": [
    "train_data.corr()"
   ]
  },
  {
   "cell_type": "markdown",
   "id": "6d8f1d5c",
   "metadata": {
    "papermill": {
     "duration": 0.014018,
     "end_time": "2022-12-14T23:05:29.622506",
     "exception": false,
     "start_time": "2022-12-14T23:05:29.608488",
     "status": "completed"
    },
    "tags": []
   },
   "source": [
    "# Show Data contain null data"
   ]
  },
  {
   "cell_type": "code",
   "execution_count": 8,
   "id": "6fbe591a",
   "metadata": {
    "execution": {
     "iopub.execute_input": "2022-12-14T23:05:29.653134Z",
     "iopub.status.busy": "2022-12-14T23:05:29.652632Z",
     "iopub.status.idle": "2022-12-14T23:05:29.709368Z",
     "shell.execute_reply": "2022-12-14T23:05:29.708189Z"
    },
    "papermill": {
     "duration": 0.074906,
     "end_time": "2022-12-14T23:05:29.711831",
     "exception": false,
     "start_time": "2022-12-14T23:05:29.636925",
     "status": "completed"
    },
    "tags": []
   },
   "outputs": [
    {
     "data": {
      "text/html": [
       "<div>\n",
       "<style scoped>\n",
       "    .dataframe tbody tr th:only-of-type {\n",
       "        vertical-align: middle;\n",
       "    }\n",
       "\n",
       "    .dataframe tbody tr th {\n",
       "        vertical-align: top;\n",
       "    }\n",
       "\n",
       "    .dataframe thead th {\n",
       "        text-align: right;\n",
       "    }\n",
       "</style>\n",
       "<table border=\"1\" class=\"dataframe\">\n",
       "  <thead>\n",
       "    <tr style=\"text-align: right;\">\n",
       "      <th></th>\n",
       "      <th>Number of null</th>\n",
       "      <th>percentage</th>\n",
       "    </tr>\n",
       "  </thead>\n",
       "  <tbody>\n",
       "    <tr>\n",
       "      <th>Activity</th>\n",
       "      <td>0</td>\n",
       "      <td>0.0</td>\n",
       "    </tr>\n",
       "    <tr>\n",
       "      <th>D1</th>\n",
       "      <td>0</td>\n",
       "      <td>0.0</td>\n",
       "    </tr>\n",
       "    <tr>\n",
       "      <th>D2</th>\n",
       "      <td>0</td>\n",
       "      <td>0.0</td>\n",
       "    </tr>\n",
       "    <tr>\n",
       "      <th>D3</th>\n",
       "      <td>0</td>\n",
       "      <td>0.0</td>\n",
       "    </tr>\n",
       "    <tr>\n",
       "      <th>D4</th>\n",
       "      <td>0</td>\n",
       "      <td>0.0</td>\n",
       "    </tr>\n",
       "    <tr>\n",
       "      <th>...</th>\n",
       "      <td>...</td>\n",
       "      <td>...</td>\n",
       "    </tr>\n",
       "    <tr>\n",
       "      <th>D1772</th>\n",
       "      <td>0</td>\n",
       "      <td>0.0</td>\n",
       "    </tr>\n",
       "    <tr>\n",
       "      <th>D1773</th>\n",
       "      <td>0</td>\n",
       "      <td>0.0</td>\n",
       "    </tr>\n",
       "    <tr>\n",
       "      <th>D1774</th>\n",
       "      <td>0</td>\n",
       "      <td>0.0</td>\n",
       "    </tr>\n",
       "    <tr>\n",
       "      <th>D1775</th>\n",
       "      <td>0</td>\n",
       "      <td>0.0</td>\n",
       "    </tr>\n",
       "    <tr>\n",
       "      <th>D1776</th>\n",
       "      <td>0</td>\n",
       "      <td>0.0</td>\n",
       "    </tr>\n",
       "  </tbody>\n",
       "</table>\n",
       "<p>1777 rows × 2 columns</p>\n",
       "</div>"
      ],
      "text/plain": [
       "          Number of null  percentage\n",
       "Activity               0         0.0\n",
       "D1                     0         0.0\n",
       "D2                     0         0.0\n",
       "D3                     0         0.0\n",
       "D4                     0         0.0\n",
       "...                  ...         ...\n",
       "D1772                  0         0.0\n",
       "D1773                  0         0.0\n",
       "D1774                  0         0.0\n",
       "D1775                  0         0.0\n",
       "D1776                  0         0.0\n",
       "\n",
       "[1777 rows x 2 columns]"
      ]
     },
     "execution_count": 8,
     "metadata": {},
     "output_type": "execute_result"
    }
   ],
   "source": [
    "data_null=pd.DataFrame(train_data.isnull().sum(),columns=['Number of null'])\n",
    "data_null['percentage']=(train_data.isnull().sum())/len(train_data)*100\n",
    "data_null"
   ]
  },
  {
   "cell_type": "markdown",
   "id": "ed12a5e6",
   "metadata": {
    "papermill": {
     "duration": 0.014023,
     "end_time": "2022-12-14T23:05:29.740087",
     "exception": false,
     "start_time": "2022-12-14T23:05:29.726064",
     "status": "completed"
    },
    "tags": []
   },
   "source": [
    "\n",
    "# Show data contain duplicate data"
   ]
  },
  {
   "cell_type": "code",
   "execution_count": 9,
   "id": "1a84f2f4",
   "metadata": {
    "execution": {
     "iopub.execute_input": "2022-12-14T23:05:29.771122Z",
     "iopub.status.busy": "2022-12-14T23:05:29.770350Z",
     "iopub.status.idle": "2022-12-14T23:05:30.022984Z",
     "shell.execute_reply": "2022-12-14T23:05:30.021680Z"
    },
    "papermill": {
     "duration": 0.271448,
     "end_time": "2022-12-14T23:05:30.025740",
     "exception": false,
     "start_time": "2022-12-14T23:05:29.754292",
     "status": "completed"
    },
    "tags": []
   },
   "outputs": [
    {
     "data": {
      "text/plain": [
       "0"
      ]
     },
     "execution_count": 9,
     "metadata": {},
     "output_type": "execute_result"
    }
   ],
   "source": [
    "train_data.duplicated().sum()"
   ]
  },
  {
   "cell_type": "markdown",
   "id": "20b06cdf",
   "metadata": {
    "papermill": {
     "duration": 0.014741,
     "end_time": "2022-12-14T23:05:30.055389",
     "exception": false,
     "start_time": "2022-12-14T23:05:30.040648",
     "status": "completed"
    },
    "tags": []
   },
   "source": [
    "# Show distrubtion of Activity"
   ]
  },
  {
   "cell_type": "code",
   "execution_count": 10,
   "id": "ac6f3f8f",
   "metadata": {
    "execution": {
     "iopub.execute_input": "2022-12-14T23:05:30.088739Z",
     "iopub.status.busy": "2022-12-14T23:05:30.087970Z",
     "iopub.status.idle": "2022-12-14T23:05:30.278396Z",
     "shell.execute_reply": "2022-12-14T23:05:30.276961Z"
    },
    "papermill": {
     "duration": 0.210218,
     "end_time": "2022-12-14T23:05:30.281726",
     "exception": false,
     "start_time": "2022-12-14T23:05:30.071508",
     "status": "completed"
    },
    "tags": []
   },
   "outputs": [
    {
     "data": {
      "text/plain": [
       "<AxesSubplot:xlabel='Activity', ylabel='count'>"
      ]
     },
     "execution_count": 10,
     "metadata": {},
     "output_type": "execute_result"
    },
    {
     "data": {
      "image/png": "[encoded data removed]",
      "text/plain": [
       "<Figure size 432x288 with 1 Axes>"
      ]
     },
     "metadata": {
      "needs_background": "light"
     },
     "output_type": "display_data"
    }
   ],
   "source": [
    "sns.countplot(x='Activity',data=train_data)"
   ]
  },
  {
   "cell_type": "markdown",
   "id": "951aebb8",
   "metadata": {
    "papermill": {
     "duration": 0.015013,
     "end_time": "2022-12-14T23:05:30.312655",
     "exception": false,
     "start_time": "2022-12-14T23:05:30.297642",
     "status": "completed"
    },
    "tags": []
   },
   "source": [
    "# Show input X and output y"
   ]
  },
  {
   "cell_type": "code",
   "execution_count": 11,
   "id": "256d7c5a",
   "metadata": {
    "execution": {
     "iopub.execute_input": "2022-12-14T23:05:30.347190Z",
     "iopub.status.busy": "2022-12-14T23:05:30.346635Z",
     "iopub.status.idle": "2022-12-14T23:05:30.379629Z",
     "shell.execute_reply": "2022-12-14T23:05:30.378256Z"
    },
    "papermill": {
     "duration": 0.054406,
     "end_time": "2022-12-14T23:05:30.382740",
     "exception": false,
     "start_time": "2022-12-14T23:05:30.328334",
     "status": "completed"
    },
    "tags": []
   },
   "outputs": [],
   "source": [
    "X=train_data.iloc[:,1:]\n",
    "y=train_data.iloc[:,0]\n",
    "key=X.keys()"
   ]
  },
  {
   "cell_type": "markdown",
   "id": "f53ba503",
   "metadata": {
    "papermill": {
     "duration": 0.014725,
     "end_time": "2022-12-14T23:05:30.412535",
     "exception": false,
     "start_time": "2022-12-14T23:05:30.397810",
     "status": "completed"
    },
    "tags": []
   },
   "source": [
    "# Show X"
   ]
  },
  {
   "cell_type": "code",
   "execution_count": 12,
   "id": "6d7ec54d",
   "metadata": {
    "execution": {
     "iopub.execute_input": "2022-12-14T23:05:30.445905Z",
     "iopub.status.busy": "2022-12-14T23:05:30.445038Z",
     "iopub.status.idle": "2022-12-14T23:05:30.475966Z",
     "shell.execute_reply": "2022-12-14T23:05:30.474514Z"
    },
    "papermill": {
     "duration": 0.051696,
     "end_time": "2022-12-14T23:05:30.479488",
     "exception": false,
     "start_time": "2022-12-14T23:05:30.427792",
     "status": "completed"
    },
    "tags": []
   },
   "outputs": [
    {
     "data": {
      "text/html": [
       "<div>\n",
       "<style scoped>\n",
       "    .dataframe tbody tr th:only-of-type {\n",
       "        vertical-align: middle;\n",
       "    }\n",
       "\n",
       "    .dataframe tbody tr th {\n",
       "        vertical-align: top;\n",
       "    }\n",
       "\n",
       "    .dataframe thead th {\n",
       "        text-align: right;\n",
       "    }\n",
       "</style>\n",
       "<table border=\"1\" class=\"dataframe\">\n",
       "  <thead>\n",
       "    <tr style=\"text-align: right;\">\n",
       "      <th></th>\n",
       "      <th>D1</th>\n",
       "      <th>D2</th>\n",
       "      <th>D3</th>\n",
       "      <th>D4</th>\n",
       "      <th>D5</th>\n",
       "      <th>D6</th>\n",
       "      <th>D7</th>\n",
       "      <th>D8</th>\n",
       "      <th>D9</th>\n",
       "      <th>D10</th>\n",
       "      <th>...</th>\n",
       "      <th>D1767</th>\n",
       "      <th>D1768</th>\n",
       "      <th>D1769</th>\n",
       "      <th>D1770</th>\n",
       "      <th>D1771</th>\n",
       "      <th>D1772</th>\n",
       "      <th>D1773</th>\n",
       "      <th>D1774</th>\n",
       "      <th>D1775</th>\n",
       "      <th>D1776</th>\n",
       "    </tr>\n",
       "  </thead>\n",
       "  <tbody>\n",
       "    <tr>\n",
       "      <th>0</th>\n",
       "      <td>0.000000</td>\n",
       "      <td>0.497009</td>\n",
       "      <td>0.10</td>\n",
       "      <td>0.0</td>\n",
       "      <td>0.132956</td>\n",
       "      <td>0.678031</td>\n",
       "      <td>0.273166</td>\n",
       "      <td>0.585445</td>\n",
       "      <td>0.743663</td>\n",
       "      <td>0.243144</td>\n",
       "      <td>...</td>\n",
       "      <td>0</td>\n",
       "      <td>0</td>\n",
       "      <td>0</td>\n",
       "      <td>0</td>\n",
       "      <td>0</td>\n",
       "      <td>0</td>\n",
       "      <td>0</td>\n",
       "      <td>0</td>\n",
       "      <td>0</td>\n",
       "      <td>0</td>\n",
       "    </tr>\n",
       "    <tr>\n",
       "      <th>1</th>\n",
       "      <td>0.366667</td>\n",
       "      <td>0.606291</td>\n",
       "      <td>0.05</td>\n",
       "      <td>0.0</td>\n",
       "      <td>0.111209</td>\n",
       "      <td>0.803455</td>\n",
       "      <td>0.106105</td>\n",
       "      <td>0.411754</td>\n",
       "      <td>0.836582</td>\n",
       "      <td>0.106480</td>\n",
       "      <td>...</td>\n",
       "      <td>1</td>\n",
       "      <td>1</td>\n",
       "      <td>1</td>\n",
       "      <td>1</td>\n",
       "      <td>0</td>\n",
       "      <td>1</td>\n",
       "      <td>0</td>\n",
       "      <td>0</td>\n",
       "      <td>1</td>\n",
       "      <td>0</td>\n",
       "    </tr>\n",
       "    <tr>\n",
       "      <th>2</th>\n",
       "      <td>0.033300</td>\n",
       "      <td>0.480124</td>\n",
       "      <td>0.00</td>\n",
       "      <td>0.0</td>\n",
       "      <td>0.209791</td>\n",
       "      <td>0.610350</td>\n",
       "      <td>0.356453</td>\n",
       "      <td>0.517720</td>\n",
       "      <td>0.679051</td>\n",
       "      <td>0.352308</td>\n",
       "      <td>...</td>\n",
       "      <td>0</td>\n",
       "      <td>0</td>\n",
       "      <td>0</td>\n",
       "      <td>0</td>\n",
       "      <td>0</td>\n",
       "      <td>0</td>\n",
       "      <td>0</td>\n",
       "      <td>0</td>\n",
       "      <td>0</td>\n",
       "      <td>0</td>\n",
       "    </tr>\n",
       "    <tr>\n",
       "      <th>3</th>\n",
       "      <td>0.000000</td>\n",
       "      <td>0.538825</td>\n",
       "      <td>0.00</td>\n",
       "      <td>0.5</td>\n",
       "      <td>0.196344</td>\n",
       "      <td>0.724230</td>\n",
       "      <td>0.235606</td>\n",
       "      <td>0.288764</td>\n",
       "      <td>0.805110</td>\n",
       "      <td>0.208989</td>\n",
       "      <td>...</td>\n",
       "      <td>0</td>\n",
       "      <td>0</td>\n",
       "      <td>0</td>\n",
       "      <td>0</td>\n",
       "      <td>0</td>\n",
       "      <td>0</td>\n",
       "      <td>0</td>\n",
       "      <td>0</td>\n",
       "      <td>0</td>\n",
       "      <td>0</td>\n",
       "    </tr>\n",
       "    <tr>\n",
       "      <th>4</th>\n",
       "      <td>0.100000</td>\n",
       "      <td>0.517794</td>\n",
       "      <td>0.00</td>\n",
       "      <td>0.0</td>\n",
       "      <td>0.494734</td>\n",
       "      <td>0.781422</td>\n",
       "      <td>0.154361</td>\n",
       "      <td>0.303809</td>\n",
       "      <td>0.812646</td>\n",
       "      <td>0.125177</td>\n",
       "      <td>...</td>\n",
       "      <td>0</td>\n",
       "      <td>0</td>\n",
       "      <td>0</td>\n",
       "      <td>0</td>\n",
       "      <td>0</td>\n",
       "      <td>0</td>\n",
       "      <td>0</td>\n",
       "      <td>0</td>\n",
       "      <td>0</td>\n",
       "      <td>0</td>\n",
       "    </tr>\n",
       "    <tr>\n",
       "      <th>...</th>\n",
       "      <td>...</td>\n",
       "      <td>...</td>\n",
       "      <td>...</td>\n",
       "      <td>...</td>\n",
       "      <td>...</td>\n",
       "      <td>...</td>\n",
       "      <td>...</td>\n",
       "      <td>...</td>\n",
       "      <td>...</td>\n",
       "      <td>...</td>\n",
       "      <td>...</td>\n",
       "      <td>...</td>\n",
       "      <td>...</td>\n",
       "      <td>...</td>\n",
       "      <td>...</td>\n",
       "      <td>...</td>\n",
       "      <td>...</td>\n",
       "      <td>...</td>\n",
       "      <td>...</td>\n",
       "      <td>...</td>\n",
       "      <td>...</td>\n",
       "    </tr>\n",
       "    <tr>\n",
       "      <th>3746</th>\n",
       "      <td>0.033300</td>\n",
       "      <td>0.506409</td>\n",
       "      <td>0.10</td>\n",
       "      <td>0.0</td>\n",
       "      <td>0.209887</td>\n",
       "      <td>0.633426</td>\n",
       "      <td>0.297659</td>\n",
       "      <td>0.376124</td>\n",
       "      <td>0.727093</td>\n",
       "      <td>0.308163</td>\n",
       "      <td>...</td>\n",
       "      <td>0</td>\n",
       "      <td>0</td>\n",
       "      <td>0</td>\n",
       "      <td>0</td>\n",
       "      <td>0</td>\n",
       "      <td>0</td>\n",
       "      <td>0</td>\n",
       "      <td>0</td>\n",
       "      <td>0</td>\n",
       "      <td>0</td>\n",
       "    </tr>\n",
       "    <tr>\n",
       "      <th>3747</th>\n",
       "      <td>0.133333</td>\n",
       "      <td>0.651023</td>\n",
       "      <td>0.15</td>\n",
       "      <td>0.0</td>\n",
       "      <td>0.151154</td>\n",
       "      <td>0.766505</td>\n",
       "      <td>0.170876</td>\n",
       "      <td>0.404546</td>\n",
       "      <td>0.787935</td>\n",
       "      <td>0.192527</td>\n",
       "      <td>...</td>\n",
       "      <td>0</td>\n",
       "      <td>0</td>\n",
       "      <td>1</td>\n",
       "      <td>0</td>\n",
       "      <td>1</td>\n",
       "      <td>0</td>\n",
       "      <td>1</td>\n",
       "      <td>0</td>\n",
       "      <td>0</td>\n",
       "      <td>0</td>\n",
       "    </tr>\n",
       "    <tr>\n",
       "      <th>3748</th>\n",
       "      <td>0.200000</td>\n",
       "      <td>0.520564</td>\n",
       "      <td>0.00</td>\n",
       "      <td>0.0</td>\n",
       "      <td>0.179949</td>\n",
       "      <td>0.768785</td>\n",
       "      <td>0.177341</td>\n",
       "      <td>0.471179</td>\n",
       "      <td>0.872241</td>\n",
       "      <td>0.122132</td>\n",
       "      <td>...</td>\n",
       "      <td>0</td>\n",
       "      <td>0</td>\n",
       "      <td>0</td>\n",
       "      <td>0</td>\n",
       "      <td>0</td>\n",
       "      <td>0</td>\n",
       "      <td>0</td>\n",
       "      <td>0</td>\n",
       "      <td>0</td>\n",
       "      <td>0</td>\n",
       "    </tr>\n",
       "    <tr>\n",
       "      <th>3749</th>\n",
       "      <td>0.100000</td>\n",
       "      <td>0.765646</td>\n",
       "      <td>0.00</td>\n",
       "      <td>0.0</td>\n",
       "      <td>0.536954</td>\n",
       "      <td>0.634936</td>\n",
       "      <td>0.342713</td>\n",
       "      <td>0.447162</td>\n",
       "      <td>0.672689</td>\n",
       "      <td>0.372936</td>\n",
       "      <td>...</td>\n",
       "      <td>0</td>\n",
       "      <td>0</td>\n",
       "      <td>0</td>\n",
       "      <td>0</td>\n",
       "      <td>0</td>\n",
       "      <td>0</td>\n",
       "      <td>0</td>\n",
       "      <td>0</td>\n",
       "      <td>0</td>\n",
       "      <td>0</td>\n",
       "    </tr>\n",
       "    <tr>\n",
       "      <th>3750</th>\n",
       "      <td>0.133333</td>\n",
       "      <td>0.533952</td>\n",
       "      <td>0.00</td>\n",
       "      <td>0.0</td>\n",
       "      <td>0.347966</td>\n",
       "      <td>0.757971</td>\n",
       "      <td>0.230667</td>\n",
       "      <td>0.272652</td>\n",
       "      <td>0.854116</td>\n",
       "      <td>0.140316</td>\n",
       "      <td>...</td>\n",
       "      <td>0</td>\n",
       "      <td>0</td>\n",
       "      <td>0</td>\n",
       "      <td>0</td>\n",
       "      <td>0</td>\n",
       "      <td>0</td>\n",
       "      <td>0</td>\n",
       "      <td>0</td>\n",
       "      <td>0</td>\n",
       "      <td>0</td>\n",
       "    </tr>\n",
       "  </tbody>\n",
       "</table>\n",
       "<p>3751 rows × 1776 columns</p>\n",
       "</div>"
      ],
      "text/plain": [
       "            D1        D2    D3   D4        D5        D6        D7        D8  \\\n",
       "0     0.000000  0.497009  0.10  0.0  0.132956  0.678031  0.273166  0.585445   \n",
       "1     0.366667  0.606291  0.05  0.0  0.111209  0.803455  0.106105  0.411754   \n",
       "2     0.033300  0.480124  0.00  0.0  0.209791  0.610350  0.356453  0.517720   \n",
       "3     0.000000  0.538825  0.00  0.5  0.196344  0.724230  0.235606  0.288764   \n",
       "4     0.100000  0.517794  0.00  0.0  0.494734  0.781422  0.154361  0.303809   \n",
       "...        ...       ...   ...  ...       ...       ...       ...       ...   \n",
       "3746  0.033300  0.506409  0.10  0.0  0.209887  0.633426  0.297659  0.376124   \n",
       "3747  0.133333  0.651023  0.15  0.0  0.151154  0.766505  0.170876  0.404546   \n",
       "3748  0.200000  0.520564  0.00  0.0  0.179949  0.768785  0.177341  0.471179   \n",
       "3749  0.100000  0.765646  0.00  0.0  0.536954  0.634936  0.342713  0.447162   \n",
       "3750  0.133333  0.533952  0.00  0.0  0.347966  0.757971  0.230667  0.272652   \n",
       "\n",
       "            D9       D10  ...  D1767  D1768  D1769  D1770  D1771  D1772  \\\n",
       "0     0.743663  0.243144  ...      0      0      0      0      0      0   \n",
       "1     0.836582  0.106480  ...      1      1      1      1      0      1   \n",
       "2     0.679051  0.352308  ...      0      0      0      0      0      0   \n",
       "3     0.805110  0.208989  ...      0      0      0      0      0      0   \n",
       "4     0.812646  0.125177  ...      0      0      0      0      0      0   \n",
       "...        ...       ...  ...    ...    ...    ...    ...    ...    ...   \n",
       "3746  0.727093  0.308163  ...      0      0      0      0      0      0   \n",
       "3747  0.787935  0.192527  ...      0      0      1      0      1      0   \n",
       "3748  0.872241  0.122132  ...      0      0      0      0      0      0   \n",
       "3749  0.672689  0.372936  ...      0      0      0      0      0      0   \n",
       "3750  0.854116  0.140316  ...      0      0      0      0      0      0   \n",
       "\n",
       "      D1773  D1774  D1775  D1776  \n",
       "0         0      0      0      0  \n",
       "1         0      0      1      0  \n",
       "2         0      0      0      0  \n",
       "3         0      0      0      0  \n",
       "4         0      0      0      0  \n",
       "...     ...    ...    ...    ...  \n",
       "3746      0      0      0      0  \n",
       "3747      1      0      0      0  \n",
       "3748      0      0      0      0  \n",
       "3749      0      0      0      0  \n",
       "3750      0      0      0      0  \n",
       "\n",
       "[3751 rows x 1776 columns]"
      ]
     },
     "execution_count": 12,
     "metadata": {},
     "output_type": "execute_result"
    }
   ],
   "source": [
    "X"
   ]
  },
  {
   "cell_type": "markdown",
   "id": "641b94c7",
   "metadata": {
    "papermill": {
     "duration": 0.015565,
     "end_time": "2022-12-14T23:05:30.510770",
     "exception": false,
     "start_time": "2022-12-14T23:05:30.495205",
     "status": "completed"
    },
    "tags": []
   },
   "source": [
    "# Show y"
   ]
  },
  {
   "cell_type": "code",
   "execution_count": 13,
   "id": "ff7ce20b",
   "metadata": {
    "execution": {
     "iopub.execute_input": "2022-12-14T23:05:30.544534Z",
     "iopub.status.busy": "2022-12-14T23:05:30.543979Z",
     "iopub.status.idle": "2022-12-14T23:05:30.553170Z",
     "shell.execute_reply": "2022-12-14T23:05:30.552267Z"
    },
    "papermill": {
     "duration": 0.028964,
     "end_time": "2022-12-14T23:05:30.555435",
     "exception": false,
     "start_time": "2022-12-14T23:05:30.526471",
     "status": "completed"
    },
    "tags": []
   },
   "outputs": [
    {
     "data": {
      "text/plain": [
       "0       1\n",
       "1       1\n",
       "2       1\n",
       "3       1\n",
       "4       0\n",
       "       ..\n",
       "3746    1\n",
       "3747    1\n",
       "3748    0\n",
       "3749    1\n",
       "3750    0\n",
       "Name: Activity, Length: 3751, dtype: int64"
      ]
     },
     "execution_count": 13,
     "metadata": {},
     "output_type": "execute_result"
    }
   ],
   "source": [
    "y"
   ]
  },
  {
   "cell_type": "markdown",
   "id": "a0788303",
   "metadata": {
    "papermill": {
     "duration": 0.015118,
     "end_time": "2022-12-14T23:05:30.586241",
     "exception": false,
     "start_time": "2022-12-14T23:05:30.571123",
     "status": "completed"
    },
    "tags": []
   },
   "source": [
    "# Split Data"
   ]
  },
  {
   "cell_type": "code",
   "execution_count": 14,
   "id": "6a1be061",
   "metadata": {
    "execution": {
     "iopub.execute_input": "2022-12-14T23:05:30.620340Z",
     "iopub.status.busy": "2022-12-14T23:05:30.619836Z",
     "iopub.status.idle": "2022-12-14T23:05:30.685568Z",
     "shell.execute_reply": "2022-12-14T23:05:30.684033Z"
    },
    "papermill": {
     "duration": 0.08653,
     "end_time": "2022-12-14T23:05:30.689097",
     "exception": false,
     "start_time": "2022-12-14T23:05:30.602567",
     "status": "completed"
    },
    "tags": []
   },
   "outputs": [
    {
     "name": "stdout",
     "output_type": "stream",
     "text": [
      "(2813, 1776)\n",
      "(2813,)\n",
      "(938, 1776)\n",
      "(938,)\n"
     ]
    }
   ],
   "source": [
    "X_train,X_test,y_train,y_test=train_test_split(X,y,test_size=.25,shuffle=True,random_state=33)\n",
    "print(X_train.shape)\n",
    "print(y_train.shape)\n",
    "print(X_test.shape)\n",
    "print(y_test.shape)"
   ]
  },
  {
   "cell_type": "markdown",
   "id": "d64cfede",
   "metadata": {
    "papermill": {
     "duration": 0.01525,
     "end_time": "2022-12-14T23:05:30.720712",
     "exception": false,
     "start_time": "2022-12-14T23:05:30.705462",
     "status": "completed"
    },
    "tags": []
   },
   "source": [
    "# Applying RandomForestClassifier Model"
   ]
  },
  {
   "cell_type": "code",
   "execution_count": 15,
   "id": "08c099af",
   "metadata": {
    "execution": {
     "iopub.execute_input": "2022-12-14T23:05:30.754593Z",
     "iopub.status.busy": "2022-12-14T23:05:30.754113Z",
     "iopub.status.idle": "2022-12-14T23:05:32.680536Z",
     "shell.execute_reply": "2022-12-14T23:05:32.678947Z"
    },
    "papermill": {
     "duration": 1.94734,
     "end_time": "2022-12-14T23:05:32.683627",
     "exception": false,
     "start_time": "2022-12-14T23:05:30.736287",
     "status": "completed"
    },
    "tags": []
   },
   "outputs": [
    {
     "data": {
      "text/plain": [
       "RandomForestClassifier(max_depth=20, random_state=33)"
      ]
     },
     "execution_count": 15,
     "metadata": {},
     "output_type": "execute_result"
    }
   ],
   "source": [
    "RandomForestClassifierModel = RandomForestClassifier(criterion = 'gini',n_estimators=100,max_depth=20,random_state=33) #criterion can be also : entropy \n",
    "RandomForestClassifierModel.fit(X_train, y_train)"
   ]
  },
  {
   "cell_type": "markdown",
   "id": "9208b4ef",
   "metadata": {
    "papermill": {
     "duration": 0.015639,
     "end_time": "2022-12-14T23:05:32.715156",
     "exception": false,
     "start_time": "2022-12-14T23:05:32.699517",
     "status": "completed"
    },
    "tags": []
   },
   "source": [
    "# Calculating Details"
   ]
  },
  {
   "cell_type": "code",
   "execution_count": 16,
   "id": "ec7940a2",
   "metadata": {
    "execution": {
     "iopub.execute_input": "2022-12-14T23:05:32.756048Z",
     "iopub.status.busy": "2022-12-14T23:05:32.755039Z",
     "iopub.status.idle": "2022-12-14T23:05:33.010137Z",
     "shell.execute_reply": "2022-12-14T23:05:33.008744Z"
    },
    "papermill": {
     "duration": 0.281854,
     "end_time": "2022-12-14T23:05:33.013283",
     "exception": false,
     "start_time": "2022-12-14T23:05:32.731429",
     "status": "completed"
    },
    "tags": []
   },
   "outputs": [
    {
     "name": "stdout",
     "output_type": "stream",
     "text": [
      "RandomForestClassifierModel Train Score is :  0.9996445076430857\n",
      "RandomForestClassifierModel Test Score is :  0.7974413646055437\n",
      "RandomForestClassifierModel features importances are :  [2.15894898e-03 6.02499898e-03 2.79765443e-03 ... 2.77379375e-05\n",
      " 0.00000000e+00 1.27233025e-05]\n"
     ]
    }
   ],
   "source": [
    "print('RandomForestClassifierModel Train Score is : ' , RandomForestClassifierModel.score(X_train, y_train))\n",
    "print('RandomForestClassifierModel Test Score is : ' , RandomForestClassifierModel.score(X_test, y_test))\n",
    "print('RandomForestClassifierModel features importances are : ' , RandomForestClassifierModel.feature_importances_)"
   ]
  },
  {
   "cell_type": "markdown",
   "id": "33be67e3",
   "metadata": {
    "papermill": {
     "duration": 0.015669,
     "end_time": "2022-12-14T23:05:33.044946",
     "exception": false,
     "start_time": "2022-12-14T23:05:33.029277",
     "status": "completed"
    },
    "tags": []
   },
   "source": [
    "# Applying KNeighborsClassifier Model"
   ]
  },
  {
   "cell_type": "code",
   "execution_count": 17,
   "id": "d8b4ac7d",
   "metadata": {
    "execution": {
     "iopub.execute_input": "2022-12-14T23:05:33.082974Z",
     "iopub.status.busy": "2022-12-14T23:05:33.082148Z",
     "iopub.status.idle": "2022-12-14T23:05:33.132038Z",
     "shell.execute_reply": "2022-12-14T23:05:33.130704Z"
    },
    "papermill": {
     "duration": 0.071932,
     "end_time": "2022-12-14T23:05:33.134674",
     "exception": false,
     "start_time": "2022-12-14T23:05:33.062742",
     "status": "completed"
    },
    "tags": []
   },
   "outputs": [
    {
     "data": {
      "text/plain": [
       "KNeighborsClassifier(n_neighbors=3)"
      ]
     },
     "execution_count": 17,
     "metadata": {},
     "output_type": "execute_result"
    }
   ],
   "source": [
    "KNNClassifierModel = KNeighborsClassifier(n_neighbors= 3,weights ='uniform', # it can be distance\n",
    "                                          algorithm='auto') # it can be ball_tree, kd_tree,brute\n",
    "KNNClassifierModel.fit(X_train, y_train)"
   ]
  },
  {
   "cell_type": "markdown",
   "id": "1d52dcf9",
   "metadata": {
    "papermill": {
     "duration": 0.015902,
     "end_time": "2022-12-14T23:05:33.166292",
     "exception": false,
     "start_time": "2022-12-14T23:05:33.150390",
     "status": "completed"
    },
    "tags": []
   },
   "source": [
    "# Calculating Details"
   ]
  },
  {
   "cell_type": "code",
   "execution_count": 18,
   "id": "920c3199",
   "metadata": {
    "execution": {
     "iopub.execute_input": "2022-12-14T23:05:33.201033Z",
     "iopub.status.busy": "2022-12-14T23:05:33.200235Z",
     "iopub.status.idle": "2022-12-14T23:05:34.336481Z",
     "shell.execute_reply": "2022-12-14T23:05:34.334733Z"
    },
    "papermill": {
     "duration": 1.157579,
     "end_time": "2022-12-14T23:05:34.339526",
     "exception": false,
     "start_time": "2022-12-14T23:05:33.181947",
     "status": "completed"
    },
    "tags": []
   },
   "outputs": [
    {
     "name": "stdout",
     "output_type": "stream",
     "text": [
      "KNNClassifierModel Train Score is :  0.8663348738002133\n",
      "KNNClassifierModel Test Score is :  0.7356076759061834\n"
     ]
    }
   ],
   "source": [
    "print('KNNClassifierModel Train Score is : ' , KNNClassifierModel.score(X_train, y_train))\n",
    "print('KNNClassifierModel Test Score is : ' , KNNClassifierModel.score(X_test, y_test))"
   ]
  },
  {
   "cell_type": "markdown",
   "id": "f728d64d",
   "metadata": {
    "papermill": {
     "duration": 0.017943,
     "end_time": "2022-12-14T23:05:34.374024",
     "exception": false,
     "start_time": "2022-12-14T23:05:34.356081",
     "status": "completed"
    },
    "tags": []
   },
   "source": [
    "# Applying DecisionTreeClassifier Model"
   ]
  },
  {
   "cell_type": "code",
   "execution_count": 19,
   "id": "c5152f5a",
   "metadata": {
    "execution": {
     "iopub.execute_input": "2022-12-14T23:05:34.410241Z",
     "iopub.status.busy": "2022-12-14T23:05:34.409021Z",
     "iopub.status.idle": "2022-12-14T23:05:35.492602Z",
     "shell.execute_reply": "2022-12-14T23:05:35.491406Z"
    },
    "papermill": {
     "duration": 1.105182,
     "end_time": "2022-12-14T23:05:35.496021",
     "exception": false,
     "start_time": "2022-12-14T23:05:34.390839",
     "status": "completed"
    },
    "tags": []
   },
   "outputs": [
    {
     "data": {
      "text/plain": [
       "DecisionTreeClassifier(max_depth=20, random_state=33)"
      ]
     },
     "execution_count": 19,
     "metadata": {},
     "output_type": "execute_result"
    }
   ],
   "source": [
    "DecisionTreeClassifierModel = DecisionTreeClassifier(criterion='gini',max_depth=20,random_state=33) #criterion can be entropy\n",
    "DecisionTreeClassifierModel.fit(X_train, y_train)"
   ]
  },
  {
   "cell_type": "markdown",
   "id": "bc360ee8",
   "metadata": {
    "papermill": {
     "duration": 0.018435,
     "end_time": "2022-12-14T23:05:35.531980",
     "exception": false,
     "start_time": "2022-12-14T23:05:35.513545",
     "status": "completed"
    },
    "tags": []
   },
   "source": [
    "# Calculating Details"
   ]
  },
  {
   "cell_type": "code",
   "execution_count": 20,
   "id": "15e806e4",
   "metadata": {
    "execution": {
     "iopub.execute_input": "2022-12-14T23:05:35.566800Z",
     "iopub.status.busy": "2022-12-14T23:05:35.565907Z",
     "iopub.status.idle": "2022-12-14T23:05:35.653115Z",
     "shell.execute_reply": "2022-12-14T23:05:35.651106Z"
    },
    "papermill": {
     "duration": 0.107995,
     "end_time": "2022-12-14T23:05:35.656097",
     "exception": false,
     "start_time": "2022-12-14T23:05:35.548102",
     "status": "completed"
    },
    "tags": []
   },
   "outputs": [
    {
     "name": "stdout",
     "output_type": "stream",
     "text": [
      "DecisionTreeClassifierModel Train Score is :  0.9868467827941699\n",
      "DecisionTreeClassifierModel Test Score is :  0.746268656716418\n",
      "DecisionTreeClassifierModel Classes are :  [0 1]\n",
      "DecisionTreeClassifierModel feature importances are :  [0.0023399 0.        0.        ... 0.        0.        0.       ]\n"
     ]
    }
   ],
   "source": [
    "print('DecisionTreeClassifierModel Train Score is : ' , DecisionTreeClassifierModel.score(X_train, y_train))\n",
    "print('DecisionTreeClassifierModel Test Score is : ' , DecisionTreeClassifierModel.score(X_test, y_test))\n",
    "print('DecisionTreeClassifierModel Classes are : ' , DecisionTreeClassifierModel.classes_)\n",
    "print('DecisionTreeClassifierModel feature importances are : ' , DecisionTreeClassifierModel.feature_importances_)"
   ]
  },
  {
   "cell_type": "markdown",
   "id": "89709739",
   "metadata": {
    "papermill": {
     "duration": 0.017639,
     "end_time": "2022-12-14T23:05:35.690080",
     "exception": false,
     "start_time": "2022-12-14T23:05:35.672441",
     "status": "completed"
    },
    "tags": []
   },
   "source": [
    "# Calculating Prediction"
   ]
  },
  {
   "cell_type": "code",
   "execution_count": 21,
   "id": "60d5c006",
   "metadata": {
    "execution": {
     "iopub.execute_input": "2022-12-14T23:05:35.726555Z",
     "iopub.status.busy": "2022-12-14T23:05:35.726053Z",
     "iopub.status.idle": "2022-12-14T23:05:35.873339Z",
     "shell.execute_reply": "2022-12-14T23:05:35.871103Z"
    },
    "papermill": {
     "duration": 0.168668,
     "end_time": "2022-12-14T23:05:35.876505",
     "exception": false,
     "start_time": "2022-12-14T23:05:35.707837",
     "status": "completed"
    },
    "tags": []
   },
   "outputs": [
    {
     "name": "stdout",
     "output_type": "stream",
     "text": [
      "Predicted Value for RandomForestClassifierModel is :  [1 0 0 1 1 1 1 1 0 0]\n",
      "Prediction Probabilities Value for RandomForestClassifierModel is :  [[0.25166911 0.74833089]\n",
      " [0.845432   0.154568  ]\n",
      " [0.6227425  0.3772575 ]\n",
      " [0.24386897 0.75613103]\n",
      " [0.25       0.75      ]\n",
      " [0.23550421 0.76449579]\n",
      " [0.20079452 0.79920548]\n",
      " [0.35       0.65      ]\n",
      " [0.60413259 0.39586741]\n",
      " [0.66719742 0.33280258]]\n"
     ]
    }
   ],
   "source": [
    "y_pred = RandomForestClassifierModel.predict(X_test)\n",
    "y_pred_prob = RandomForestClassifierModel.predict_proba(X_test)\n",
    "print('Predicted Value for RandomForestClassifierModel is : ' , y_pred[:10])\n",
    "print('Prediction Probabilities Value for RandomForestClassifierModel is : ' , y_pred_prob[:10])"
   ]
  },
  {
   "cell_type": "markdown",
   "id": "63513f61",
   "metadata": {
    "papermill": {
     "duration": 0.015846,
     "end_time": "2022-12-14T23:05:35.909366",
     "exception": false,
     "start_time": "2022-12-14T23:05:35.893520",
     "status": "completed"
    },
    "tags": []
   },
   "source": [
    "# Calculating Confusion Matrix"
   ]
  },
  {
   "cell_type": "code",
   "execution_count": 22,
   "id": "186e9d47",
   "metadata": {
    "execution": {
     "iopub.execute_input": "2022-12-14T23:05:35.944859Z",
     "iopub.status.busy": "2022-12-14T23:05:35.944372Z",
     "iopub.status.idle": "2022-12-14T23:05:35.955767Z",
     "shell.execute_reply": "2022-12-14T23:05:35.954461Z"
    },
    "papermill": {
     "duration": 0.032519,
     "end_time": "2022-12-14T23:05:35.958275",
     "exception": false,
     "start_time": "2022-12-14T23:05:35.925756",
     "status": "completed"
    },
    "tags": []
   },
   "outputs": [
    {
     "data": {
      "text/plain": [
       "array([[340, 111],\n",
       "       [ 79, 408]])"
      ]
     },
     "execution_count": 22,
     "metadata": {},
     "output_type": "execute_result"
    }
   ],
   "source": [
    "CM = confusion_matrix(y_test, y_pred)\n",
    "CM"
   ]
  },
  {
   "cell_type": "markdown",
   "id": "753b3696",
   "metadata": {
    "papermill": {
     "duration": 0.015981,
     "end_time": "2022-12-14T23:05:35.990635",
     "exception": false,
     "start_time": "2022-12-14T23:05:35.974654",
     "status": "completed"
    },
    "tags": []
   },
   "source": [
    "# drawing confusion matrix"
   ]
  },
  {
   "cell_type": "code",
   "execution_count": 23,
   "id": "a785088e",
   "metadata": {
    "execution": {
     "iopub.execute_input": "2022-12-14T23:05:36.026863Z",
     "iopub.status.busy": "2022-12-14T23:05:36.025864Z",
     "iopub.status.idle": "2022-12-14T23:05:36.288560Z",
     "shell.execute_reply": "2022-12-14T23:05:36.287470Z"
    },
    "papermill": {
     "duration": 0.284327,
     "end_time": "2022-12-14T23:05:36.291318",
     "exception": false,
     "start_time": "2022-12-14T23:05:36.006991",
     "status": "completed"
    },
    "tags": []
   },
   "outputs": [
    {
     "data": {
      "text/plain": [
       "<AxesSubplot:>"
      ]
     },
     "execution_count": 23,
     "metadata": {},
     "output_type": "execute_result"
    },
    {
     "data": {
      "image/png": "[encoded data removed]",
      "text/plain": [
       "<Figure size 432x288 with 2 Axes>"
      ]
     },
     "metadata": {
      "needs_background": "light"
     },
     "output_type": "display_data"
    }
   ],
   "source": [
    "sns.heatmap(CM, center = True)"
   ]
  },
  {
   "cell_type": "markdown",
   "id": "a9d61928",
   "metadata": {
    "papermill": {
     "duration": 0.017364,
     "end_time": "2022-12-14T23:05:36.325703",
     "exception": false,
     "start_time": "2022-12-14T23:05:36.308339",
     "status": "completed"
    },
    "tags": []
   },
   "source": [
    "# Calculating Confusion Matrix"
   ]
  },
  {
   "cell_type": "code",
   "execution_count": 24,
   "id": "13658744",
   "metadata": {
    "execution": {
     "iopub.execute_input": "2022-12-14T23:05:36.363005Z",
     "iopub.status.busy": "2022-12-14T23:05:36.361647Z",
     "iopub.status.idle": "2022-12-14T23:05:36.517935Z",
     "shell.execute_reply": "2022-12-14T23:05:36.516651Z"
    },
    "papermill": {
     "duration": 0.177643,
     "end_time": "2022-12-14T23:05:36.520988",
     "exception": false,
     "start_time": "2022-12-14T23:05:36.343345",
     "status": "completed"
    },
    "tags": []
   },
   "outputs": [
    {
     "data": {
      "text/plain": [
       "array([[1266,    0],\n",
       "       [   1, 1546]])"
      ]
     },
     "execution_count": 24,
     "metadata": {},
     "output_type": "execute_result"
    }
   ],
   "source": [
    "CM = confusion_matrix(y_train,RandomForestClassifierModel.predict(X_train))\n",
    "CM"
   ]
  },
  {
   "cell_type": "markdown",
   "id": "0c2e012b",
   "metadata": {
    "papermill": {
     "duration": 0.016417,
     "end_time": "2022-12-14T23:05:36.554492",
     "exception": false,
     "start_time": "2022-12-14T23:05:36.538075",
     "status": "completed"
    },
    "tags": []
   },
   "source": [
    "# drawing confusion matrix"
   ]
  },
  {
   "cell_type": "code",
   "execution_count": 25,
   "id": "367d0fba",
   "metadata": {
    "execution": {
     "iopub.execute_input": "2022-12-14T23:05:36.590131Z",
     "iopub.status.busy": "2022-12-14T23:05:36.589371Z",
     "iopub.status.idle": "2022-12-14T23:05:36.838516Z",
     "shell.execute_reply": "2022-12-14T23:05:36.837483Z"
    },
    "papermill": {
     "duration": 0.270051,
     "end_time": "2022-12-14T23:05:36.841246",
     "exception": false,
     "start_time": "2022-12-14T23:05:36.571195",
     "status": "completed"
    },
    "tags": []
   },
   "outputs": [
    {
     "data": {
      "text/plain": [
       "<AxesSubplot:>"
      ]
     },
     "execution_count": 25,
     "metadata": {},
     "output_type": "execute_result"
    },
    {
     "data": {
      "image/png": "[encoded data removed]",
      "text/plain": [
       "<Figure size 432x288 with 2 Axes>"
      ]
     },
     "metadata": {
      "needs_background": "light"
     },
     "output_type": "display_data"
    }
   ],
   "source": [
    "sns.heatmap(CM, center = True)"
   ]
  },
  {
   "cell_type": "markdown",
   "id": "e157f0e4",
   "metadata": {
    "papermill": {
     "duration": 0.017562,
     "end_time": "2022-12-14T23:05:36.876655",
     "exception": false,
     "start_time": "2022-12-14T23:05:36.859093",
     "status": "completed"
    },
    "tags": []
   },
   "source": [
    "# Calculating Accuracy Score : ((TP + TN) / float(TP + TN + FP + FN))"
   ]
  },
  {
   "cell_type": "code",
   "execution_count": 26,
   "id": "60e0a803",
   "metadata": {
    "execution": {
     "iopub.execute_input": "2022-12-14T23:05:36.916437Z",
     "iopub.status.busy": "2022-12-14T23:05:36.915468Z",
     "iopub.status.idle": "2022-12-14T23:05:36.923721Z",
     "shell.execute_reply": "2022-12-14T23:05:36.922340Z"
    },
    "papermill": {
     "duration": 0.030923,
     "end_time": "2022-12-14T23:05:36.926749",
     "exception": false,
     "start_time": "2022-12-14T23:05:36.895826",
     "status": "completed"
    },
    "tags": []
   },
   "outputs": [
    {
     "name": "stdout",
     "output_type": "stream",
     "text": [
      "Accuracy Score is :  748\n"
     ]
    }
   ],
   "source": [
    "AccScore = accuracy_score(y_test, y_pred, normalize=False)\n",
    "print('Accuracy Score is : ', AccScore)"
   ]
  },
  {
   "cell_type": "markdown",
   "id": "6b96a612",
   "metadata": {
    "papermill": {
     "duration": 0.017679,
     "end_time": "2022-12-14T23:05:36.962606",
     "exception": false,
     "start_time": "2022-12-14T23:05:36.944927",
     "status": "completed"
    },
    "tags": []
   },
   "source": [
    "# Calculating F1 Score : 2 (precision recall) / (precision + recall)"
   ]
  },
  {
   "cell_type": "code",
   "execution_count": 27,
   "id": "f0b90bbf",
   "metadata": {
    "execution": {
     "iopub.execute_input": "2022-12-14T23:05:36.999309Z",
     "iopub.status.busy": "2022-12-14T23:05:36.998844Z",
     "iopub.status.idle": "2022-12-14T23:05:37.008483Z",
     "shell.execute_reply": "2022-12-14T23:05:37.007135Z"
    },
    "papermill": {
     "duration": 0.031276,
     "end_time": "2022-12-14T23:05:37.011346",
     "exception": false,
     "start_time": "2022-12-14T23:05:36.980070",
     "status": "completed"
    },
    "tags": []
   },
   "outputs": [
    {
     "name": "stdout",
     "output_type": "stream",
     "text": [
      "F1 Score is :  0.7974413646055436\n"
     ]
    }
   ],
   "source": [
    "F1Score = f1_score(y_test, y_pred, average='micro') #it can be : binary,macro,weighted,samples\n",
    "print('F1 Score is : ', F1Score)"
   ]
  },
  {
   "cell_type": "markdown",
   "id": "679fc426",
   "metadata": {
    "papermill": {
     "duration": 0.017767,
     "end_time": "2022-12-14T23:05:37.047223",
     "exception": false,
     "start_time": "2022-12-14T23:05:37.029456",
     "status": "completed"
    },
    "tags": []
   },
   "source": [
    "# Calculating Recall Score : (Sensitivity) (TP / float(TP + FN)) 1 / 1+2"
   ]
  },
  {
   "cell_type": "code",
   "execution_count": 28,
   "id": "c12c5718",
   "metadata": {
    "execution": {
     "iopub.execute_input": "2022-12-14T23:05:37.084305Z",
     "iopub.status.busy": "2022-12-14T23:05:37.083785Z",
     "iopub.status.idle": "2022-12-14T23:05:37.093422Z",
     "shell.execute_reply": "2022-12-14T23:05:37.091776Z"
    },
    "papermill": {
     "duration": 0.033084,
     "end_time": "2022-12-14T23:05:37.097827",
     "exception": false,
     "start_time": "2022-12-14T23:05:37.064743",
     "status": "completed"
    },
    "tags": []
   },
   "outputs": [
    {
     "name": "stdout",
     "output_type": "stream",
     "text": [
      "Recall Score is :  0.7974413646055437\n"
     ]
    }
   ],
   "source": [
    "RecallScore = recall_score(y_test, y_pred, average='micro') #it can be : binary,macro,weighted,samples\n",
    "print('Recall Score is : ', RecallScore)"
   ]
  },
  {
   "cell_type": "markdown",
   "id": "90c8083a",
   "metadata": {
    "papermill": {
     "duration": 0.017121,
     "end_time": "2022-12-14T23:05:37.132770",
     "exception": false,
     "start_time": "2022-12-14T23:05:37.115649",
     "status": "completed"
    },
    "tags": []
   },
   "source": [
    "# Calculating Precision Score : (Specificity) #(TP / float(TP + FP))"
   ]
  },
  {
   "cell_type": "code",
   "execution_count": 29,
   "id": "d682ec6a",
   "metadata": {
    "execution": {
     "iopub.execute_input": "2022-12-14T23:05:37.171078Z",
     "iopub.status.busy": "2022-12-14T23:05:37.169746Z",
     "iopub.status.idle": "2022-12-14T23:05:37.178840Z",
     "shell.execute_reply": "2022-12-14T23:05:37.177695Z"
    },
    "papermill": {
     "duration": 0.030452,
     "end_time": "2022-12-14T23:05:37.181369",
     "exception": false,
     "start_time": "2022-12-14T23:05:37.150917",
     "status": "completed"
    },
    "tags": []
   },
   "outputs": [
    {
     "name": "stdout",
     "output_type": "stream",
     "text": [
      "Precision Score is :  0.7974413646055437\n"
     ]
    }
   ],
   "source": [
    "PrecisionScore = precision_score(y_test, y_pred, average='micro') #it can be : binary,macro,weighted,samples\n",
    "print('Precision Score is : ', PrecisionScore)"
   ]
  },
  {
   "cell_type": "markdown",
   "id": "99de173f",
   "metadata": {
    "papermill": {
     "duration": 0.016998,
     "end_time": "2022-12-14T23:05:37.215846",
     "exception": false,
     "start_time": "2022-12-14T23:05:37.198848",
     "status": "completed"
    },
    "tags": []
   },
   "source": [
    "# Calculating classification Report"
   ]
  },
  {
   "cell_type": "code",
   "execution_count": 30,
   "id": "403131a3",
   "metadata": {
    "execution": {
     "iopub.execute_input": "2022-12-14T23:05:37.253227Z",
     "iopub.status.busy": "2022-12-14T23:05:37.252374Z",
     "iopub.status.idle": "2022-12-14T23:05:37.265326Z",
     "shell.execute_reply": "2022-12-14T23:05:37.263725Z"
    },
    "papermill": {
     "duration": 0.035115,
     "end_time": "2022-12-14T23:05:37.268312",
     "exception": false,
     "start_time": "2022-12-14T23:05:37.233197",
     "status": "completed"
    },
    "tags": []
   },
   "outputs": [
    {
     "name": "stdout",
     "output_type": "stream",
     "text": [
      "Classification Report is :                precision    recall  f1-score   support\n",
      "\n",
      "           0       0.81      0.75      0.78       451\n",
      "           1       0.79      0.84      0.81       487\n",
      "\n",
      "    accuracy                           0.80       938\n",
      "   macro avg       0.80      0.80      0.80       938\n",
      "weighted avg       0.80      0.80      0.80       938\n",
      "\n"
     ]
    }
   ],
   "source": [
    "ClassificationReport = classification_report(y_test,y_pred)\n",
    "print('Classification Report is : ', ClassificationReport )"
   ]
  },
  {
   "cell_type": "markdown",
   "id": "83d940dc",
   "metadata": {
    "papermill": {
     "duration": 0.017357,
     "end_time": "2022-12-14T23:05:37.303397",
     "exception": false,
     "start_time": "2022-12-14T23:05:37.286040",
     "status": "completed"
    },
    "tags": []
   },
   "source": [
    "# y_test predict"
   ]
  },
  {
   "cell_type": "code",
   "execution_count": 31,
   "id": "879f6d33",
   "metadata": {
    "execution": {
     "iopub.execute_input": "2022-12-14T23:05:37.341641Z",
     "iopub.status.busy": "2022-12-14T23:05:37.341196Z",
     "iopub.status.idle": "2022-12-14T23:05:37.632906Z",
     "shell.execute_reply": "2022-12-14T23:05:37.631541Z"
    },
    "papermill": {
     "duration": 0.313949,
     "end_time": "2022-12-14T23:05:37.636076",
     "exception": false,
     "start_time": "2022-12-14T23:05:37.322127",
     "status": "completed"
    },
    "tags": []
   },
   "outputs": [],
   "source": [
    "y_test=RandomForestClassifierModel.predict(test_data)\n",
    "y_prob=RandomForestClassifierModel.predict_proba(test_data)"
   ]
  },
  {
   "cell_type": "markdown",
   "id": "5b666965",
   "metadata": {
    "papermill": {
     "duration": 0.018953,
     "end_time": "2022-12-14T23:05:37.673432",
     "exception": false,
     "start_time": "2022-12-14T23:05:37.654479",
     "status": "completed"
    },
    "tags": []
   },
   "source": [
    "# y_prob"
   ]
  },
  {
   "cell_type": "code",
   "execution_count": 32,
   "id": "8289e9a0",
   "metadata": {
    "execution": {
     "iopub.execute_input": "2022-12-14T23:05:37.713187Z",
     "iopub.status.busy": "2022-12-14T23:05:37.712475Z",
     "iopub.status.idle": "2022-12-14T23:05:37.745347Z",
     "shell.execute_reply": "2022-12-14T23:05:37.743961Z"
    },
    "papermill": {
     "duration": 0.056314,
     "end_time": "2022-12-14T23:05:37.748646",
     "exception": false,
     "start_time": "2022-12-14T23:05:37.692332",
     "status": "completed"
    },
    "tags": []
   },
   "outputs": [
    {
     "data": {
      "text/plain": [
       "[0.87,\n",
       " 0.8491574025289778,\n",
       " 0.6005487873660462,\n",
       " 0.8895663082437276,\n",
       " 0.842433874495155,\n",
       " 0.6291666666666668,\n",
       " 0.8919250719879218,\n",
       " 0.6576276359600445,\n",
       " 0.8488960820380705,\n",
       " 0.5670433436532507,\n",
       " 0.57,\n",
       " 0.7445085470085471,\n",
       " 0.6665324384787472,\n",
       " 0.609767441860465,\n",
       " 0.67,\n",
       " 0.8572042370749757,\n",
       " 0.7580118953510258,\n",
       " 0.7,\n",
       " 0.5286067222120109,\n",
       " 0.8,\n",
       " 0.7419344167304652,\n",
       " 0.92,\n",
       " 0.8384932461873638,\n",
       " 0.91888310073531,\n",
       " 0.79,\n",
       " 0.6014314683840299,\n",
       " 0.8430811335403727,\n",
       " 0.6165851507286435,\n",
       " 0.7526538036529334,\n",
       " 0.5213274336625385,\n",
       " 0.5847497695852535,\n",
       " 0.8117638933349076,\n",
       " 0.5558406662503512,\n",
       " 0.5496178793006204,\n",
       " 0.5154192546583851,\n",
       " 0.967388888888889,\n",
       " 0.8876543209876543,\n",
       " 0.74,\n",
       " 0.8996776212832551,\n",
       " 0.8891574025289778,\n",
       " 0.5625503663003663,\n",
       " 0.8884882614980972,\n",
       " 0.6595121951219513,\n",
       " 0.8775138033394702,\n",
       " 0.9226810777628063,\n",
       " 0.638980459770115,\n",
       " 0.8291574025289777,\n",
       " 0.5485649122807018,\n",
       " 0.9497539032749428,\n",
       " 0.5693548387096774,\n",
       " 0.8392054794520547,\n",
       " 0.926692744875666,\n",
       " 0.9449519230769231,\n",
       " 0.8396676360310174,\n",
       " 0.8304485301438828,\n",
       " 0.8257436508340235,\n",
       " 0.9890838731172131,\n",
       " 0.9103827636013481,\n",
       " 0.9397887323943662,\n",
       " 0.726,\n",
       " 0.6263000000000001,\n",
       " 0.73,\n",
       " 0.6560097376905847,\n",
       " 0.9361811442327513,\n",
       " 0.5712347021798024,\n",
       " 0.5699920342573574,\n",
       " 0.52,\n",
       " 0.7559263498518598,\n",
       " 0.5424420233311346,\n",
       " 0.5200928571428571,\n",
       " 0.866522500992609,\n",
       " 0.7211160714285714,\n",
       " 0.84,\n",
       " 0.8997887323943662,\n",
       " 0.7154934210526315,\n",
       " 0.6668071271412856,\n",
       " 0.8082852564102564,\n",
       " 0.5068664936189446,\n",
       " 0.9376283152053391,\n",
       " 0.5978961699427121,\n",
       " 0.8216666666666665,\n",
       " 0.7521282749018374,\n",
       " 0.7074716013848044,\n",
       " 0.8472918172137774,\n",
       " 0.5962750368610817,\n",
       " 0.5652134387351778,\n",
       " 0.52,\n",
       " 0.85,\n",
       " 0.8627777777777778,\n",
       " 0.6709761455525606,\n",
       " 0.5866757055744428,\n",
       " 0.541452140902026,\n",
       " 0.6442424242424242,\n",
       " 0.7887981899107441,\n",
       " 0.6391666666666667,\n",
       " 0.712976380707691,\n",
       " 0.6497813359634915,\n",
       " 0.75,\n",
       " 0.8689461349233442,\n",
       " 0.8966160714285715,\n",
       " 0.661297421707755,\n",
       " 0.8932161060959372,\n",
       " 0.6871782358623112,\n",
       " 0.5731393646611038,\n",
       " 0.8158719175561282,\n",
       " 0.7153456218924782,\n",
       " 0.7026355836236934,\n",
       " 0.5505073483427142,\n",
       " 0.89,\n",
       " 0.9,\n",
       " 0.520147199638663,\n",
       " 0.7837984133998274,\n",
       " 0.7965186491577527,\n",
       " 0.8040632552043833,\n",
       " 0.8391666666666667,\n",
       " 0.8302729139944804,\n",
       " 0.6925603064923045,\n",
       " 0.688659408076586,\n",
       " 0.5994281554712892,\n",
       " 0.6477153805496829,\n",
       " 0.6528130059363195,\n",
       " 0.9048237213811713,\n",
       " 0.9683588761174967,\n",
       " 0.5598214285714286,\n",
       " 0.7080197478096838,\n",
       " 0.658098671042919,\n",
       " 0.5015658914728683,\n",
       " 0.5313333333333333,\n",
       " 0.6857401015228427,\n",
       " 0.8109258268789493,\n",
       " 0.9635255148846208,\n",
       " 0.5384659090909091,\n",
       " 0.9019044233881925,\n",
       " 0.849951923076923,\n",
       " 0.61,\n",
       " 0.8998019801980197,\n",
       " 0.8825268080417292,\n",
       " 0.688192277315457,\n",
       " 0.7469689464152551,\n",
       " 0.899020771023948,\n",
       " 0.8829018566047593,\n",
       " 0.87,\n",
       " 0.624761387854876,\n",
       " 0.6122083185771062,\n",
       " 0.8421667223911933,\n",
       " 0.8676253680028809,\n",
       " 0.7444783243486074,\n",
       " 0.6849181764234282,\n",
       " 0.5697753798761501,\n",
       " 0.5918691716611817,\n",
       " 0.978030997942181,\n",
       " 0.5786160714285714,\n",
       " 0.5343983942897005,\n",
       " 0.9575878323932312,\n",
       " 0.9898019801980198,\n",
       " 0.635453106280564,\n",
       " 0.8071526326933935,\n",
       " 0.9280462914178667,\n",
       " 0.5111021505376344,\n",
       " 0.9973259074259074,\n",
       " 0.6303337458745876,\n",
       " 0.9458775641025642,\n",
       " 0.7683218805448743,\n",
       " 0.997526201921847,\n",
       " 0.9592195121951219,\n",
       " 0.51,\n",
       " 0.6543303593462769,\n",
       " 0.7292054794520547,\n",
       " 0.5223613816776974,\n",
       " 0.9476470588235294,\n",
       " 0.9291498655913978,\n",
       " 0.8674907358623112,\n",
       " 0.7382772424714905,\n",
       " 0.5893503118503118,\n",
       " 0.8047746732533585,\n",
       " 0.6934170995670995,\n",
       " 0.7052345513741087,\n",
       " 0.6858495726495727,\n",
       " 0.53,\n",
       " 0.798974358974359,\n",
       " 0.6617789836347976,\n",
       " 0.7018606518658479,\n",
       " 0.55,\n",
       " 0.7302163676619199,\n",
       " 0.9088350238122331,\n",
       " 0.656571324196997,\n",
       " 0.9798019801980198,\n",
       " 0.6228570154134253,\n",
       " 0.9890838731172131,\n",
       " 0.54,\n",
       " 0.7188540172166428,\n",
       " 0.6393693988050784,\n",
       " 0.8020145584863454,\n",
       " 0.714776688453159,\n",
       " 0.9585503120642858,\n",
       " 0.6844727272727273,\n",
       " 0.9298153594771243,\n",
       " 0.7832343785140204,\n",
       " 0.6254696945399659,\n",
       " 0.7782433459099067,\n",
       " 0.9192548438420839,\n",
       " 0.68756284257314,\n",
       " 0.6898179424562798,\n",
       " 0.8178897608394533,\n",
       " 0.859375,\n",
       " 0.7294117647058823,\n",
       " 0.5111530788575283,\n",
       " 0.9776470588235294,\n",
       " 0.5286826890504399,\n",
       " 0.6436478103079124,\n",
       " 0.8656043956043956,\n",
       " 0.8299519230769231,\n",
       " 0.9528577885455017,\n",
       " 0.9676902173913043,\n",
       " 0.514772898912556,\n",
       " 0.7792054794520547,\n",
       " 0.6727141352180684,\n",
       " 0.5861743800448757,\n",
       " 0.56,\n",
       " 0.6324499448917824,\n",
       " 0.7406623376623375,\n",
       " 0.61391278602195,\n",
       " 0.7081286663067968,\n",
       " 0.9808861788617885,\n",
       " 0.5795081967213115,\n",
       " 0.5566666666666668,\n",
       " 0.6928326254124141,\n",
       " 0.9589942118464211,\n",
       " 0.7200938524702135,\n",
       " 0.6282142857142857,\n",
       " 0.6151428571428572,\n",
       " 0.9874907358623112,\n",
       " 0.877717412546414,\n",
       " 0.6761961242262987,\n",
       " 0.8255495654735602,\n",
       " 0.7748,\n",
       " 0.5049680620830295,\n",
       " 0.8290117818584924,\n",
       " 0.8268673993809463,\n",
       " 0.8185312488834581,\n",
       " 0.6300378649298377,\n",
       " 0.9776832396565913,\n",
       " 0.5833578009235881,\n",
       " 0.52,\n",
       " 0.64,\n",
       " 0.8687077297424147,\n",
       " 0.7018404525315095,\n",
       " 0.6444262188557931,\n",
       " 0.9162467641233674,\n",
       " 0.7538644288538973,\n",
       " 0.5292054794520549,\n",
       " 0.512244560994561,\n",
       " 0.52,\n",
       " 0.66,\n",
       " 0.9398148148148148,\n",
       " 0.590480808080808,\n",
       " 0.783058977977364,\n",
       " 0.61,\n",
       " 0.5985210727969349,\n",
       " 0.9198360589335236,\n",
       " 0.5913818338355575,\n",
       " 0.6320532379265515,\n",
       " 0.6431401995602909,\n",
       " 0.5249680620830294,\n",
       " 0.7824091650965582,\n",
       " 0.7235662753257511,\n",
       " 0.5296231569037331,\n",
       " 0.679462491818802,\n",
       " 0.5890039880666944,\n",
       " 0.819067308565719,\n",
       " 0.9772887323943662,\n",
       " 0.8761899343618227,\n",
       " 0.7095121951219512,\n",
       " 0.6313995882193304,\n",
       " 0.7764027516331738,\n",
       " 0.898659011779253,\n",
       " 0.7975942781533534,\n",
       " 0.5299354838709678,\n",
       " 0.72,\n",
       " 0.5706,\n",
       " 0.8352301311428719,\n",
       " 0.8249845679012345,\n",
       " 0.667318791101085,\n",
       " 0.9945147414880933,\n",
       " 0.7194117647058823,\n",
       " 0.9879657427664814,\n",
       " 0.837912587295192,\n",
       " 0.5543338870431893,\n",
       " 0.8622610350076103,\n",
       " 0.7494436813186813,\n",
       " 0.669100445578469,\n",
       " 0.6338031411476591,\n",
       " 0.5727804878048781,\n",
       " 0.6981671222029832,\n",
       " 0.9440592880545192,\n",
       " 0.6545195099051184,\n",
       " 0.9876832396565913,\n",
       " 0.6384406328320802,\n",
       " 0.8586456503922257,\n",
       " 0.7192054794520547,\n",
       " 0.8885714285714286,\n",
       " 0.7271069036514368,\n",
       " 0.6109658318587455,\n",
       " 0.768994211846421,\n",
       " 0.9283333333333332,\n",
       " 0.8489226979530266,\n",
       " 0.6377777777777778,\n",
       " 0.8491916007101566,\n",
       " 0.6881395348837209,\n",
       " 0.8933333333333334,\n",
       " 0.9036354333371102,\n",
       " 0.5579709101382488,\n",
       " 0.5582229292328181,\n",
       " 0.7914734771042563,\n",
       " 0.6817077297424149,\n",
       " 0.5272352145206689,\n",
       " 0.9492225734691488,\n",
       " 0.6380934744960738,\n",
       " 0.5790611033648312,\n",
       " 0.901555804252067,\n",
       " 0.586524382587711,\n",
       " 0.691025641025641,\n",
       " 0.91,\n",
       " 0.7732424716712571,\n",
       " 0.9005763054602872,\n",
       " 0.8864450303250845,\n",
       " 0.9997539032749428,\n",
       " 0.8890462914178667,\n",
       " 0.546232057416268,\n",
       " 0.7537780100334447,\n",
       " 0.6435620627382878,\n",
       " 0.5646682429685216,\n",
       " 0.56,\n",
       " 0.561492414270463,\n",
       " 0.5079354838709678,\n",
       " 0.7030541735891179,\n",
       " 0.9478809553757854,\n",
       " 0.9356932985855221,\n",
       " 0.841613621940692,\n",
       " 0.94,\n",
       " 0.9063989319576139,\n",
       " 0.7681020982902059,\n",
       " 0.8663354806113426,\n",
       " 0.577109243697479,\n",
       " 0.7678405306422879,\n",
       " 0.8825293430884183,\n",
       " 0.7402395518830447,\n",
       " 0.6546873204178223,\n",
       " 0.7740767943944173,\n",
       " 0.58,\n",
       " 0.5256673590811277,\n",
       " 0.8181953867028494,\n",
       " 0.7749589627488749,\n",
       " 0.7335312029483809,\n",
       " 0.700748865695441,\n",
       " 0.5987,\n",
       " 0.6315870579683893,\n",
       " 0.6128356817240166,\n",
       " 0.7813531423441425,\n",
       " 0.8274217628481193,\n",
       " 0.5730906818934127,\n",
       " 0.6768525382755842,\n",
       " 0.8078920737964972,\n",
       " 0.5479519230769231,\n",
       " 0.8093776126135616,\n",
       " 0.9307128198810003,\n",
       " 0.5449943454457171,\n",
       " 0.52,\n",
       " 0.9162123272582859,\n",
       " 0.6276928650838554,\n",
       " 0.6253048133819024,\n",
       " 0.700063298193493,\n",
       " 0.5675,\n",
       " 0.8682857142857142,\n",
       " 0.7878585427226608,\n",
       " 0.9313114941317029,\n",
       " 0.572054991087344,\n",
       " 0.5785385878489326,\n",
       " 0.85,\n",
       " 0.8356761241742309,\n",
       " 0.8133333333333335,\n",
       " 0.9256608785130876,\n",
       " 0.9179657427664815,\n",
       " 0.5485964742938472,\n",
       " 0.9565557882011008,\n",
       " 0.518704490816051,\n",
       " 0.8424384762364798,\n",
       " 0.8803688831753107,\n",
       " 0.8932496389105998,\n",
       " 0.8793548387096775,\n",
       " 0.62,\n",
       " 0.6430009305210918,\n",
       " 0.7581953867028495,\n",
       " 0.5410249042145594,\n",
       " 0.9898019801980198,\n",
       " 0.8322971478976442,\n",
       " 0.6279303030303031,\n",
       " 0.8303069646420224,\n",
       " 0.7382305329719963,\n",
       " 0.922449726504156,\n",
       " 0.8867349525871617,\n",
       " 0.6692054794520547,\n",
       " 0.8575944785573786,\n",
       " 0.9885542666075644,\n",
       " 0.605,\n",
       " 0.7814978768866928,\n",
       " 0.9716730474190299,\n",
       " 0.5509888895903037,\n",
       " 0.7124783432160846,\n",
       " 0.54,\n",
       " 0.6003819500402902,\n",
       " 0.7733333333333334,\n",
       " 0.8082610350076104,\n",
       " 0.7208382666751852,\n",
       " 0.5920645161290322,\n",
       " 0.8888569253920761,\n",
       " 0.6261222911623612,\n",
       " 0.9494174757281553,\n",
       " 0.5261343953204418,\n",
       " 0.553555346070052,\n",
       " 0.753184151938137,\n",
       " 0.5921452521244188,\n",
       " 0.6868820128965367,\n",
       " 0.52,\n",
       " 0.9247496485394042,\n",
       " 0.7945721009493515,\n",
       " 0.7754002914412876,\n",
       " 0.7353099665617475,\n",
       " 0.7113900332478003,\n",
       " 0.6019188172043011,\n",
       " 0.657265923842247,\n",
       " 0.5294068200988019,\n",
       " 0.5099444200113716,\n",
       " 0.7342269546501465,\n",
       " 0.5587132352941176,\n",
       " 0.892052713845313,\n",
       " 0.5190666666666667,\n",
       " 0.5699313074724839,\n",
       " 0.9982592407592408,\n",
       " 0.7482722162124795,\n",
       " 0.77,\n",
       " 0.9200760955681819,\n",
       " 0.8374519230769231,\n",
       " 0.9162024783956839,\n",
       " 0.857583898452443,\n",
       " 0.8953745961777153,\n",
       " 0.6315942591783571,\n",
       " 0.87125,\n",
       " 0.815737033065631,\n",
       " 0.8112433862433863,\n",
       " 0.5517013832930432,\n",
       " 0.7861727963133663,\n",
       " 0.6208452831756517,\n",
       " 0.78788310073531,\n",
       " 0.69,\n",
       " 0.73,\n",
       " 0.5862561994609164,\n",
       " 0.6176543209876543,\n",
       " 0.8450810243409496,\n",
       " 0.59,\n",
       " 0.5015191633519854,\n",
       " 0.8800388127853881,\n",
       " 0.6962703924162257,\n",
       " 0.6769181764234282,\n",
       " 0.7393548387096774,\n",
       " 0.6152656418543478,\n",
       " 0.6965934065934065,\n",
       " 0.6302517152142514,\n",
       " 0.5706699588959272,\n",
       " 0.5816863535514787,\n",
       " 0.8464760209288056,\n",
       " 0.9891713790030983,\n",
       " 0.7019167832167832,\n",
       " 0.64,\n",
       " 0.5099233449477352,\n",
       " 0.5621614438905105,\n",
       " 0.5851919191919192,\n",
       " 0.6499137931034482,\n",
       " 0.569740896325208,\n",
       " 0.8283694750184325,\n",
       " 0.8,\n",
       " 0.7335929878048781,\n",
       " 0.5022823487825672,\n",
       " 0.8603703703703703,\n",
       " 0.7003606031082157,\n",
       " 0.9535741967430187,\n",
       " 0.8278205128205128,\n",
       " 0.5006309441818858,\n",
       " 0.5760656084656085,\n",
       " 0.5084025490491244,\n",
       " 0.8433333333333333,\n",
       " 0.8085072951739619,\n",
       " 0.6808876357375081,\n",
       " 0.857912587295192,\n",
       " 0.5895081967213115,\n",
       " 0.8549092639107139,\n",
       " 0.65,\n",
       " 0.7023412474040326,\n",
       " 0.522,\n",
       " 0.7371724412584628,\n",
       " 0.8470315664085766,\n",
       " 0.75197037470726,\n",
       " 0.5497610350076104,\n",
       " 0.8555423720594029,\n",
       " 0.78,\n",
       " 0.55,\n",
       " 0.6144865483862552,\n",
       " 0.6656521227392509,\n",
       " 0.5396875,\n",
       " 0.6434296718573631,\n",
       " 0.8607980794912499,\n",
       " 0.57,\n",
       " 0.6764056609454984,\n",
       " 0.9419844163170765,\n",
       " 0.9191574025289778,\n",
       " 0.6147916666666667,\n",
       " 0.7789656862745099,\n",
       " 0.9259021233963839,\n",
       " 0.660572559287348,\n",
       " 0.964056751065092,\n",
       " 0.7956322751322752,\n",
       " 0.743,\n",
       " 0.8590654427068367,\n",
       " 0.5304484848484848,\n",
       " 0.6192054794520548,\n",
       " 0.692063011104066,\n",
       " 0.7859268015509825,\n",
       " 0.58,\n",
       " 0.8625027256001903,\n",
       " 0.7363904798088657,\n",
       " 0.7644789837255591,\n",
       " 0.891403912342479,\n",
       " 0.7262945973591299,\n",
       " 0.8763222858139433,\n",
       " 0.6288884744884745,\n",
       " 0.9282592407592408,\n",
       " 0.9798019801980198,\n",
       " 0.7997142857142857,\n",
       " 0.9594174757281553,\n",
       " 0.6707878273687098,\n",
       " 0.7472003371634537,\n",
       " 0.7945457759926975,\n",
       " 0.594128417703361,\n",
       " 0.5394957592339261,\n",
       " 0.7574217628481194,\n",
       " 0.71,\n",
       " 0.8053624960710357,\n",
       " 0.5,\n",
       " 0.8570322768376758,\n",
       " 0.7944249960710357,\n",
       " 0.5162920671243326,\n",
       " 0.67,\n",
       " 0.6924388325757677,\n",
       " 0.6233158526342306,\n",
       " 0.9786902878835813,\n",
       " 0.8313252789941008,\n",
       " 0.6736974913855382,\n",
       " 0.5924144144144143,\n",
       " 0.689223307565656,\n",
       " 0.7397887323943663,\n",
       " 0.9888287475309602,\n",
       " 0.889840811965812,\n",
       " 0.5249023423944477,\n",
       " 0.5286586378737541,\n",
       " 0.6285232067510549,\n",
       " 0.678974358974359,\n",
       " 0.5545728082897599,\n",
       " 0.7433212480657005,\n",
       " 0.8329834894854996,\n",
       " 0.71,\n",
       " 0.5455,\n",
       " 0.9224243770317629,\n",
       " 0.8502477769894345,\n",
       " 0.7489715309200602,\n",
       " 0.7501688311688313,\n",
       " 0.7671526326933936,\n",
       " 0.807880259708985,\n",
       " 0.5277490740740741,\n",
       " 0.77,\n",
       " 0.6696232362395708,\n",
       " 0.55,\n",
       " 0.9690943683409436,\n",
       " 0.8779013075667974,\n",
       " 0.7988350238122329,\n",
       " 0.6190788206545307,\n",
       " 0.6705887392835922,\n",
       " 0.9388358377521513,\n",
       " 0.566407039337474,\n",
       " 0.7755992842923243,\n",
       " 0.925731612376925,\n",
       " 0.7520670995670996,\n",
       " 0.9555870209265811,\n",
       " 0.9834165210758127,\n",
       " 0.8894174757281553,\n",
       " 0.693498400096959,\n",
       " 0.72,\n",
       " 0.7848434404756154,\n",
       " 0.9492195121951219,\n",
       " 0.93875,\n",
       " 0.5994155495231444,\n",
       " 0.6065303438558702,\n",
       " 0.5303562986727325,\n",
       " 0.906946233321841,\n",
       " 0.6263008948545861,\n",
       " 0.71,\n",
       " 0.73537404505217,\n",
       " 0.7815584206285254,\n",
       " 0.5980184108527132,\n",
       " 0.8069772479412933,\n",
       " 0.57,\n",
       " 0.5713163536524812,\n",
       " 0.9390202942668695,\n",
       " 0.6267025088804801,\n",
       " 0.5931792752493857,\n",
       " 0.9187077942668695,\n",
       " 0.5483853001080249,\n",
       " 0.6342529145903606,\n",
       " 0.95,\n",
       " 0.9897247706422019,\n",
       " 0.5998484848484849,\n",
       " 0.5647999906205543,\n",
       " 0.757888888888889,\n",
       " 0.677037037037037,\n",
       " 0.7924860081127416,\n",
       " 0.7364636090379426,\n",
       " 0.9369474932702252,\n",
       " 0.8525775760704637,\n",
       " 0.67,\n",
       " 0.7233048508864275,\n",
       " 0.881705088235469,\n",
       " 0.8313797567223611,\n",
       " 0.642751963545908,\n",
       " 0.8981461722592914,\n",
       " 0.6398148148148148,\n",
       " 0.7904213273676362,\n",
       " 0.8736695513258899,\n",
       " 0.9789461349233441,\n",
       " 0.91,\n",
       " 0.8789461349233442,\n",
       " 0.5183333333333333,\n",
       " 0.5889227053140097,\n",
       " 0.6276850877192982,\n",
       " 0.7941903518100462,\n",
       " 0.8957864781085151,\n",
       " 0.7328515249208971,\n",
       " 0.52,\n",
       " 0.9486485018445231,\n",
       " 0.89,\n",
       " 0.5959908913893277,\n",
       " 0.56991614115935,\n",
       " 0.9088350238122331,\n",
       " 0.668974358974359,\n",
       " 0.7055236903279285,\n",
       " 0.8261641123882503,\n",
       " 0.6894767441860465,\n",
       " 0.858225087295192,\n",
       " 0.6377851728862707,\n",
       " 0.5478544061302683,\n",
       " 0.7477205490405118,\n",
       " 0.7897106513410379,\n",
       " 0.7753799578207554,\n",
       " 0.5155028058361392,\n",
       " 0.6578947574718275,\n",
       " 0.7783946067251932,\n",
       " 0.6784615384615384,\n",
       " 0.852458936924252,\n",
       " 0.6486846649781256,\n",
       " 0.7908240691956445,\n",
       " 0.559515909090909,\n",
       " 0.5654705882352942,\n",
       " 0.7183569661099561,\n",
       " 0.7494686468646864,\n",
       " 0.6999826797889602,\n",
       " 0.5703819500402901,\n",
       " 0.7417579110666662,\n",
       " 0.6458174680945382,\n",
       " 0.7212043631215411,\n",
       " 0.6837284348544085,\n",
       " 0.64,\n",
       " 0.9441164091106695,\n",
       " 0.5953186868686868,\n",
       " 0.6093863911329664,\n",
       " 0.7283699633699634,\n",
       " 0.6838864475488644,\n",
       " 0.65,\n",
       " 0.7139593067188085,\n",
       " 0.8390958788898234,\n",
       " 0.5508074475391179,\n",
       " 0.8714346451416738,\n",
       " 0.6518974533443224,\n",
       " 0.7668208640674393,\n",
       " 0.75,\n",
       " 0.7971428571428573,\n",
       " 0.893481711846421,\n",
       " 0.7414265793867052,\n",
       " 0.8420978531898072,\n",
       " 0.829491440682973,\n",
       " 0.517607398873528,\n",
       " 0.9490625,\n",
       " 0.9768340006645871,\n",
       " 0.6569440914426197,\n",
       " 0.6896296296296296,\n",
       " 0.855581136679927,\n",
       " 0.6168598004397091,\n",
       " 0.7155,\n",
       " 0.6,\n",
       " 0.7,\n",
       " 0.5509147159927975,\n",
       " 0.8589553990610329,\n",
       " 0.861904761904762,\n",
       " 0.9280455586745745,\n",
       " 0.6531904223333709,\n",
       " 0.7430288849081953,\n",
       " 0.5004285714285713,\n",
       " 0.6686657718120804,\n",
       " 0.6106126426461447,\n",
       " 0.5627673916585207,\n",
       " 0.8017980794912498,\n",
       " 0.7835045336604594,\n",
       " 0.53,\n",
       " 0.94,\n",
       " 0.6872714748500496,\n",
       " 0.8087666034155597,\n",
       " 0.5840465175925315,\n",
       " 0.5233333333333333,\n",
       " 0.9946524156573144,\n",
       " 0.6918996023006564,\n",
       " 0.6088517441860465,\n",
       " 0.831585144170152,\n",
       " 0.6070864020260492,\n",
       " 0.7311058690961199,\n",
       " 0.5320627702926101,\n",
       " 0.8740603328710125,\n",
       " 0.7268071271412856,\n",
       " 0.7899137931034482,\n",
       " 0.6360514152207662,\n",
       " 0.8488009716850342,\n",
       " 0.5326710655825176,\n",
       " 0.948681711846421,\n",
       " 0.9620184583278113,\n",
       " 0.8054761904761903,\n",
       " 0.740343850683403,\n",
       " 0.72,\n",
       " 0.9069094969923096,\n",
       " 0.5156515423779575,\n",
       " 0.8588433892620416,\n",
       " 0.6281390767777243,\n",
       " 0.58,\n",
       " 0.7544836209052264,\n",
       " 0.544119055537752,\n",
       " 0.7555303030303031,\n",
       " 0.5197537313432836,\n",
       " 0.6239197361126202,\n",
       " 0.7015220361335541,\n",
       " 0.7025719377786805,\n",
       " 0.5151315670312863,\n",
       " 0.7884911937377691,\n",
       " 0.5438016982742679,\n",
       " 0.9977353769627233,\n",
       " 0.7388810433021373,\n",
       " 0.96,\n",
       " 0.5689325593395252,\n",
       " 0.8863888888888889,\n",
       " 0.9474217628481193,\n",
       " 0.848521505376344,\n",
       " 0.6492079207920792,\n",
       " 0.52229614948939,\n",
       " 0.7252827380952381,\n",
       " 0.55,\n",
       " 0.7189609579182146,\n",
       " 0.9546524156573143,\n",
       " 0.54,\n",
       " 0.6623110295508471,\n",
       " 0.7306221493127387,\n",
       " 0.9487160969346813,\n",
       " 0.9753479224081916,\n",
       " 0.5719314776726542,\n",
       " 0.63,\n",
       " 0.6881743384599451,\n",
       " 0.9258831007353098,\n",
       " 0.8250558969107357,\n",
       " 0.7098019801980198,\n",
       " 0.8395628957378964,\n",
       " 0.7994623655913977,\n",
       " 0.724906882591093,\n",
       " 0.9793439463163907,\n",
       " 0.6692682926829268,\n",
       " 0.5466666666666667,\n",
       " 0.7570989196857266,\n",
       " 0.821273328673523,\n",
       " 0.634092401500938,\n",
       " 0.8209993491312972,\n",
       " 0.56,\n",
       " 0.6913956043956044,\n",
       " 0.69,\n",
       " 0.7288358377521513,\n",
       " 0.8604342991258371,\n",
       " 0.5498611872146119,\n",
       " 0.6345176595620778,\n",
       " 0.9346208456409202,\n",
       " 0.6843956043956044,\n",
       " 0.71,\n",
       " 0.7445326224448453,\n",
       " 0.889888888888889,\n",
       " 0.9798019801980198,\n",
       " 0.5108404558404558,\n",
       " 0.6438071637426901,\n",
       " 0.8252095939235806,\n",
       " 0.6648509627268824,\n",
       " 0.7255373342747312,\n",
       " 0.8405016904788997,\n",
       " 0.5977316509608454,\n",
       " 0.57,\n",
       " 0.9490943683409436,\n",
       " 0.7101867985262751,\n",
       " 0.78,\n",
       " 0.8271101357521792,\n",
       " 0.7893548387096775,\n",
       " 0.5695561742548313,\n",
       " 0.8190943683409436,\n",
       " 0.9773600694484351,\n",
       " 0.6487666034155598,\n",
       " 0.9772837026607089,\n",
       " 0.8690852322524103,\n",
       " 0.7143080824667031,\n",
       " 0.9416185897435896,\n",
       " 0.5279370590828925,\n",
       " 0.8358919862175257,\n",
       " 0.7016209306809063,\n",
       " 0.9142331768388107,\n",
       " 0.6520790544086214,\n",
       " 0.9372195121951219,\n",
       " 0.5897247706422019,\n",
       " 0.849951923076923,\n",
       " 0.7526427308323861,\n",
       " 0.8411111111111111,\n",
       " 0.8767553197363135,\n",
       " 0.670929151915513,\n",
       " 0.6239655172413793,\n",
       " 0.6636030940462949,\n",
       " 0.5984396910279263,\n",
       " 0.9338947679353166,\n",
       " 0.6587000000000001,\n",
       " 0.6586594080765861,\n",
       " 0.804151486097795,\n",
       " 0.7078368995223765,\n",
       " 0.6622232304900182,\n",
       " 0.5475063614367219,\n",
       " 0.6525899786543409,\n",
       " 0.7168010856704279,\n",
       " 0.7779494579825615,\n",
       " 0.9677637755841374,\n",
       " 0.9892195121951219,\n",
       " 0.8358360007081527,\n",
       " 0.8118723783743884,\n",
       " 0.5706484252056502,\n",
       " 0.5456153601926083,\n",
       " 0.8861899343618227,\n",
       " 0.8053196209587514,\n",
       " 0.893747404439348,\n",
       " 0.7785543430335096,\n",
       " 0.6156876483320799,\n",
       " 0.7355889709739466,\n",
       " 0.703656130473405,\n",
       " 0.5492708333333334,\n",
       " 0.7621576667350176,\n",
       " 0.8164149942733967,\n",
       " 0.63,\n",
       " 0.7628122073543551,\n",
       " 0.5961005202006042,\n",
       " 0.5933788053170661,\n",
       " 0.59,\n",
       " 0.6327694584480252,\n",
       " 0.599283165586028,\n",
       " 0.7198148148148148,\n",
       " 0.5976315789473684,\n",
       " 0.5948213216075598,\n",
       " 0.8648514688227118,\n",
       " 0.9067703703703703,\n",
       " 0.6384782608695653,\n",
       " 0.5727945402298851,\n",
       " 0.6365363920886673,\n",
       " 0.9266047110016917,\n",
       " 0.929821457503145,\n",
       " 0.78,\n",
       " 0.8911577676831309,\n",
       " 0.579244022240699,\n",
       " 0.8287666034155597,\n",
       " 0.8103748700587164,\n",
       " 0.7119885874246339,\n",
       " 0.6661666666666668,\n",
       " 0.7528196912633977,\n",
       " 0.9676649544275119,\n",
       " 0.5011606667730949,\n",
       " 0.7179445444367576,\n",
       " 0.5264271954630565,\n",
       " 0.7035679178891754,\n",
       " 0.5230568458068459,\n",
       " 0.8699585518459791,\n",
       " 0.8897268883058722,\n",
       " 0.9950838471791502,\n",
       " 0.5436492220650636,\n",
       " 0.7215047525605334,\n",
       " 0.9497406554712893,\n",
       " 0.9892054794520547,\n",
       " 0.5926359504884082,\n",
       " 0.6329117790811339,\n",
       " 0.65,\n",
       " 0.95,\n",
       " 0.7672651025883019,\n",
       " 0.6169129353233831,\n",
       " 0.7378354547274263,\n",
       " 0.828771144278607,\n",
       " 0.6861666666666667,\n",
       " 0.76332496998331,\n",
       " 0.5087442878903274,\n",
       " 0.6609547712625685,\n",
       " 0.5774709851551958,\n",
       " 0.5592848970251716,\n",
       " 0.9226932017906665,\n",
       " 0.5855993628036639,\n",
       " 0.8976470588235295,\n",
       " 0.8446177863328884,\n",
       " 0.5,\n",
       " 0.9755921177067012,\n",
       " 0.6890180473743577,\n",
       " 0.6829519954966886,\n",
       " 0.8658775641025642,\n",
       " 0.9773259074259074,\n",
       " 0.7841057555524839,\n",
       " 0.836997078005416,\n",
       " 0.7455571370800145,\n",
       " 0.9066708508973312,\n",
       " 0.9084958402375034,\n",
       " 0.6183998435054773,\n",
       " 0.7087306011303722,\n",
       " 0.9674608361617597,\n",
       " 0.5388666746186438,\n",
       " 0.9897539032749428,\n",
       " 0.68739253611291,\n",
       " 0.748077558218128,\n",
       " 0.610925925925926,\n",
       " 0.9867164447154022,\n",
       " 0.6998678575228543,\n",
       " 0.5428571428571428,\n",
       " 0.55,\n",
       " 0.6273101265822785,\n",
       " 0.6883345100323243,\n",
       " 0.7634208200787012,\n",
       " 0.6116956199476525,\n",
       " 0.8362616006114204,\n",
       " 0.7606262476085979,\n",
       " 0.7564760312151617,\n",
       " 0.9167955136739723,\n",
       " 0.835,\n",
       " 0.7815811029697818,\n",
       " 0.8569719014111835,\n",
       " 0.5668092303273289,\n",
       " 0.6749684864134318,\n",
       " 0.6192079207920792,\n",
       " 0.5426645193886572,\n",
       " 0.7088716591895432,\n",
       " 0.5908571428571429,\n",
       " 0.6776543209876543,\n",
       " 0.8397155807198982,\n",
       " 0.798319357092942,\n",
       " 0.589904139173998,\n",
       " 0.6651968295711499,\n",
       " 0.5158274070554558,\n",
       " 0.8112462890816882,\n",
       " 0.7124399252253808,\n",
       " 0.6414927052278574,\n",
       " 0.9338334531390905,\n",
       " 0.6840633268701585,\n",
       " 0.7533574155121646,\n",
       " 0.7575006299506469,\n",
       " 0.9386160714285714,\n",
       " 0.8256813051327818,\n",
       " 0.8480138196895582,\n",
       " 0.7064608041769855,\n",
       " 0.6278179400113185,\n",
       " 0.8283498604685882,\n",
       " 0.7862432798286091,\n",
       " 0.889104938271605,\n",
       " 0.6963956043956044,\n",
       " 0.905564840007262,\n",
       " 0.572287615990233,\n",
       " 0.649081425891182,\n",
       " 0.6732014375561545,\n",
       " 0.59,\n",
       " 0.8017432950191571,\n",
       " 0.7622651909494015,\n",
       " 0.5938240054634477,\n",
       " 0.7534818346729654,\n",
       " 0.6874965323704106,\n",
       " 0.8605937999952696,\n",
       " 0.5168598004397091,\n",
       " 0.7542249076950165,\n",
       " 0.6300925925925926,\n",
       " 0.53,\n",
       " ...]"
      ]
     },
     "execution_count": 32,
     "metadata": {},
     "output_type": "execute_result"
    }
   ],
   "source": [
    "prob=[]\n",
    "for i,j in y_prob:\n",
    "    if i>j:\n",
    "        prob.append(i)\n",
    "    else:\n",
    "        prob.append(j)\n",
    "prob      "
   ]
  },
  {
   "cell_type": "markdown",
   "id": "9fa78d1f",
   "metadata": {
    "papermill": {
     "duration": 0.018933,
     "end_time": "2022-12-14T23:05:37.786613",
     "exception": false,
     "start_time": "2022-12-14T23:05:37.767680",
     "status": "completed"
    },
    "tags": []
   },
   "source": [
    "# y_prob to csv"
   ]
  },
  {
   "cell_type": "code",
   "execution_count": 33,
   "id": "78d21208",
   "metadata": {
    "execution": {
     "iopub.execute_input": "2022-12-14T23:05:37.826297Z",
     "iopub.status.busy": "2022-12-14T23:05:37.825828Z",
     "iopub.status.idle": "2022-12-14T23:05:37.867629Z",
     "shell.execute_reply": "2022-12-14T23:05:37.866392Z"
    },
    "papermill": {
     "duration": 0.065388,
     "end_time": "2022-12-14T23:05:37.870790",
     "exception": false,
     "start_time": "2022-12-14T23:05:37.805402",
     "status": "completed"
    },
    "tags": []
   },
   "outputs": [
    {
     "data": {
      "text/html": [
       "<div>\n",
       "<style scoped>\n",
       "    .dataframe tbody tr th:only-of-type {\n",
       "        vertical-align: middle;\n",
       "    }\n",
       "\n",
       "    .dataframe tbody tr th {\n",
       "        vertical-align: top;\n",
       "    }\n",
       "\n",
       "    .dataframe thead th {\n",
       "        text-align: right;\n",
       "    }\n",
       "</style>\n",
       "<table border=\"1\" class=\"dataframe\">\n",
       "  <thead>\n",
       "    <tr style=\"text-align: right;\">\n",
       "      <th></th>\n",
       "      <th>PredictedProbability</th>\n",
       "    </tr>\n",
       "    <tr>\n",
       "      <th>MoleculeId</th>\n",
       "      <th></th>\n",
       "    </tr>\n",
       "  </thead>\n",
       "  <tbody>\n",
       "    <tr>\n",
       "      <th>1</th>\n",
       "      <td>0.870000</td>\n",
       "    </tr>\n",
       "    <tr>\n",
       "      <th>2</th>\n",
       "      <td>0.849157</td>\n",
       "    </tr>\n",
       "    <tr>\n",
       "      <th>3</th>\n",
       "      <td>0.600549</td>\n",
       "    </tr>\n",
       "    <tr>\n",
       "      <th>4</th>\n",
       "      <td>0.889566</td>\n",
       "    </tr>\n",
       "    <tr>\n",
       "      <th>5</th>\n",
       "      <td>0.842434</td>\n",
       "    </tr>\n",
       "    <tr>\n",
       "      <th>...</th>\n",
       "      <td>...</td>\n",
       "    </tr>\n",
       "    <tr>\n",
       "      <th>2497</th>\n",
       "      <td>0.712727</td>\n",
       "    </tr>\n",
       "    <tr>\n",
       "      <th>2498</th>\n",
       "      <td>0.793618</td>\n",
       "    </tr>\n",
       "    <tr>\n",
       "      <th>2499</th>\n",
       "      <td>0.971738</td>\n",
       "    </tr>\n",
       "    <tr>\n",
       "      <th>2500</th>\n",
       "      <td>0.584294</td>\n",
       "    </tr>\n",
       "    <tr>\n",
       "      <th>2501</th>\n",
       "      <td>0.724465</td>\n",
       "    </tr>\n",
       "  </tbody>\n",
       "</table>\n",
       "<p>2501 rows × 1 columns</p>\n",
       "</div>"
      ],
      "text/plain": [
       "            PredictedProbability\n",
       "MoleculeId                      \n",
       "1                       0.870000\n",
       "2                       0.849157\n",
       "3                       0.600549\n",
       "4                       0.889566\n",
       "5                       0.842434\n",
       "...                          ...\n",
       "2497                    0.712727\n",
       "2498                    0.793618\n",
       "2499                    0.971738\n",
       "2500                    0.584294\n",
       "2501                    0.724465\n",
       "\n",
       "[2501 rows x 1 columns]"
      ]
     },
     "execution_count": 33,
     "metadata": {},
     "output_type": "execute_result"
    }
   ],
   "source": [
    "MoleculeId=list(range(1,test_data.shape[0]+1))\n",
    "submission=pd.DataFrame(prob,columns=['PredictedProbability'])\n",
    "submission['MoleculeId']=MoleculeId\n",
    "submission.to_csv('1.csv')\n",
    "submission=pd.read_csv('1.csv',index_col='MoleculeId')\n",
    "submission=submission.drop('Unnamed: 0',axis=1)\n",
    "submission.to_csv('/kaggle/working/svm_benchmark.csv')\n",
    "submission"
   ]
  }
 ],
 "metadata": {
  "kernelspec": {
   "display_name": "Python 3",
   "language": "python",
   "name": "python3"
  },
  "language_info": {
   "codemirror_mode": {
    "name": "ipython",
    "version": 3
   },
   "file_extension": ".py",
   "mimetype": "text/x-python",
   "name": "python",
   "nbconvert_exporter": "python",
   "pygments_lexer": "ipython3",
   "version": "3.7.12"
  },
  "papermill": {
   "default_parameters": {},
   "duration": 61.094235,
   "end_time": "2022-12-14T23:05:39.016337",
   "environment_variables": {},
   "exception": null,
   "input_path": "__notebook__.ipynb",
   "output_path": "__notebook__.ipynb",
   "parameters": {},
   "start_time": "2022-12-14T23:04:37.922102",
   "version": "2.3.4"
  }
 },
 "nbformat": 4,
 "nbformat_minor": 5
}
